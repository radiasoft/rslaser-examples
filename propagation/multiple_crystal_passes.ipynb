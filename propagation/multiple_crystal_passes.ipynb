{
 "cells": [
  {
   "cell_type": "markdown",
   "id": "2c707f40-45a9-4323-a433-97394d20731c",
   "metadata": {},
   "source": [
    "<div class=\"alert alert-block alert-info\">\n",
    "<p style=\"font-size:24px;text-align:center\"><b>Multiple passes of function-initialized laser through a single crystal</b>\n",
    "<br>One pass of the laser pulse is: drift from mirror to crystal, propagation through crystal, drift to mirror and reflect\n",
    "</div>"
   ]
  },
  {
   "cell_type": "code",
   "execution_count": null,
   "id": "9fd1a9ec-537f-4131-8c11-9910e9950f63",
   "metadata": {
    "jupyter": {
     "source_hidden": true
    },
    "tags": []
   },
   "outputs": [],
   "source": [
    "import numpy as np"
   ]
  },
  {
   "cell_type": "code",
   "execution_count": null,
   "id": "a4a50eb7-b35c-413f-9726-1bdc6440d6f5",
   "metadata": {},
   "outputs": [],
   "source": [
    "# Laser pulse\n",
    "set = 'function' # Options: 'old', 'new', 'function'\n",
    "num_laser_slices = 20\n",
    "pulse_ncells = 256\n",
    "\n",
    "# Crystal\n",
    "prop_type = 'n0n2_srw' # Options: 'gain_calc' 'abcd_lct' 'n0n2_lct' 'n0n2_srw'\n",
    "pump_type = 'dual' # Options: 'dual' 'left' 'right'\n",
    "num_crystal_slices = 10\n",
    "gain = 1\n",
    "radial_n2 = 1\n",
    "\n",
    "# Drift\n",
    "L_drift = 0.1 #[m]\n",
    "\n",
    "num_passes = 3\n",
    "\n",
    "# Array of which longitudinal pulse distributions to plot\n",
    "#    maximum value is num_passes\n",
    "prop_array = np.array([0, num_passes])"
   ]
  },
  {
   "cell_type": "markdown",
   "id": "30b43874-9646-4286-8ca1-d022fe692af0",
   "metadata": {},
   "source": [
    "### Imports, Files, Crystal/Laser Params"
   ]
  },
  {
   "cell_type": "code",
   "execution_count": null,
   "id": "802c8d48-0e57-429c-afb7-597d87f57d9e",
   "metadata": {
    "jupyter": {
     "source_hidden": true
    },
    "tags": []
   },
   "outputs": [],
   "source": [
    "import sys, copy\n",
    "from pykern.pkcollections import PKDict\n",
    "import os\n",
    "\n",
    "# The rslaser library may not be installed, so a check is required.\n",
    "try:\n",
    "    import rslaser\n",
    "except:\n",
    "    # Developers should use 'pip install -e .' from the command line.\n",
    "    # Users can install directly from GitHub --\n",
    "    !{sys.executable} -m pip install git+https://github.com/radiasoft/rslaser.git\n",
    "    import rslaser\n",
    "\n",
    "from rslaser.pulse import pulse\n",
    "from rslaser.optics import crystal\n",
    "from rslaser.optics import lens\n",
    "import rslaser.utils.srwl_uti_data as srwutil\n",
    "import uti_plot\n",
    "\n",
    "import srwlib\n",
    "\n",
    "import scipy.constants as const\n",
    "from scipy import interpolate\n",
    "from scipy import special\n",
    "\n",
    "# 2D plotting\n",
    "import matplotlib as mpl\n",
    "import matplotlib.pyplot as plt\n",
    "from matplotlib import cm\n",
    "\n",
    "# reset the notebook style\n",
    "mpl.rcParams.update(mpl.rcParamsDefault)\n",
    "plt.rcParams['pcolor.shading'] ='auto'\n",
    "%matplotlib inline"
   ]
  },
  {
   "cell_type": "code",
   "execution_count": null,
   "id": "bd1e044a-a04f-4e04-8f74-02ecd982ebf2",
   "metadata": {
    "jupyter": {
     "source_hidden": true
    },
    "tags": []
   },
   "outputs": [],
   "source": [
    "if set == 'old':\n",
    "    package_data_dir = rslaser.pkg_resources.resource_filename ('rslaser', 'package_data/20220218')\n",
    "    ccd_name = 'photon_count_pump_off.txt'\n",
    "    wfs_name = 'phase_pump_off.txt'\n",
    "elif set == 'new':\n",
    "    package_data_dir = rslaser.pkg_resources.resource_filename ('rslaser', 'package_data/20220519')\n",
    "    ccd_name = 'cut_photon_count_seed_laser.txt'\n",
    "    wfs_name = 'phase_pump_off_zeroed.txt'    \n",
    "\n",
    "if set != 'function':\n",
    "    files = PKDict(\n",
    "        meta = os.path.join(package_data_dir, 'meta_data.dat'),\n",
    "        ccd = os.path.join(package_data_dir, ccd_name),\n",
    "        wfs = os.path.join(package_data_dir, wfs_name)\n",
    "    )\n",
    "\n",
    "z       = np.array([ 0.0,  0.5,  1.0, 1.5, 2.0, 2.5])/100.0\n",
    "n2_plot = np.array([30.5, 18.3, 10.4, 5.9, 3.3, 1.9])\n",
    "plot_fit = interpolate.splrep(z, n2_plot)"
   ]
  },
  {
   "cell_type": "code",
   "execution_count": null,
   "id": "70c8dbb0-cf24-408c-b0eb-b683a0dd1650",
   "metadata": {
    "tags": []
   },
   "outputs": [],
   "source": [
    "w0 = 1.64e-3\n",
    "\n",
    "params = PKDict(\n",
    "    photon_e_ev = 1.5498, # Photon energy [eV], calculated from 800nm wavelength\n",
    "    nslice      = num_laser_slices,\n",
    "    pulseE      = 1.0e-6,\n",
    "    tau_fwhm    = 300.0e-12 / np.sqrt(2.),\n",
    "    tau_0       = 300.0e-12 / np.sqrt(2.),\n",
    "    sigx_waist  = w0,\n",
    "    sigy_waist  = w0,\n",
    "    nx_slice    = pulse_ncells,\n",
    ")\n",
    "\n",
    "L_cryst = 0.025\n",
    "new_z = (L_cryst /num_crystal_slices) *(np.arange(num_crystal_slices)+0.5)\n",
    "\n",
    "crystal_params = PKDict(\n",
    "    length      = L_cryst, # [m]\n",
    "    nslice      = num_crystal_slices,\n",
    "    n0          = [1.76 for _ in range(num_crystal_slices)],\n",
    "    n2          = interpolate.splev(new_z, plot_fit).tolist(),\n",
    "    l_scale     = 0.001,\n",
    "    pop_inversion_n_cells=64,\n",
    "    pop_inversion_mesh_extent=0.01,  # [m]\n",
    "    pop_inversion_crystal_alpha=120.0,  # [1/m], 1.2 1/cm\n",
    "    pop_inversion_pump_waist=1.43e-3,  # [m]\n",
    "    pop_inversion_pump_wavelength=532.0e-9,  # [m]\n",
    "    pop_inversion_pump_energy=0.035,  # [J], pump laser energy onto the crystal\n",
    "    pop_inversion_pump_type=pump_type,\n",
    "    pop_inversion_pump_gaussian_order=2.0,\n",
    "    pop_inversion_pump_offset_x=0.0e-3,\n",
    "    pop_inversion_pump_offset_y=0.0e-3,\n",
    ")\n",
    "\n",
    "cell_dx = (2.0 *crystal_params.pop_inversion_mesh_extent)/crystal_params.pop_inversion_n_cells\n",
    "cell_volume = cell_dx**2.0 *(crystal_params.length /crystal_params.nslice)"
   ]
  },
  {
   "cell_type": "markdown",
   "id": "b603b21e-5007-40e5-abf5-2faee0651eca",
   "metadata": {},
   "source": [
    "***\n",
    "## Initial Intensity and Phase"
   ]
  },
  {
   "cell_type": "code",
   "execution_count": null,
   "id": "25a7bf69-5b40-4ac1-9cdb-5971d3c3d426",
   "metadata": {
    "jupyter": {
     "source_hidden": true
    },
    "tags": []
   },
   "outputs": [],
   "source": [
    "# Initialize laser pulse\n",
    "if set == 'function':\n",
    "    thisPulse = pulse.LaserPulse(params)\n",
    "else:\n",
    "    thisPulse = pulse.LaserPulse(params, files)\n",
    "\n",
    "thisPulse.zero_phase()\n",
    "\n",
    "# Plot wavefront\n",
    "lp_wfr_x = np.linspace(thisPulse.slice[0].wfr.mesh.xStart,thisPulse.slice[0].wfr.mesh.xFin,thisPulse.slice[0].wfr.mesh.nx)\n",
    "lp_wfr_y = np.linspace(thisPulse.slice[0].wfr.mesh.yStart,thisPulse.slice[0].wfr.mesh.yFin,thisPulse.slice[0].wfr.mesh.ny)"
   ]
  },
  {
   "cell_type": "code",
   "execution_count": null,
   "id": "aa989956-15cb-4d22-87b5-c7a1ee8a3a83",
   "metadata": {
    "tags": []
   },
   "outputs": [],
   "source": [
    "e_total_init = thisPulse.extract_total_2d_elec_fields()\n",
    "intens_2d_init = 0.5 *const.c *const.epsilon_0 *(e_total_init.re**2.0 + e_total_init.im**2.0)\n",
    "\n",
    "intens0 = intens_2d_init.flatten()\n",
    "wfr0 = thisPulse.slice[0].wfr\n",
    "#srwlib.srwl_uti_save_intens_ascii(intens0, wfr0.mesh, 'initial-intensity.dat', 0, ['', 'Horizontal Position', 'Vertical Position', 'Intensity'], _arUnits=['', 'm', 'm', ''])\n",
    "uti_plot.uti_plot2d1d(\n",
    "    intens0,\n",
    "    [wfr0.mesh.xStart, wfr0.mesh.xFin, wfr0.mesh.nx],\n",
    "    [wfr0.mesh.yStart, wfr0.mesh.yFin, wfr0.mesh.ny],\n",
    "    0,\n",
    "    0,\n",
    "    ['Horizontal Position', 'Vertical Position', 'Intensity (initial)'],\n",
    "    ['m', 'm', 'ph/s/.1%bw/mm^2'],\n",
    "    True)\n",
    "\n",
    "with plt.style.context(('seaborn-poster')):\n",
    "    fig = plt.figure(figsize=(4.6 * 2,3.6 * 2))\n",
    "    ax = fig.gca()\n",
    "    plt.pcolormesh(lp_wfr_x*(1e3), lp_wfr_y*(1e3), intens_2d_init, cmap=plt.cm.viridis, shading='auto')\n",
    "    plt.colorbar()\n",
    "    ax.set_ylabel(r'Vertical Position [mm]')\n",
    "    ax.set_xlabel(r'Horizontal Position [mm]')\n",
    "    ax.set_title('Intensity (initial)')"
   ]
  },
  {
   "cell_type": "code",
   "execution_count": null,
   "id": "24efd3bb-71cd-4e7b-9502-072c739c48ce",
   "metadata": {
    "jupyter": {
     "source_hidden": true
    },
    "tags": []
   },
   "outputs": [],
   "source": [
    "phase_2d_init = thisPulse.extract_total_2d_phase()\n",
    "phase0 = phase_2d_init.flatten()\n",
    "wfr0 = thisPulse.slice[0].wfr\n",
    "#srwlib.srwl_uti_save_intens_ascii(phase0, wfr0.mesh, 'initial-phase.dat', 0, ['', 'Horizontal Position', 'Vertical Position', 'Phase'], _arUnits=['', 'm', 'm', 'rad'])\n",
    "uti_plot.uti_plot2d1d(\n",
    "    phase0,\n",
    "    [wfr0.mesh.xStart, wfr0.mesh.xFin, wfr0.mesh.nx],\n",
    "    [wfr0.mesh.yStart, wfr0.mesh.yFin, wfr0.mesh.ny],\n",
    "    0,\n",
    "    0,\n",
    "    ['Horizontal Position', 'Vertical Position', 'Phase (initial)'],\n",
    "    ['m', 'm', ''],\n",
    "    True)\n",
    "\n",
    "with plt.style.context(('seaborn-poster')):\n",
    "    fig = plt.figure(figsize=(4.6 * 2,3.6 * 2))\n",
    "    ax = fig.gca()\n",
    "    plt.pcolormesh(lp_wfr_x*(1e3), lp_wfr_y*(1e3), phase_2d_init, cmap=plt.cm.viridis, shading='auto')\n",
    "    plt.colorbar()\n",
    "    ax.set_ylabel(r'Vertical Position [mm]')\n",
    "    ax.set_xlabel(r'Horizontal Position [mm]')\n",
    "    ax.set_title('Phase (initial)')"
   ]
  },
  {
   "cell_type": "code",
   "execution_count": null,
   "id": "56f3f9f5-faed-4d89-98e3-d5587551e9b3",
   "metadata": {
    "jupyter": {
     "source_hidden": true
    },
    "tags": []
   },
   "outputs": [],
   "source": [
    "rayleigh_length_init = np.pi * (thisPulse.sigx_waist)**2.0 / (thisPulse._lambda0)\n",
    "print('Rayleigh Length:', round(rayleigh_length_init,3), ' m')\n",
    "print('RMS bunch length:', round(thisPulse.sig_s,3), ' m')"
   ]
  },
  {
   "cell_type": "markdown",
   "id": "70aa12a8-38d9-4228-8cd0-9da27569fb57",
   "metadata": {},
   "source": [
    "***\n",
    "## Drift, propagate, drift, reflect"
   ]
  },
  {
   "cell_type": "code",
   "execution_count": null,
   "id": "51c9587a-0a79-441e-9d70-ca23dcbde1d5",
   "metadata": {
    "jupyter": {
     "source_hidden": true
    },
    "tags": []
   },
   "outputs": [],
   "source": [
    "# Initialize laser pulse\n",
    "if set == 'function':\n",
    "    thisPulse = pulse.LaserPulse(params)\n",
    "else:\n",
    "    thisPulse = pulse.LaserPulse(params, files)\n",
    "\n",
    "thisPulse.zero_phase()\n",
    "e_crystal = crystal.Crystal(crystal_params)\n",
    "e_drift = lens.Drift_srw(L_drift)\n",
    "\n",
    "photons_in_slice = np.zeros((num_laser_slices, num_passes + 1))\n",
    "total_n_excited_states = np.zeros(num_passes + 1)\n",
    "\n",
    "print('\\nPropagation Type: ', prop_type, '\\nGain: ', gain, '\\n')\n",
    "for prop_index in np.arange(num_passes + 1):\n",
    "    \n",
    "    for laser_index in np.arange(num_laser_slices):\n",
    "        photons_in_slice[laser_index,prop_index] = np.sum(np.sum(thisPulse.slice[laser_index].n_photons_2d.mesh))\n",
    "    \n",
    "    for crystal_index in np.arange(num_crystal_slices):\n",
    "        total_n_excited_states[prop_index] += np.sum(np.sum(e_crystal.slice[crystal_index].pop_inversion_mesh * cell_volume))\n",
    "\n",
    "    if (prop_index < num_passes):\n",
    "        print('   Pulse direction: ',thisPulse.pulse_direction)\n",
    "        print('Drift')\n",
    "        thisPulse = e_drift.propagate(thisPulse, 'default')\n",
    "        print('Propagating ', num_laser_slices, 'laser slices through ', num_crystal_slices,' crystal slices')\n",
    "        thisPulse = e_crystal.propagate(thisPulse, prop_type, gain, radial_n2)\n",
    "        print('Drift')\n",
    "        thisPulse = e_drift.propagate(thisPulse, 'default')\n",
    "        thisPulse.ideal_mirror_180()\n",
    "        print('Ideal 180 mirror')\n"
   ]
  },
  {
   "cell_type": "code",
   "execution_count": null,
   "id": "443bcc28-768f-44b3-8060-aca886e7cf23",
   "metadata": {
    "jupyter": {
     "source_hidden": true
    },
    "tags": []
   },
   "outputs": [],
   "source": [
    "x_prop = np.linspace(thisPulse.slice[0].wfr.mesh.xStart,thisPulse.slice[0].wfr.mesh.xFin,thisPulse.slice[0].wfr.mesh.nx)\n",
    "y_prop = np.linspace(thisPulse.slice[0].wfr.mesh.yStart,thisPulse.slice[0].wfr.mesh.yFin,thisPulse.slice[0].wfr.mesh.ny)"
   ]
  },
  {
   "cell_type": "code",
   "execution_count": null,
   "id": "ba32f54f-ba53-4e05-ba3f-2e13d1913029",
   "metadata": {
    "jupyter": {
     "source_hidden": true
    },
    "tags": []
   },
   "outputs": [],
   "source": [
    "e_total_prop = thisPulse.extract_total_2d_elec_fields()\n",
    "intens_2d_prop = 0.5 *const.c *const.epsilon_0 *(e_total_prop.re**2.0 + e_total_prop.im**2.0)\n",
    "\n",
    "intens0 = intens_2d_prop.flatten()\n",
    "wfr0 = thisPulse.slice[0].wfr\n",
    "#srwlib.srwl_uti_save_intens_ascii(intens0, wfr0.mesh, 'initial-intensity.dat', 0, ['', 'Horizontal Position', 'Vertical Position', 'Intensity'], _arUnits=['', 'm', 'm', ''])\n",
    "uti_plot.uti_plot2d1d(\n",
    "    intens0,\n",
    "    [wfr0.mesh.xStart, wfr0.mesh.xFin, wfr0.mesh.nx],\n",
    "    [wfr0.mesh.yStart, wfr0.mesh.yFin, wfr0.mesh.ny],\n",
    "    0,\n",
    "    0,\n",
    "    ['Horizontal Position', 'Vertical Position', 'Intensity ({} propagations)'.format(prop_array[-1])],\n",
    "    ['m', 'm', 'ph/s/.1%bw/mm^2'],\n",
    "    True)\n",
    "\n",
    "with plt.style.context(('seaborn-poster')):\n",
    "    fig = plt.figure(figsize=(4.6 * 2,3.6 * 2))\n",
    "    ax = fig.gca()\n",
    "    plt.pcolormesh(x_prop*(1e3), y_prop*(1e3), intens_2d_prop, cmap=plt.cm.viridis, shading='auto')\n",
    "    plt.colorbar()\n",
    "    ax.set_ylabel(r'Vertical Position [mm]')\n",
    "    ax.set_xlabel(r'Horizontal Position [mm]')\n",
    "    ax.set_title('Intensity ({} propagations)'.format(prop_array[-1]))"
   ]
  },
  {
   "cell_type": "code",
   "execution_count": null,
   "id": "59dcb1b9-6b94-4e17-9365-7671fd60326d",
   "metadata": {
    "jupyter": {
     "source_hidden": true
    },
    "tags": []
   },
   "outputs": [],
   "source": [
    "phase_2d_prop = thisPulse.extract_total_2d_phase()\n",
    "phase0 = phase_2d_prop.flatten()\n",
    "wfr0 = thisPulse.slice[0].wfr\n",
    "#srwlib.srwl_uti_save_intens_ascii(phase0, wfr0.mesh, 'initial-phase.dat', 0, ['', 'Horizontal Position', 'Vertical Position', 'Phase'], _arUnits=['', 'm', 'm', 'rad'])\n",
    "uti_plot.uti_plot2d1d(\n",
    "    phase0,\n",
    "    [wfr0.mesh.xStart, wfr0.mesh.xFin, wfr0.mesh.nx],\n",
    "    [wfr0.mesh.yStart, wfr0.mesh.yFin, wfr0.mesh.ny],\n",
    "    0,\n",
    "    0,\n",
    "    ['Horizontal Position', 'Vertical Position', 'Phase ({} propagations)'.format(prop_array[-1])],\n",
    "    ['m', 'm', ''],\n",
    "    True)\n",
    "\n",
    "with plt.style.context(('seaborn-poster')):\n",
    "    fig = plt.figure(figsize=(4.6 * 2,3.6 * 2))\n",
    "    ax = fig.gca()\n",
    "    plt.pcolormesh(x_prop*(1e3), y_prop*(1e3), phase_2d_prop, cmap=plt.cm.viridis, shading='auto')\n",
    "    plt.colorbar()\n",
    "    ax.set_ylabel(r'Vertical Position [mm]')\n",
    "    ax.set_xlabel(r'Horizontal Position [mm]')\n",
    "    ax.set_title('Phase ({} propagations)'.format(prop_array[-1]))"
   ]
  },
  {
   "cell_type": "code",
   "execution_count": null,
   "id": "16d497dd-7dfe-4bbc-a0cb-83ce03326d52",
   "metadata": {
    "jupyter": {
     "source_hidden": true
    },
    "tags": []
   },
   "outputs": [],
   "source": [
    "# Assume all pulse slices have same length\n",
    "fig_x = thisPulse.slice[0].ds *(np.arange(num_laser_slices) + 0.5)\n",
    "\n",
    "fig = plt.figure(figsize=(5,3))\n",
    "ax = fig.gca()\n",
    "for prop_value in prop_array:\n",
    "    plot_label = str(prop_value)+' propagations'\n",
    "    plt.plot(fig_x,photons_in_slice[:,prop_value], label=plot_label)\n",
    "box = ax.get_position()\n",
    "ax.set_position([box.x0, box.y0 + box.height * 0.1, box.width, box.height * 0.9])\n",
    "ax.legend(loc='upper center', bbox_to_anchor=(0.5, -0.2), fancybox=True, shadow=True, ncol=5)\n",
    "ax.tick_params(direction=\"in\")\n",
    "ax.set_ylabel(r'Number of Photons')\n",
    "ax.set_xlabel(r'Distance from Laser Front [m]')\n",
    "plt.title('Longitudinal Photon Distribution')"
   ]
  },
  {
   "cell_type": "code",
   "execution_count": null,
   "id": "72676331-79f6-4c0e-affa-06b52de1797b",
   "metadata": {
    "jupyter": {
     "source_hidden": true
    },
    "tags": []
   },
   "outputs": [],
   "source": [
    "fig, ax1 = plt.subplots(figsize=(5,3))\n",
    "ax2 = ax1.twinx()\n",
    "ax1.plot(fig_x,photons_in_slice[:,0], 'k', label='Initialization')\n",
    "ax2.plot(fig_x,photons_in_slice[:,num_passes], '--r', label='{} Passes Through Crystal'.format(num_passes))\n",
    "fig.legend(loc='upper center', bbox_to_anchor=(0.5, -0.01), fancybox=True, shadow=True, ncol=5)\n",
    "ax1.tick_params(direction=\"in\")\n",
    "ax2.tick_params(direction=\"in\")\n",
    "ax1.set_xlabel(r'Distance from Laser Front [m]')\n",
    "ax1.set_ylabel(r'Number of Photons, Initialized')\n",
    "ax2.set_ylabel(r'Number of Photons, Propagated',color='r')\n",
    "plt.title('Longitudinal Photon Distribution')"
   ]
  },
  {
   "cell_type": "code",
   "execution_count": null,
   "id": "083fb527-29b5-4563-a9cf-2d343163df90",
   "metadata": {
    "jupyter": {
     "source_hidden": true
    },
    "tags": []
   },
   "outputs": [],
   "source": [
    "total_n_photons = np.sum(photons_in_slice, axis=0)\n",
    "\n",
    "fig, ax1 = plt.subplots(figsize=(5,3))\n",
    "ax2 = ax1.twinx()\n",
    "ax1.plot(np.arange(num_passes+1),total_n_photons, 'k', label='Photons')\n",
    "ax2.plot(np.arange(num_passes+1),total_n_excited_states, 'r', label='Excited States')\n",
    "fig.legend(loc='upper center', bbox_to_anchor=(0.5, -0.01), fancybox=True, shadow=True, ncol=5)\n",
    "ax1.tick_params(direction=\"in\")\n",
    "ax2.tick_params(direction=\"in\")\n",
    "ax1.set_xlabel(r'Number of Propagations')\n",
    "ax1.set_ylabel(r'Number of Photons')\n",
    "ax2.set_ylabel(r'Number of Excited States',color='r')"
   ]
  }
 ],
 "metadata": {
  "kernelspec": {
   "display_name": "Python 3",
   "language": "python",
   "name": "py3"
  },
  "language_info": {
   "codemirror_mode": {
    "name": "ipython",
    "version": 3
   },
   "file_extension": ".py",
   "mimetype": "text/x-python",
   "name": "python",
   "nbconvert_exporter": "python",
   "pygments_lexer": "ipython3",
   "version": "3.9.15"
  }
 },
 "nbformat": 4,
 "nbformat_minor": 5
}
