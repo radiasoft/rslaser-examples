{
 "cells": [
  {
   "cell_type": "markdown",
   "id": "0ec37b57-a3e7-488a-af39-c4999ccd474e",
   "metadata": {},
   "source": [
    "<div class=\"alert alert-block alert-info\">\n",
    "<p style=\"font-size:24px;text-align:center\"><b>Compare the propagation methods: n0n2_srw, n0n2_lct, abcd_lct</b>\n",
    "</div>"
   ]
  },
  {
   "cell_type": "code",
   "execution_count": null,
   "id": "04ae5b96-6e56-4070-8edb-435498696ea8",
   "metadata": {
    "jupyter": {
     "source_hidden": true
    },
    "tags": []
   },
   "outputs": [],
   "source": [
    "import numpy as np\n",
    "from scipy import interpolate"
   ]
  },
  {
   "cell_type": "code",
   "execution_count": null,
   "id": "6205142c-1e18-40aa-8c48-7ddbc6b89c7b",
   "metadata": {},
   "outputs": [],
   "source": [
    "set = 'old' \n",
    "# Options: 'old', 'new', 'function'\n",
    "set_pump_type = 'left'\n",
    "# Options: 'dual' 'left' 'right'\n",
    "\n",
    "num_laser_slices = 10\n",
    "num_crystal_slices = 10\n",
    "\n",
    "gain = 0\n",
    "\n",
    "# Adjust this to reflect choice of pump_type\n",
    "z       = np.array([ 0.0,  0.5,  1.0, 1.5, 2.0, 2.5])/100.0\n",
    "n2_plot = np.array([30.5, 18.3, 10.4, 5.9, 3.3, 1.9])\n",
    "plot_fit = interpolate.splrep(z, n2_plot)"
   ]
  },
  {
   "cell_type": "markdown",
   "id": "2d565286-508e-41c9-869c-b3aafaca265f",
   "metadata": {},
   "source": [
    "### Imports, Files, Crystal/Laser Params"
   ]
  },
  {
   "cell_type": "code",
   "execution_count": null,
   "id": "5e7f6f5d-80fc-49ea-9621-bcd943e50de0",
   "metadata": {
    "jupyter": {
     "source_hidden": true
    },
    "tags": []
   },
   "outputs": [],
   "source": [
    "import sys, copy\n",
    "from pykern.pkcollections import PKDict\n",
    "import os\n",
    "\n",
    "# The rslaser library may not be installed, so a check is required.\n",
    "try:\n",
    "    import rslaser\n",
    "except:\n",
    "    # Developers should use 'pip install -e .' from the command line.\n",
    "    # Users can install directly from GitHub --\n",
    "    !{sys.executable} -m pip install git+https://github.com/radiasoft/rslaser.git\n",
    "    import rslaser\n",
    "\n",
    "from rslaser.pulse import pulse\n",
    "from rslaser.optics import crystal\n",
    "import rslaser.utils.srwl_uti_data as srwutil\n",
    "import uti_plot\n",
    "\n",
    "import srwlib\n",
    "\n",
    "import scipy.constants as const\n",
    "from scipy import special\n",
    "\n",
    "# 2D plotting\n",
    "import matplotlib as mpl\n",
    "import matplotlib.pyplot as plt\n",
    "from matplotlib import cm\n",
    "\n",
    "# reset the notebook style\n",
    "mpl.rcParams.update(mpl.rcParamsDefault)\n",
    "plt.rcParams['pcolor.shading'] ='auto'\n",
    "%matplotlib inline"
   ]
  },
  {
   "cell_type": "code",
   "execution_count": null,
   "id": "2e47611d-968d-41b6-8bac-46b7989e0607",
   "metadata": {
    "jupyter": {
     "source_hidden": true
    },
    "tags": []
   },
   "outputs": [],
   "source": [
    "if set == 'old':\n",
    "    package_data_dir = rslaser.pkg_resources.resource_filename ('rslaser', 'package_data/20220218')\n",
    "    ccd_name = 'photon_count_pump_off.txt'\n",
    "    wfs_name = 'phase_pump_off.txt'\n",
    "elif set == 'new':\n",
    "    package_data_dir = rslaser.pkg_resources.resource_filename ('rslaser', 'package_data/20220519')\n",
    "    ccd_name = 'cut_photon_count_seed_laser.txt'\n",
    "    wfs_name = 'phase_pump_off_zeroed.txt'    \n",
    "\n",
    "if set != 'function':\n",
    "    files = PKDict(\n",
    "        meta = os.path.join(package_data_dir, 'meta_data.dat'),\n",
    "        ccd = os.path.join(package_data_dir, ccd_name),\n",
    "        wfs = os.path.join(package_data_dir, wfs_name)\n",
    "    )"
   ]
  },
  {
   "cell_type": "code",
   "execution_count": null,
   "id": "50d0c7c9-0214-4bb8-b24e-39d5559f5805",
   "metadata": {
    "jupyter": {
     "source_hidden": true
    },
    "tags": []
   },
   "outputs": [],
   "source": [
    "w0 = 1.64e-3\n",
    "\n",
    "params = PKDict(\n",
    "    photon_e_ev = 1.5498, # Photon energy [eV], calculated from 800nm wavelength\n",
    "    nslice      = num_laser_slices,\n",
    "    pulseE      = 1.0e-6,\n",
    "    tau_fwhm    = 300.0e-12 / np.sqrt(2.),\n",
    "    tau_0       = 300.0e-12 / np.sqrt(2.),\n",
    "    sigx_waist  = w0,\n",
    "    sigy_waist  = w0,\n",
    ")\n",
    "\n",
    "L_cryst = 0.025\n",
    "new_z = (L_cryst /num_crystal_slices) *(np.arange(num_crystal_slices)+0.5)\n",
    "\n",
    "crystal_params = PKDict(\n",
    "    length      = L_cryst, # [m]\n",
    "    nslice      = num_crystal_slices,\n",
    "    n0          = [1.76 for _ in range(num_crystal_slices)],\n",
    "    n2          = interpolate.splev(new_z, plot_fit).tolist(),\n",
    "    l_scale     = 0.001,\n",
    "    pop_inversion_n_cells=64,\n",
    "    pop_inversion_mesh_extent=0.01,  # [m]\n",
    "    pop_inversion_crystal_alpha=120.0,  # [1/m], 1.2 1/cm\n",
    "    pop_inversion_pump_waist=w0,  # [m]\n",
    "    pop_inversion_pump_wavelength=532.0e-9,  # [m]\n",
    "    pop_inversion_pump_energy=0.0211,  # [J], pump laser energy onto the crystal\n",
    "    pop_inversion_pump_type=set_pump_type,\n",
    "    pop_inversion_pump_gaussian_order=2.0,\n",
    "    pop_inversion_pump_offset_x=0.0,\n",
    "    pop_inversion_pump_offset_y=0.0,\n",
    ")\n",
    "\n",
    "cell_dx = (2.0 *crystal_params.pop_inversion_mesh_extent)/crystal_params.pop_inversion_n_cells"
   ]
  },
  {
   "cell_type": "markdown",
   "id": "30cc24d2-37b6-44ab-9659-92bbfbfac8f7",
   "metadata": {},
   "source": [
    "***\n",
    "## Initial Intensity and Phase"
   ]
  },
  {
   "cell_type": "code",
   "execution_count": null,
   "id": "ef3519ae-d598-4232-bba8-8809d9fec25b",
   "metadata": {
    "jupyter": {
     "source_hidden": true
    },
    "tags": []
   },
   "outputs": [],
   "source": [
    "# Initialize laser pulse\n",
    "if set == 'function':\n",
    "    thisPulse = pulse.LaserPulse(params)\n",
    "else:\n",
    "    thisPulse = pulse.LaserPulse(params, files)\n",
    "\n",
    "# Plot wavefront\n",
    "lp_wfr_x = np.linspace(thisPulse.slice[0].wfr.mesh.xStart,thisPulse.slice[0].wfr.mesh.xFin,thisPulse.slice[0].wfr.mesh.nx)\n",
    "lp_wfr_y = np.linspace(thisPulse.slice[0].wfr.mesh.yStart,thisPulse.slice[0].wfr.mesh.yFin,thisPulse.slice[0].wfr.mesh.ny)"
   ]
  },
  {
   "cell_type": "code",
   "execution_count": null,
   "id": "c3ed61f9-6d85-4a7b-b0e4-a2ce26e9eeec",
   "metadata": {
    "jupyter": {
     "source_hidden": true
    },
    "tags": []
   },
   "outputs": [],
   "source": [
    "e_total_init = thisPulse.extract_total_2d_elec_fields()\n",
    "intens_2d_init = 0.5 *const.c *const.epsilon_0 *(e_total_init.re**2.0 + e_total_init.im**2.0)\n",
    "\n",
    "intens0 = intens_2d_init.flatten()\n",
    "wfr0 = thisPulse.slice[0].wfr\n",
    "#srwlib.srwl_uti_save_intens_ascii(intens0, wfr0.mesh, 'initial-intensity.dat', 0, ['', 'Horizontal Position', 'Vertical Position', 'Intensity'], _arUnits=['', 'm', 'm', ''])\n",
    "uti_plot.uti_plot2d1d(\n",
    "    intens0,\n",
    "    [wfr0.mesh.xStart, wfr0.mesh.xFin, wfr0.mesh.nx],\n",
    "    [wfr0.mesh.yStart, wfr0.mesh.yFin, wfr0.mesh.ny],\n",
    "    0,\n",
    "    0,\n",
    "    ['Horizontal Position', 'Vertical Position', 'Intensity'],\n",
    "    ['m', 'm', 'ph/s/.1%bw/mm^2'],\n",
    "    True)\n",
    "\n",
    "with plt.style.context(('seaborn-poster')):\n",
    "    fig = plt.figure(figsize=(4.6 * 2,3.6 * 2))\n",
    "    ax = fig.gca()\n",
    "    plt.pcolormesh(lp_wfr_x*(1e3), lp_wfr_y*(1e3), intens_2d_init, cmap=plt.cm.viridis, shading='auto')\n",
    "    plt.colorbar()\n",
    "    ax.set_ylabel(r'Vertical Position [mm]')\n",
    "    ax.set_xlabel(r'Horizontal Position [mm]')\n",
    "    ax.set_title('Intensity (initial)')"
   ]
  },
  {
   "cell_type": "code",
   "execution_count": null,
   "id": "4f544896-2819-40fd-b633-d4058397b2a1",
   "metadata": {
    "jupyter": {
     "source_hidden": true
    },
    "tags": []
   },
   "outputs": [],
   "source": [
    "phase_2d_init = thisPulse.extract_total_2d_phase()\n",
    "\n",
    "phase0 = phase_2d_init.flatten()\n",
    "wfr0 = thisPulse.slice[0].wfr\n",
    "#srwlib.srwl_uti_save_intens_ascii(phase0, wfr0.mesh, 'initial-phase.dat', 0, ['', 'Horizontal Position', 'Vertical Position', 'Phase'], _arUnits=['', 'm', 'm', 'rad'])\n",
    "uti_plot.uti_plot2d1d(\n",
    "    phase0,\n",
    "    [wfr0.mesh.xStart, wfr0.mesh.xFin, wfr0.mesh.nx],\n",
    "    [wfr0.mesh.yStart, wfr0.mesh.yFin, wfr0.mesh.ny],\n",
    "    0,\n",
    "    0,\n",
    "    ['Horizontal Position', 'Vertical Position', 'Phase'],\n",
    "    ['m', 'm', ''],\n",
    "    True)\n",
    "\n",
    "with plt.style.context(('seaborn-poster')):\n",
    "    fig = plt.figure(figsize=(4.6 * 2,3.6 * 2))\n",
    "    ax = fig.gca()\n",
    "    plt.pcolormesh(lp_wfr_x*(1e3), lp_wfr_y*(1e3), phase_2d_init, cmap=plt.cm.viridis, shading='auto')\n",
    "    plt.colorbar()\n",
    "    ax.set_ylabel(r'Vertical Position [mm]')\n",
    "    ax.set_xlabel(r'Horizontal Position [mm]')\n",
    "    ax.set_title('Phase (initial)')"
   ]
  },
  {
   "cell_type": "code",
   "execution_count": null,
   "id": "40a5d099-5157-4fa1-86c1-c586da238ef0",
   "metadata": {
    "jupyter": {
     "source_hidden": true
    },
    "tags": []
   },
   "outputs": [],
   "source": [
    "rayleigh_length = np.pi * (thisPulse.sigx_waist)**2.0 / (thisPulse._lambda0)\n",
    "print('Rayleigh Length:', round(rayleigh_length,3), ' m')\n",
    "print('RMS bunch length:', round(thisPulse.sig_s,3), ' m')"
   ]
  },
  {
   "cell_type": "markdown",
   "id": "bf5ec8a0-b2ee-43cf-b8ef-d29ee249338b",
   "metadata": {},
   "source": [
    "***\n",
    "## n0n2_srw"
   ]
  },
  {
   "cell_type": "code",
   "execution_count": null,
   "id": "a80ec871-cc06-4eae-b18b-5a061870fb66",
   "metadata": {
    "jupyter": {
     "source_hidden": true
    },
    "tags": []
   },
   "outputs": [],
   "source": [
    "# Initialize laser pulse\n",
    "if set == 'function':\n",
    "    thisPulse = pulse.LaserPulse(params)\n",
    "else:\n",
    "    thisPulse = pulse.LaserPulse(params, files)\n",
    "\n",
    "e_crystal = crystal.Crystal(crystal_params)\n",
    "\n",
    "thisPulse_n0n2srw = e_crystal.propagate(thisPulse, 'n0n2_srw', gain, radial_n2=0)\n",
    "\n",
    "x_n0n2srw = np.linspace(thisPulse_n0n2srw.slice[0].wfr.mesh.xStart,thisPulse_n0n2srw.slice[0].wfr.mesh.xFin,thisPulse_n0n2srw.slice[0].wfr.mesh.nx)\n",
    "y_n0n2srw = np.linspace(thisPulse_n0n2srw.slice[0].wfr.mesh.yStart,thisPulse_n0n2srw.slice[0].wfr.mesh.yFin,thisPulse_n0n2srw.slice[0].wfr.mesh.ny)"
   ]
  },
  {
   "cell_type": "code",
   "execution_count": null,
   "id": "cc8ca228-b72b-4c86-8e81-ca8ef9306543",
   "metadata": {
    "jupyter": {
     "source_hidden": true
    },
    "tags": []
   },
   "outputs": [],
   "source": [
    "e_total_n0n2srw = thisPulse_n0n2srw.extract_total_2d_elec_fields()\n",
    "intens_2d_n0n2srw = 0.5 *const.c *const.epsilon_0 *(e_total_n0n2srw.re**2.0 + e_total_n0n2srw.im**2.0)\n",
    "\n",
    "intens0 = intens_2d_n0n2srw.flatten()\n",
    "wfr0 = thisPulse_n0n2srw.slice[0].wfr\n",
    "#srwlib.srwl_uti_save_intens_ascii(intens0, wfr0.mesh, 'initial-intensity.dat', 0, ['', 'Horizontal Position', 'Vertical Position', 'Intensity'], _arUnits=['', 'm', 'm', ''])\n",
    "uti_plot.uti_plot2d1d(\n",
    "    intens0,\n",
    "    [wfr0.mesh.xStart, wfr0.mesh.xFin, wfr0.mesh.nx],\n",
    "    [wfr0.mesh.yStart, wfr0.mesh.yFin, wfr0.mesh.ny],\n",
    "    0,\n",
    "    0,\n",
    "    ['Horizontal Position', 'Vertical Position', 'Intensity (n0n2_srw)'],\n",
    "    ['m', 'm', 'ph/s/.1%bw/mm^2'],\n",
    "    True)\n",
    "\n",
    "with plt.style.context(('seaborn-poster')):\n",
    "    fig = plt.figure(figsize=(4.6 * 2,3.6 * 2))\n",
    "    ax = fig.gca()\n",
    "    plt.pcolormesh(x_n0n2srw*(1e3), y_n0n2srw*(1e3), intens_2d_n0n2srw, cmap=plt.cm.viridis, shading='auto')\n",
    "    plt.colorbar()\n",
    "    ax.set_ylabel(r'Vertical Position [mm]')\n",
    "    ax.set_xlabel(r'Horizontal Position [mm]')\n",
    "    ax.set_title('Intensity (n0n2_srw)')"
   ]
  },
  {
   "cell_type": "code",
   "execution_count": null,
   "id": "c2389c0f-91f2-4c6d-aca8-51b08d0c0c12",
   "metadata": {
    "jupyter": {
     "source_hidden": true
    },
    "tags": []
   },
   "outputs": [],
   "source": [
    "phase_2d_n0n2srw = thisPulse_n0n2srw.extract_total_2d_phase()\n",
    "\n",
    "phase0 = phase_2d_n0n2srw.flatten()\n",
    "wfr0 = thisPulse_n0n2srw.slice[0].wfr\n",
    "#srwlib.srwl_uti_save_intens_ascii(phase0, wfr0.mesh, 'initial-phase.dat', 0, ['', 'Horizontal Position', 'Vertical Position', 'Phase'], _arUnits=['', 'm', 'm', 'rad'])\n",
    "uti_plot.uti_plot2d1d(\n",
    "    phase0,\n",
    "    [wfr0.mesh.xStart, wfr0.mesh.xFin, wfr0.mesh.nx],\n",
    "    [wfr0.mesh.yStart, wfr0.mesh.yFin, wfr0.mesh.ny],\n",
    "    0,\n",
    "    0,\n",
    "    ['Horizontal Position', 'Vertical Position', 'Phase (n0n2_srw)'],\n",
    "    ['m', 'm', ''],\n",
    "    True)\n",
    "\n",
    "with plt.style.context(('seaborn-poster')):\n",
    "    fig = plt.figure(figsize=(4.6 * 2,3.6 * 2))\n",
    "    ax = fig.gca()\n",
    "    plt.pcolormesh(x_n0n2srw*(1e3), y_n0n2srw*(1e3), phase_2d_n0n2srw, cmap=plt.cm.viridis, shading='auto')\n",
    "    plt.colorbar()\n",
    "    ax.set_ylabel(r'Vertical Position [mm]')\n",
    "    ax.set_xlabel(r'Horizontal Position [mm]')\n",
    "    ax.set_title('Phase (n0n2_srw)')"
   ]
  },
  {
   "cell_type": "markdown",
   "id": "00b02c97-5252-48fa-99b5-364375a57811",
   "metadata": {},
   "source": [
    "***\n",
    "## n0n2_lct"
   ]
  },
  {
   "cell_type": "code",
   "execution_count": null,
   "id": "cadca911-d57a-49f5-b945-40cb7d74e01b",
   "metadata": {
    "jupyter": {
     "source_hidden": true
    },
    "tags": []
   },
   "outputs": [],
   "source": [
    "# Initialize laser pulse\n",
    "if set == 'function':\n",
    "    thisPulse = pulse.LaserPulse(params)\n",
    "else:\n",
    "    thisPulse = pulse.LaserPulse(params, files)\n",
    "\n",
    "e_crystal = crystal.Crystal(crystal_params)\n",
    "\n",
    "thisPulse_n0n2lct = e_crystal.propagate(thisPulse, 'n0n2_lct', gain, radial_n2=0)\n",
    "\n",
    "x_n0n2lct = np.linspace(thisPulse_n0n2lct.slice[0].wfr.mesh.xStart,thisPulse_n0n2lct.slice[0].wfr.mesh.xFin,thisPulse_n0n2lct.slice[0].wfr.mesh.nx)\n",
    "y_n0n2lct = np.linspace(thisPulse_n0n2lct.slice[0].wfr.mesh.yStart,thisPulse_n0n2lct.slice[0].wfr.mesh.yFin,thisPulse_n0n2lct.slice[0].wfr.mesh.ny)"
   ]
  },
  {
   "cell_type": "code",
   "execution_count": null,
   "id": "9d7b38c0-114c-4a15-a770-35406a7f4576",
   "metadata": {
    "jupyter": {
     "source_hidden": true
    },
    "tags": []
   },
   "outputs": [],
   "source": [
    "e_total_n0n2lct = thisPulse_n0n2lct.extract_total_2d_elec_fields()\n",
    "intens_2d_n0n2lct = 0.5 *const.c *const.epsilon_0 *(e_total_n0n2lct.re**2.0 + e_total_n0n2lct.im**2.0)\n",
    "\n",
    "intens0 = intens_2d_n0n2lct.flatten()\n",
    "wfr0 = thisPulse_n0n2lct.slice[0].wfr\n",
    "#srwlib.srwl_uti_save_intens_ascii(intens0, wfr0.mesh, 'initial-intensity.dat', 0, ['', 'Horizontal Position', 'Vertical Position', 'Intensity'], _arUnits=['', 'm', 'm', ''])\n",
    "uti_plot.uti_plot2d1d(\n",
    "    intens0,\n",
    "    [wfr0.mesh.xStart, wfr0.mesh.xFin, wfr0.mesh.nx],\n",
    "    [wfr0.mesh.yStart, wfr0.mesh.yFin, wfr0.mesh.ny],\n",
    "    0,\n",
    "    0,\n",
    "    ['Horizontal Position', 'Vertical Position', 'Intensity (n0n2_lct)'],\n",
    "    ['m', 'm', 'ph/s/.1%bw/mm^2'],\n",
    "    True)\n",
    "\n",
    "with plt.style.context(('seaborn-poster')):\n",
    "    fig = plt.figure(figsize=(4.6 * 2,3.6 * 2))\n",
    "    ax = fig.gca()\n",
    "    plt.pcolormesh(x_n0n2lct*(1e3), y_n0n2lct*(1e3), intens_2d_n0n2lct, cmap=plt.cm.viridis, shading='auto')\n",
    "    plt.colorbar()\n",
    "    ax.set_ylabel(r'Vertical Position [mm]')\n",
    "    ax.set_xlabel(r'Horizontal Position [mm]')\n",
    "    ax.set_title('Intensity (n0n2_lct)')"
   ]
  },
  {
   "cell_type": "code",
   "execution_count": null,
   "id": "0c935767-88c8-4e46-a986-9b628ddcebf1",
   "metadata": {
    "jupyter": {
     "source_hidden": true
    },
    "tags": []
   },
   "outputs": [],
   "source": [
    "phase_2d_n0n2lct = thisPulse_n0n2lct.extract_total_2d_phase()\n",
    "\n",
    "phase0 = phase_2d_n0n2lct.flatten()\n",
    "wfr0 = thisPulse_n0n2lct.slice[0].wfr\n",
    "#srwlib.srwl_uti_save_intens_ascii(phase0, wfr0.mesh, 'initial-phase.dat', 0, ['', 'Horizontal Position', 'Vertical Position', 'Phase'], _arUnits=['', 'm', 'm', 'rad'])\n",
    "uti_plot.uti_plot2d1d(\n",
    "    phase0,\n",
    "    [wfr0.mesh.xStart, wfr0.mesh.xFin, wfr0.mesh.nx],\n",
    "    [wfr0.mesh.yStart, wfr0.mesh.yFin, wfr0.mesh.ny],\n",
    "    0,\n",
    "    0,\n",
    "    ['Horizontal Position', 'Vertical Position', 'Phase (n0n2_lct)'],\n",
    "    ['m', 'm', ''],\n",
    "    True)\n",
    "\n",
    "with plt.style.context(('seaborn-poster')):\n",
    "    fig = plt.figure(figsize=(4.6 * 2,3.6 * 2))\n",
    "    ax = fig.gca()\n",
    "    plt.pcolormesh(x_n0n2lct*(1e3), y_n0n2lct*(1e3), phase_2d_n0n2lct, cmap=plt.cm.viridis, shading='auto')\n",
    "    plt.colorbar()\n",
    "    ax.set_ylabel(r'Vertical Position [mm]')\n",
    "    ax.set_xlabel(r'Horizontal Position [mm]')\n",
    "    ax.set_title('Phase (n0n2_lct)')"
   ]
  },
  {
   "cell_type": "markdown",
   "id": "991f56fa-abe7-4623-a4f6-375927223817",
   "metadata": {},
   "source": [
    "***\n",
    "## abcd_lct"
   ]
  },
  {
   "cell_type": "code",
   "execution_count": null,
   "id": "79b46c40-9a89-4a8e-94c8-eba87289ecf0",
   "metadata": {
    "jupyter": {
     "source_hidden": true
    },
    "tags": []
   },
   "outputs": [],
   "source": [
    "n0_array = crystal_params.n0\n",
    "n2_array = crystal_params.n2\n",
    "\n",
    "crystal_params_cp = copy.deepcopy(crystal_params)\n",
    "crystal_params_cp.nslice=1\n",
    "crystal_params_cp.n0 = [crystal_params.n0[0]]\n",
    "crystal_params_cp.n2 = [crystal_params.n2[0]]\n",
    "\n",
    "# Calculate the ABCD matrix for the entire crystal\n",
    "gamma_vals = np.zeros(num_crystal_slices)\n",
    "abcd_mats = np.zeros((num_crystal_slices, 2, 2))\n",
    "abcd_mat_tot_full = np.array( [[1, 0], [0, 1]] )\n",
    "for j in range (num_crystal_slices):\n",
    "    gamma_vals[j] = np.sqrt(n2_array[j] / n0_array[j])\n",
    "    gamma_z = gamma_vals[j] * (L_cryst /num_crystal_slices)   \n",
    "    abcd_mats[j, 0, 0] = np.cos(gamma_z)\n",
    "    abcd_mats[j, 0, 1] = (1 / n0_array[j] / gamma_vals[j]) * np.sin(gamma_z)\n",
    "    abcd_mats[j, 1, 0] = (- (n0_array[j] * gamma_vals[j])) * np.sin(gamma_z)\n",
    "    abcd_mats[j, 1, 1] = np.cos(gamma_z)\n",
    "\n",
    "for j in range (num_crystal_slices):\n",
    "    abcd_mat_tot_full = np.matmul(abcd_mat_tot_full, abcd_mats[num_crystal_slices - j - 1, :, :])\n",
    "\n",
    "crystal_params_cp.A = abcd_mat_tot_full[0][0]\n",
    "crystal_params_cp.B = abcd_mat_tot_full[0][1]\n",
    "crystal_params_cp.C = abcd_mat_tot_full[1][0]\n",
    "crystal_params_cp.D = abcd_mat_tot_full[1][1]"
   ]
  },
  {
   "cell_type": "code",
   "execution_count": null,
   "id": "6e638e4e-d160-4fe8-9ab3-38b50a1a7d39",
   "metadata": {
    "jupyter": {
     "source_hidden": true
    },
    "tags": []
   },
   "outputs": [],
   "source": [
    "# Initialize laser pulse\n",
    "if set == 'function':\n",
    "    thisPulse = pulse.LaserPulse(params)\n",
    "else:\n",
    "    thisPulse = pulse.LaserPulse(params, files)\n",
    "\n",
    "e_crystal = crystal.Crystal(crystal_params_cp)\n",
    "\n",
    "thisPulse_abcdlct = e_crystal.propagate(thisPulse, 'abcd_lct', gain, radial_n2=0)\n",
    "\n",
    "x_abcdlct = np.linspace(thisPulse_abcdlct.slice[0].wfr.mesh.xStart,thisPulse_abcdlct.slice[0].wfr.mesh.xFin,thisPulse_abcdlct.slice[0].wfr.mesh.nx)\n",
    "y_abcdlct = np.linspace(thisPulse_abcdlct.slice[0].wfr.mesh.yStart,thisPulse_abcdlct.slice[0].wfr.mesh.yFin,thisPulse_abcdlct.slice[0].wfr.mesh.ny)"
   ]
  },
  {
   "cell_type": "code",
   "execution_count": null,
   "id": "89327583-e2f4-4060-a6ae-2375ff949efe",
   "metadata": {
    "jupyter": {
     "source_hidden": true
    },
    "tags": []
   },
   "outputs": [],
   "source": [
    "e_total_abcdlct = thisPulse_abcdlct.extract_total_2d_elec_fields()\n",
    "intens_2d_abcdlct = 0.5 *const.c *const.epsilon_0 *(e_total_abcdlct.re**2.0 + e_total_abcdlct.im**2.0)\n",
    "\n",
    "intens0 = intens_2d_abcdlct.flatten()\n",
    "wfr0 = thisPulse_abcdlct.slice[0].wfr\n",
    "#srwlib.srwl_uti_save_intens_ascii(intens0, wfr0.mesh, 'initial-intensity.dat', 0, ['', 'Horizontal Position', 'Vertical Position', 'Intensity'], _arUnits=['', 'm', 'm', ''])\n",
    "uti_plot.uti_plot2d1d(\n",
    "    intens0,\n",
    "    [wfr0.mesh.xStart, wfr0.mesh.xFin, wfr0.mesh.nx],\n",
    "    [wfr0.mesh.yStart, wfr0.mesh.yFin, wfr0.mesh.ny],\n",
    "    0,\n",
    "    0,\n",
    "    ['Horizontal Position', 'Vertical Position', 'Intensity (abcd_lct)'],\n",
    "    ['m', 'm', 'ph/s/.1%bw/mm^2'],\n",
    "    True)\n",
    "\n",
    "with plt.style.context(('seaborn-poster')):\n",
    "    fig = plt.figure(figsize=(4.6 * 2,3.6 * 2))\n",
    "    ax = fig.gca()\n",
    "    plt.pcolormesh(x_abcdlct*(1e3), y_abcdlct*(1e3), intens_2d_abcdlct, cmap=plt.cm.viridis, shading='auto')\n",
    "    plt.colorbar()\n",
    "    ax.set_ylabel(r'Vertical Position [mm]')\n",
    "    ax.set_xlabel(r'Horizontal Position [mm]')\n",
    "    ax.set_title('Intensity (abcd_lct)')"
   ]
  },
  {
   "cell_type": "code",
   "execution_count": null,
   "id": "a09a0c7a-6792-4662-a3c0-75ce20007070",
   "metadata": {
    "jupyter": {
     "source_hidden": true
    },
    "tags": []
   },
   "outputs": [],
   "source": [
    "phase_2d_abcdlct = thisPulse_abcdlct.extract_total_2d_phase()\n",
    "\n",
    "phase0 = phase_2d_abcdlct.flatten()\n",
    "wfr0 = thisPulse_abcdlct.slice[0].wfr\n",
    "#srwlib.srwl_uti_save_intens_ascii(phase0, wfr0.mesh, 'initial-phase.dat', 0, ['', 'Horizontal Position', 'Vertical Position', 'Phase'], _arUnits=['', 'm', 'm', 'rad'])\n",
    "uti_plot.uti_plot2d1d(\n",
    "    phase0,\n",
    "    [wfr0.mesh.xStart, wfr0.mesh.xFin, wfr0.mesh.nx],\n",
    "    [wfr0.mesh.yStart, wfr0.mesh.yFin, wfr0.mesh.ny],\n",
    "    0,\n",
    "    0,\n",
    "    ['Horizontal Position', 'Vertical Position', 'Phase (abcd_lct)'],\n",
    "    ['m', 'm', ''],\n",
    "    True)\n",
    "\n",
    "with plt.style.context(('seaborn-poster')):\n",
    "    fig = plt.figure(figsize=(4.6 * 2,3.6 * 2))\n",
    "    ax = fig.gca()\n",
    "    plt.pcolormesh(x_abcdlct*(1e3), y_abcdlct*(1e3), phase_2d_abcdlct, cmap=plt.cm.viridis, shading='auto')\n",
    "    plt.colorbar()\n",
    "    ax.set_ylabel(r'Vertical Position [mm]')\n",
    "    ax.set_xlabel(r'Horizontal Position [mm]')\n",
    "    ax.set_title('Phase (abcd_lct)')"
   ]
  }
 ],
 "metadata": {
  "kernelspec": {
   "display_name": "Python 3",
   "language": "python",
   "name": "py3"
  },
  "language_info": {
   "codemirror_mode": {
    "name": "ipython",
    "version": 3
   },
   "file_extension": ".py",
   "mimetype": "text/x-python",
   "name": "python",
   "nbconvert_exporter": "python",
   "pygments_lexer": "ipython3",
   "version": "3.9.15"
  }
 },
 "nbformat": 4,
 "nbformat_minor": 5
}
