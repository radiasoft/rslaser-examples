{
 "cells": [
  {
   "cell_type": "markdown",
   "id": "cc2df31f-f55f-4d97-9a09-433afe96b914",
   "metadata": {},
   "source": [
    "<div class=\"alert alert-block alert-info\">\n",
    "<p style=\"font-size:24px;text-align:center\"><b>Single crystal pass</b>\n",
    "</div>"
   ]
  },
  {
   "cell_type": "code",
   "execution_count": null,
   "id": "eb84abd0-d859-461e-8a2b-430cd91221f0",
   "metadata": {},
   "outputs": [],
   "source": [
    "# Laser pulse\n",
    "set = 'function' # Options: 'old', 'new', 'function'\n",
    "num_laser_slices = 10\n",
    "pulse_ncells = 128\n",
    "\n",
    "# Crystal\n",
    "prop_type = 'n0n2_srw' # Options: 'gain_calc' 'abcd_lct' 'n0n2_lct' 'n0n2_srw'\n",
    "pump_type = 'dual' # Options: 'dual' 'left' 'right'\n",
    "num_crystal_slices = 10\n",
    "gain = 1\n",
    "radial_n2 = 1\n",
    "\n",
    "# Drift\n",
    "L_drift = 0.1 #[m]\n"
   ]
  },
  {
   "cell_type": "markdown",
   "id": "de0b9b63-16c2-4fe5-affb-5bc90611936b",
   "metadata": {},
   "source": [
    "### Imports, Files, Crystal/Laser Params"
   ]
  },
  {
   "cell_type": "code",
   "execution_count": null,
   "id": "9868b20a-75eb-4a2a-82f3-c03317ee6a22",
   "metadata": {
    "jupyter": {
     "source_hidden": true
    },
    "tags": []
   },
   "outputs": [],
   "source": [
    "import sys, copy\n",
    "import numpy as np\n",
    "from pykern.pkcollections import PKDict\n",
    "import os\n",
    "\n",
    "# The rslaser library may not be installed, so a check is required.\n",
    "try:\n",
    "    import rslaser\n",
    "except:\n",
    "    # Developers should use 'pip install -e .' from the command line.\n",
    "    # Users can install directly from GitHub --\n",
    "    !{sys.executable} -m pip install git+https://github.com/radiasoft/rslaser.git\n",
    "    import rslaser\n",
    "\n",
    "from rslaser.pulse import pulse\n",
    "from rslaser.optics import crystal\n",
    "from rslaser.optics import drift\n",
    "import rslaser.utils.srwl_uti_data as srwutil\n",
    "import uti_plot\n",
    "\n",
    "import srwlib\n",
    "\n",
    "import scipy.constants as const\n",
    "from scipy import interpolate\n",
    "from scipy import special\n",
    "\n",
    "# 2D plotting\n",
    "import matplotlib as mpl\n",
    "import matplotlib.pyplot as plt\n",
    "from matplotlib import cm\n",
    "\n",
    "# reset the notebook style\n",
    "mpl.rcParams.update(mpl.rcParamsDefault)\n",
    "plt.rcParams['pcolor.shading'] ='auto'\n",
    "%matplotlib inline"
   ]
  },
  {
   "cell_type": "code",
   "execution_count": null,
   "id": "88d754d6-1bfc-43b7-8794-0160c73d5b58",
   "metadata": {
    "jupyter": {
     "source_hidden": true
    },
    "tags": []
   },
   "outputs": [],
   "source": [
    "if set == 'old':\n",
    "    package_data_dir = rslaser.pkg_resources.resource_filename ('rslaser', 'package_data/20220218')\n",
    "    ccd_name = 'photon_count_pump_off.txt'\n",
    "    wfs_name = 'phase_pump_off.txt'\n",
    "elif set == 'new':\n",
    "    package_data_dir = rslaser.pkg_resources.resource_filename ('rslaser', 'package_data/20220519')\n",
    "    ccd_name = 'cut_photon_count_seed_laser.txt'\n",
    "    wfs_name = 'phase_pump_off_zeroed.txt'    \n",
    "\n",
    "if set != 'function':\n",
    "    files = PKDict(\n",
    "        meta = os.path.join(package_data_dir, 'meta_data.dat'),\n",
    "        ccd = os.path.join(package_data_dir, ccd_name),\n",
    "        wfs = os.path.join(package_data_dir, wfs_name)\n",
    "    )\n",
    "\n",
    "z       = np.array([ 0.0,  0.5,  1.0, 1.5, 2.0, 2.5])/100.0\n",
    "n2_plot = np.array([30.5, 18.3, 10.4, 5.9, 3.3, 1.9])\n",
    "plot_fit = interpolate.splrep(z, n2_plot)"
   ]
  },
  {
   "cell_type": "code",
   "execution_count": null,
   "id": "2a2cadc9-685d-4395-a75c-29cb3f296ae5",
   "metadata": {
    "jupyter": {
     "source_hidden": true
    },
    "tags": []
   },
   "outputs": [],
   "source": [
    "w0 = 1.64e-3\n",
    "\n",
    "params = PKDict(\n",
    "    photon_e_ev = 1.5498, # Photon energy [eV], calculated from 800nm wavelength\n",
    "    nslice      = num_laser_slices,\n",
    "    pulseE      = 1.0e-6,\n",
    "    tau_fwhm    = 300.0e-12 / np.sqrt(2.),\n",
    "    sigx_waist  = w0,\n",
    "    sigy_waist  = w0,\n",
    "    nx_slice    = pulse_ncells,\n",
    "    ny_slice    = pulse_ncells,\n",
    ")\n",
    "\n",
    "L_cryst = 0.025\n",
    "new_z = (L_cryst /num_crystal_slices) *(np.arange(num_crystal_slices)+0.5)\n",
    "\n",
    "crystal_params = PKDict(\n",
    "    length      = L_cryst, # [m]\n",
    "    nslice      = num_crystal_slices,\n",
    "    n0          = [1.76 for _ in range(num_crystal_slices)],\n",
    "    n2          = interpolate.splev(new_z, plot_fit).tolist(),\n",
    "    l_scale     = 0.001,\n",
    "    population_inversion = PKDict(\n",
    "        n_cells=64,\n",
    "        mesh_extent=0.01,  # [m]\n",
    "        crystal_alpha=120.0,  # [1/m], 1.2 1/cm\n",
    "        pump_waist=1.43e-3,  # [m]\n",
    "        pump_wavelength=532.0e-9,  # [m]\n",
    "        pump_energy=0.035,  # [J], pump laser energy onto the crystal\n",
    "        pump_type=pump_type,\n",
    "    )\n",
    ")\n",
    "\n",
    "cell_dx = (2.0 *crystal_params.population_inversion.mesh_extent)/crystal_params.population_inversion.n_cells\n",
    "cell_volume = cell_dx**2.0 *(crystal_params.length /crystal_params.nslice)"
   ]
  },
  {
   "cell_type": "markdown",
   "id": "5c0bcae2-6b71-4a3b-a0e4-cf292e7206f3",
   "metadata": {},
   "source": [
    "***\n",
    "## Initial Intensity and Phase"
   ]
  },
  {
   "cell_type": "code",
   "execution_count": null,
   "id": "c2135a38-f1bc-48e1-a5a6-ffdd6c5e0703",
   "metadata": {
    "jupyter": {
     "source_hidden": true
    },
    "tags": []
   },
   "outputs": [],
   "source": [
    "# Initialize laser pulse\n",
    "if set == 'function':\n",
    "    thisPulse = pulse.LaserPulse(params)\n",
    "else:\n",
    "    thisPulse = pulse.LaserPulse(params, files)\n",
    "\n",
    "thisPulse.zero_phase()\n",
    "\n",
    "# Plot wavefront\n",
    "lp_wfr_x = np.linspace(thisPulse.slice[0].wfr.mesh.xStart,thisPulse.slice[0].wfr.mesh.xFin,thisPulse.slice[0].wfr.mesh.nx)\n",
    "lp_wfr_y = np.linspace(thisPulse.slice[0].wfr.mesh.yStart,thisPulse.slice[0].wfr.mesh.yFin,thisPulse.slice[0].wfr.mesh.ny)"
   ]
  },
  {
   "cell_type": "code",
   "execution_count": null,
   "id": "ee9b6df5-3c64-482b-9126-58eead938c8b",
   "metadata": {
    "jupyter": {
     "source_hidden": true
    },
    "tags": []
   },
   "outputs": [],
   "source": [
    "e_total_init = thisPulse.extract_total_2d_elec_fields()\n",
    "intens_2d_init = 0.5 *const.c *const.epsilon_0 *(e_total_init.re**2.0 + e_total_init.im**2.0)\n",
    "\n",
    "intens0 = intens_2d_init.flatten()\n",
    "wfr0 = thisPulse.slice[0].wfr\n",
    "#srwlib.srwl_uti_save_intens_ascii(intens0, wfr0.mesh, 'initial-intensity.dat', 0, ['', 'Horizontal Position', 'Vertical Position', 'Intensity'], _arUnits=['', 'm', 'm', ''])\n",
    "uti_plot.uti_plot2d1d(\n",
    "    intens0,\n",
    "    [wfr0.mesh.xStart, wfr0.mesh.xFin, wfr0.mesh.nx],\n",
    "    [wfr0.mesh.yStart, wfr0.mesh.yFin, wfr0.mesh.ny],\n",
    "    0,\n",
    "    0,\n",
    "    ['Horizontal Position', 'Vertical Position', 'Intensity (initial)'],\n",
    "    ['m', 'm', 'ph/s/.1%bw/mm^2'],\n",
    "    True)\n",
    "\n",
    "with plt.style.context(('seaborn-poster')):\n",
    "    fig = plt.figure(figsize=(4.6 * 2,3.6 * 2))\n",
    "    ax = fig.gca()\n",
    "    plt.pcolormesh(lp_wfr_x*(1e3), lp_wfr_y*(1e3), intens_2d_init, cmap=plt.cm.viridis, shading='auto')\n",
    "    plt.colorbar()\n",
    "    ax.set_ylabel(r'Vertical Position [mm]')\n",
    "    ax.set_xlabel(r'Horizontal Position [mm]')\n",
    "    ax.set_title('Intensity (initial)')"
   ]
  },
  {
   "cell_type": "code",
   "execution_count": null,
   "id": "5d63472c-eff4-45c2-93bc-1a24fd0e2460",
   "metadata": {
    "jupyter": {
     "source_hidden": true
    },
    "tags": []
   },
   "outputs": [],
   "source": [
    "phase_2d_init = thisPulse.extract_total_2d_phase()\n",
    "phase0 = phase_2d_init.flatten()\n",
    "wfr0 = thisPulse.slice[0].wfr\n",
    "#srwlib.srwl_uti_save_intens_ascii(phase0, wfr0.mesh, 'initial-phase.dat', 0, ['', 'Horizontal Position', 'Vertical Position', 'Phase'], _arUnits=['', 'm', 'm', 'rad'])\n",
    "uti_plot.uti_plot2d1d(\n",
    "    phase0,\n",
    "    [wfr0.mesh.xStart, wfr0.mesh.xFin, wfr0.mesh.nx],\n",
    "    [wfr0.mesh.yStart, wfr0.mesh.yFin, wfr0.mesh.ny],\n",
    "    0,\n",
    "    0,\n",
    "    ['Horizontal Position', 'Vertical Position', 'Phase (initial)'],\n",
    "    ['m', 'm', ''],\n",
    "    True)\n",
    "\n",
    "with plt.style.context(('seaborn-poster')):\n",
    "    fig = plt.figure(figsize=(4.6 * 2,3.6 * 2))\n",
    "    ax = fig.gca()\n",
    "    plt.pcolormesh(lp_wfr_x*(1e3), lp_wfr_y*(1e3), phase_2d_init, cmap=plt.cm.viridis, shading='auto')\n",
    "    plt.colorbar()\n",
    "    ax.set_ylabel(r'Vertical Position [mm]')\n",
    "    ax.set_xlabel(r'Horizontal Position [mm]')\n",
    "    ax.set_title('Phase (initial)')"
   ]
  },
  {
   "cell_type": "code",
   "execution_count": null,
   "id": "03a08027-6d87-4a99-b163-f7bb680be2e6",
   "metadata": {
    "jupyter": {
     "source_hidden": true
    },
    "tags": []
   },
   "outputs": [],
   "source": [
    "rayleigh_length_init = np.pi * (thisPulse.sigx_waist)**2.0 / (thisPulse._lambda0)\n",
    "print('Rayleigh Length:', round(rayleigh_length_init,3), ' m')\n",
    "print('RMS bunch length:', round(thisPulse.sig_s,3), ' m')"
   ]
  },
  {
   "cell_type": "markdown",
   "id": "4b585522-232c-4c5d-bb5a-45562f8f1fd3",
   "metadata": {},
   "source": [
    "***\n",
    "## Propagate through crystal once"
   ]
  },
  {
   "cell_type": "code",
   "execution_count": null,
   "id": "3443e113-9796-4e3c-a0f2-ae2258aa8bb9",
   "metadata": {
    "jupyter": {
     "source_hidden": true
    },
    "tags": []
   },
   "outputs": [],
   "source": [
    "# Initialize laser pulse\n",
    "if set == 'function':\n",
    "    thisPulse = pulse.LaserPulse(params)\n",
    "else:\n",
    "    thisPulse = pulse.LaserPulse(params, files)\n",
    "\n",
    "thisPulse.zero_phase()\n",
    "e_crystal = crystal.Crystal(crystal_params)\n",
    "e_drift = drift.Drift(L_drift)\n",
    "\n",
    "n_photons_before = 0\n",
    "for laser_index_i in np.arange(thisPulse.nslice):\n",
    "        n_photons_before += np.sum(thisPulse.slice[laser_index_i].n_photons_2d.mesh)\n",
    "\n",
    "print('\\nPropagating ', thisPulse.nslice, 'laser slices through ', e_crystal.nslice,' crystal slices')\n",
    "thisPulse = e_crystal.propagate(thisPulse, prop_type, gain, radial_n2)\n",
    "\n",
    "x_prop = np.linspace(thisPulse.slice[0].wfr.mesh.xStart,thisPulse.slice[0].wfr.mesh.xFin,thisPulse.slice[0].wfr.mesh.nx)\n",
    "y_prop = np.linspace(thisPulse.slice[0].wfr.mesh.yStart,thisPulse.slice[0].wfr.mesh.yFin,thisPulse.slice[0].wfr.mesh.ny)"
   ]
  },
  {
   "cell_type": "code",
   "execution_count": null,
   "id": "0fc0a46d-7698-4624-a850-eed6d8a33f28",
   "metadata": {
    "jupyter": {
     "source_hidden": true
    },
    "tags": []
   },
   "outputs": [],
   "source": [
    "e_total_prop = thisPulse.extract_total_2d_elec_fields()\n",
    "intens_2d_prop = 0.5 *const.c *const.epsilon_0 *(e_total_prop.re**2.0 + e_total_prop.im**2.0)\n",
    "\n",
    "intens0 = intens_2d_prop.flatten()\n",
    "wfr0 = thisPulse.slice[0].wfr\n",
    "#srwlib.srwl_uti_save_intens_ascii(intens0, wfr0.mesh, 'initial-intensity.dat', 0, ['', 'Horizontal Position', 'Vertical Position', 'Intensity'], _arUnits=['', 'm', 'm', ''])\n",
    "uti_plot.uti_plot2d1d(\n",
    "    intens0,\n",
    "    [wfr0.mesh.xStart, wfr0.mesh.xFin, wfr0.mesh.nx],\n",
    "    [wfr0.mesh.yStart, wfr0.mesh.yFin, wfr0.mesh.ny],\n",
    "    0,\n",
    "    0,\n",
    "    ['Horizontal Position', 'Vertical Position', 'Intensity (propagate)'],\n",
    "    ['m', 'm', 'ph/s/.1%bw/mm^2'],\n",
    "    True)\n",
    "\n",
    "with plt.style.context(('seaborn-poster')):\n",
    "    fig = plt.figure(figsize=(4.6 * 2,3.6 * 2))\n",
    "    ax = fig.gca()\n",
    "    plt.pcolormesh(x_prop*(1e3), y_prop*(1e3), intens_2d_prop, cmap=plt.cm.viridis, shading='auto')\n",
    "    plt.colorbar()\n",
    "    ax.set_ylabel(r'Vertical Position [mm]')\n",
    "    ax.set_xlabel(r'Horizontal Position [mm]')\n",
    "    ax.set_title('Intensity (propagate)')"
   ]
  },
  {
   "cell_type": "code",
   "execution_count": null,
   "id": "910fd37e-8398-4692-8e1c-1497a86cb3d7",
   "metadata": {
    "jupyter": {
     "source_hidden": true
    },
    "tags": []
   },
   "outputs": [],
   "source": [
    "phase_2d_prop = thisPulse.extract_total_2d_phase()\n",
    "phase0 = phase_2d_prop.flatten()\n",
    "wfr0 = thisPulse.slice[0].wfr\n",
    "#srwlib.srwl_uti_save_intens_ascii(phase0, wfr0.mesh, 'initial-phase.dat', 0, ['', 'Horizontal Position', 'Vertical Position', 'Phase'], _arUnits=['', 'm', 'm', 'rad'])\n",
    "uti_plot.uti_plot2d1d(\n",
    "    phase0,\n",
    "    [wfr0.mesh.xStart, wfr0.mesh.xFin, wfr0.mesh.nx],\n",
    "    [wfr0.mesh.yStart, wfr0.mesh.yFin, wfr0.mesh.ny],\n",
    "    0,\n",
    "    0,\n",
    "    ['Horizontal Position', 'Vertical Position', 'Phase (propagate)'],\n",
    "    ['m', 'm', ''],\n",
    "    True)\n",
    "\n",
    "with plt.style.context(('seaborn-poster')):\n",
    "    fig = plt.figure(figsize=(4.6 * 2,3.6 * 2))\n",
    "    ax = fig.gca()\n",
    "    plt.pcolormesh(x_prop*(1e3), y_prop*(1e3), phase_2d_prop, cmap=plt.cm.viridis, shading='auto')\n",
    "    plt.colorbar()\n",
    "    ax.set_ylabel(r'Vertical Position [mm]')\n",
    "    ax.set_xlabel(r'Horizontal Position [mm]')\n",
    "    ax.set_title('Phase (propagate)')"
   ]
  },
  {
   "cell_type": "code",
   "execution_count": null,
   "id": "c0732a9e-e480-4860-b830-5e331e08fcba",
   "metadata": {
    "jupyter": {
     "source_hidden": true
    },
    "tags": []
   },
   "outputs": [],
   "source": [
    "print('Drifting ', thisPulse.nslice, 'laser slices by ', L_drift, '[m]')\n",
    "thisPulse = e_drift.propagate(thisPulse, 'default')\n",
    "\n",
    "x_prop = np.linspace(thisPulse.slice[0].wfr.mesh.xStart,thisPulse.slice[0].wfr.mesh.xFin,thisPulse.slice[0].wfr.mesh.nx)\n",
    "y_prop = np.linspace(thisPulse.slice[0].wfr.mesh.yStart,thisPulse.slice[0].wfr.mesh.yFin,thisPulse.slice[0].wfr.mesh.ny)"
   ]
  },
  {
   "cell_type": "code",
   "execution_count": null,
   "id": "cb67b99e-a1fe-40bb-aff5-c8ea3877ff33",
   "metadata": {
    "jupyter": {
     "source_hidden": true
    },
    "tags": []
   },
   "outputs": [],
   "source": [
    "e_total_prop = thisPulse.extract_total_2d_elec_fields()\n",
    "intens_2d_prop = 0.5 *const.c *const.epsilon_0 *(e_total_prop.re**2.0 + e_total_prop.im**2.0)\n",
    "\n",
    "intens0 = intens_2d_prop.flatten()\n",
    "wfr0 = thisPulse.slice[0].wfr\n",
    "#srwlib.srwl_uti_save_intens_ascii(intens0, wfr0.mesh, 'initial-intensity.dat', 0, ['', 'Horizontal Position', 'Vertical Position', 'Intensity'], _arUnits=['', 'm', 'm', ''])\n",
    "uti_plot.uti_plot2d1d(\n",
    "    intens0,\n",
    "    [wfr0.mesh.xStart, wfr0.mesh.xFin, wfr0.mesh.nx],\n",
    "    [wfr0.mesh.yStart, wfr0.mesh.yFin, wfr0.mesh.ny],\n",
    "    0,\n",
    "    0,\n",
    "    ['Horizontal Position', 'Vertical Position', 'Intensity (drift)'],\n",
    "    ['m', 'm', 'ph/s/.1%bw/mm^2'],\n",
    "    True)\n",
    "\n",
    "with plt.style.context(('seaborn-poster')):\n",
    "    fig = plt.figure(figsize=(4.6 * 2,3.6 * 2))\n",
    "    ax = fig.gca()\n",
    "    plt.pcolormesh(x_prop*(1e3), y_prop*(1e3), intens_2d_prop, cmap=plt.cm.viridis, shading='auto')\n",
    "    plt.colorbar()\n",
    "    ax.set_ylabel(r'Vertical Position [mm]')\n",
    "    ax.set_xlabel(r'Horizontal Position [mm]')\n",
    "    ax.set_title('Intensity (drift)')"
   ]
  },
  {
   "cell_type": "code",
   "execution_count": null,
   "id": "79321dee-0905-4745-b42e-68464fdb5d6b",
   "metadata": {
    "jupyter": {
     "source_hidden": true
    },
    "tags": []
   },
   "outputs": [],
   "source": [
    "phase_2d_prop = thisPulse.extract_total_2d_phase()\n",
    "phase0 = phase_2d_prop.flatten()\n",
    "wfr0 = thisPulse.slice[0].wfr\n",
    "#srwlib.srwl_uti_save_intens_ascii(phase0, wfr0.mesh, 'initial-phase.dat', 0, ['', 'Horizontal Position', 'Vertical Position', 'Phase'], _arUnits=['', 'm', 'm', 'rad'])\n",
    "uti_plot.uti_plot2d1d(\n",
    "    phase0,\n",
    "    [wfr0.mesh.xStart, wfr0.mesh.xFin, wfr0.mesh.nx],\n",
    "    [wfr0.mesh.yStart, wfr0.mesh.yFin, wfr0.mesh.ny],\n",
    "    0,\n",
    "    0,\n",
    "    ['Horizontal Position', 'Vertical Position', 'Phase (drift)'],\n",
    "    ['m', 'm', ''],\n",
    "    True)\n",
    "\n",
    "with plt.style.context(('seaborn-poster')):\n",
    "    fig = plt.figure(figsize=(4.6 * 2,3.6 * 2))\n",
    "    ax = fig.gca()\n",
    "    plt.pcolormesh(x_prop*(1e3), y_prop*(1e3), phase_2d_prop, cmap=plt.cm.viridis, shading='auto')\n",
    "    plt.colorbar()\n",
    "    ax.set_ylabel(r'Vertical Position [mm]')\n",
    "    ax.set_xlabel(r'Horizontal Position [mm]')\n",
    "    ax.set_title('Phase (drift)')"
   ]
  },
  {
   "cell_type": "code",
   "execution_count": null,
   "id": "948ce29f-9b7d-4874-a7fe-f9854858b7fb",
   "metadata": {
    "jupyter": {
     "source_hidden": true
    },
    "tags": []
   },
   "outputs": [],
   "source": [
    "prop_n_photons = 0\n",
    "for laser_index_i in np.arange(thisPulse.nslice):\n",
    "        prop_n_photons += np.sum(thisPulse.slice[laser_index_i].n_photons_2d.mesh)\n",
    "\n",
    "# print(prop_n_photons -n_photons_before)\n",
    "print('Initial number: ', \"{:.2E}\".format(n_photons_before))\n",
    "print('Propagated number (from array):', \"{:.2E}\".format(prop_n_photons))"
   ]
  },
  {
   "cell_type": "code",
   "execution_count": null,
   "id": "4e4e0be0-002e-49f2-9f7e-e0211cbb5141",
   "metadata": {
    "jupyter": {
     "source_hidden": true
    },
    "tags": []
   },
   "outputs": [],
   "source": [
    "total = 0\n",
    "for laser_index_i in np.arange(thisPulse.nslice):\n",
    "    \n",
    "    dx = (thisPulse.slice[laser_index_i].wfr.mesh.xFin - thisPulse.slice[laser_index_i].wfr.mesh.xStart)/thisPulse.slice[laser_index_i].wfr.mesh.nx\n",
    "    dy = (thisPulse.slice[laser_index_i].wfr.mesh.yFin - thisPulse.slice[laser_index_i].wfr.mesh.yStart)/thisPulse.slice[laser_index_i].wfr.mesh.ny\n",
    "    cell_area = dx * dy\n",
    "    \n",
    "    intens_2d = srwutil.calc_int_from_elec(thisPulse.slice[laser_index_i].wfr) #extract 2d intensity\n",
    "    efield_abs_sqrd_2d = np.sqrt(const.mu_0 / const.epsilon_0) * 2.0 * intens_2d # [V^2/m^2]\n",
    "    \n",
    "    end1 = (thisPulse.slice[laser_index_i]._pulse_pos -0.5*thisPulse.slice[laser_index_i].ds) /(np.sqrt(2.0) *thisPulse.slice[laser_index_i].sig_s)\n",
    "    end2 = (thisPulse.slice[laser_index_i]._pulse_pos +0.5*thisPulse.slice[laser_index_i].ds) /(np.sqrt(2.0) *thisPulse.slice[laser_index_i].sig_s)\n",
    "    energy_2d = cell_area *(const.epsilon_0 /2.0) \\\n",
    "                *(efield_abs_sqrd_2d /np.exp(-thisPulse.slice[laser_index_i]._pulse_pos**2.0/(np.sqrt(2.0) *thisPulse.slice[laser_index_i].sig_s)**2.0)) \\\n",
    "                *((np.sqrt(np.pi)/2.0) *(np.sqrt(2.0) *thisPulse.slice[laser_index_i].sig_s) *(special.erf(end2) -special.erf(end1)))\n",
    "    photon_e = thisPulse.slice[laser_index_i].photon_e_ev * const.e\n",
    "    n_photons_2d = energy_2d / photon_e\n",
    "    total += np.sum(n_photons_2d)\n",
    "\n",
    "print('Propagated number (from fields):', \"{:.2E}\".format(total))"
   ]
  }
 ],
 "metadata": {
  "kernelspec": {
   "display_name": "Python 3",
   "language": "python",
   "name": "py3"
  },
  "language_info": {
   "codemirror_mode": {
    "name": "ipython",
    "version": 3
   },
   "file_extension": ".py",
   "mimetype": "text/x-python",
   "name": "python",
   "nbconvert_exporter": "python",
   "pygments_lexer": "ipython3",
   "version": "3.7.2"
  }
 },
 "nbformat": 4,
 "nbformat_minor": 5
}
