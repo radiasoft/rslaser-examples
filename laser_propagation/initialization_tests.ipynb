{
 "cells": [
  {
   "cell_type": "markdown",
   "id": "905d12b8-b2c6-43ad-92ea-c7e8b3daafde",
   "metadata": {},
   "source": [
    "<div class=\"alert alert-block alert-info\">\n",
    "<p style=\"font-size:24px;text-align:center\"><b>Test the initialization of the 800nm laser pulse and Ti:Sapphire crystal</b>\n",
    "</div>"
   ]
  },
  {
   "cell_type": "code",
   "execution_count": null,
   "id": "9631fa67-1481-4125-87d6-8ff228c73e30",
   "metadata": {},
   "outputs": [],
   "source": [
    "set = 'old' \n",
    "# Options: 'old', 'new', 'function'\n",
    "prop_type = 'n0n2_srw' \n",
    "# Options: 'gain_calc' 'abcd_lct' 'n0n2_lct' 'n0n2_srw'\n",
    "set_pump_type = 'left'\n",
    "# Options: 'dual' 'left' 'right'\n",
    "\n",
    "num_laser_slices = 10\n",
    "num_crystal_slices = 10\n",
    "\n",
    "gain = 1\n",
    "radial_n2 = 1"
   ]
  },
  {
   "cell_type": "markdown",
   "id": "9c4045d1-2fa0-4488-be21-5291a3fe0031",
   "metadata": {},
   "source": [
    "### Imports, Files, Crystal/Laser Params"
   ]
  },
  {
   "cell_type": "code",
   "execution_count": null,
   "id": "1dea9177-7966-4a3d-a0f9-3ddb7bd1b8b0",
   "metadata": {
    "jupyter": {
     "source_hidden": true
    },
    "tags": []
   },
   "outputs": [],
   "source": [
    "import sys, copy\n",
    "import numpy as np\n",
    "from pykern.pkcollections import PKDict\n",
    "import os\n",
    "\n",
    "# The rslaser library may not be installed, so a check is required.\n",
    "try:\n",
    "    import rslaser\n",
    "except:\n",
    "    # Developers should use 'pip install -e .' from the command line.\n",
    "    # Users can install directly from GitHub --\n",
    "    !{sys.executable} -m pip install git+https://github.com/radiasoft/rslaser.git\n",
    "    import rslaser\n",
    "\n",
    "from rslaser.pulse import pulse\n",
    "from rslaser.optics import crystal\n",
    "import rslaser.utils.srwl_uti_data as srwutil\n",
    "\n",
    "import scipy.constants as const\n",
    "from scipy import interpolate\n",
    "from scipy import special\n",
    "\n",
    "# 2D plotting\n",
    "import matplotlib as mpl\n",
    "import matplotlib.pyplot as plt\n",
    "from matplotlib import cm\n",
    "\n",
    "# reset the notebook style\n",
    "mpl.rcParams.update(mpl.rcParamsDefault)\n",
    "%matplotlib inline"
   ]
  },
  {
   "cell_type": "code",
   "execution_count": null,
   "id": "d3a4ecb8-c0bb-4016-b5dc-0ac158dda6b7",
   "metadata": {
    "jupyter": {
     "source_hidden": true
    },
    "tags": []
   },
   "outputs": [],
   "source": [
    "if set == 'old':\n",
    "    package_data_dir = rslaser.pkg_resources.resource_filename ('rslaser', 'package_data/20220218')\n",
    "    ccd_name = 'photon_count_pump_off.txt'\n",
    "    wfs_name = 'phase_pump_off.txt'\n",
    "elif set == 'new':\n",
    "    package_data_dir = rslaser.pkg_resources.resource_filename ('rslaser', 'package_data/20220519')\n",
    "    ccd_name = 'cut_photon_count_seed_laser.txt'\n",
    "    wfs_name = 'phase_pump_off_zeroed.txt'    \n",
    "\n",
    "files = PKDict(\n",
    "    meta = os.path.join(package_data_dir, 'meta_data.dat'),\n",
    "    ccd = os.path.join(package_data_dir, ccd_name),\n",
    "    wfs = os.path.join(package_data_dir, wfs_name)\n",
    ")\n",
    "\n",
    "z       = np.array([ 0.0,  0.5,  1.0, 1.5, 2.0, 2.5])/100.0\n",
    "n2_plot = np.array([30.5, 18.3, 10.4, 5.9, 3.3, 1.9])\n",
    "plot_fit = interpolate.splrep(z, n2_plot)"
   ]
  },
  {
   "cell_type": "code",
   "execution_count": null,
   "id": "268679e4-41f0-4cf9-b282-5415ea721d1d",
   "metadata": {
    "jupyter": {
     "source_hidden": true
    },
    "tags": []
   },
   "outputs": [],
   "source": [
    "w0 = 1.64e-3\n",
    "\n",
    "params = PKDict(\n",
    "    photon_e_ev = 1.5498, # Photon energy [eV], calculated from 800nm wavelength\n",
    "    nslice      = num_laser_slices,\n",
    "    pulseE      = 1.0e-6,\n",
    "    tau_fwhm    = 300.0e-12 / np.sqrt(2.),\n",
    "    sigx_waist  = w0,\n",
    "    sigy_waist  = w0,\n",
    ")\n",
    "\n",
    "L_cryst = 0.025\n",
    "new_z = (L_cryst /num_crystal_slices) *(np.arange(num_crystal_slices)+0.5)\n",
    "\n",
    "crystal_params = PKDict(\n",
    "    length      = L_cryst, # [m]\n",
    "    nslice      = num_crystal_slices,\n",
    "    n0          = [1.76 for _ in range(num_crystal_slices)],\n",
    "    n2          = interpolate.splev(new_z, plot_fit).tolist(),\n",
    "    population_inversion = PKDict(\n",
    "        n_cells=64,\n",
    "        mesh_extent=0.01,  # [m]\n",
    "        crystal_alpha=120.0,  # [1/m], 1.2 1/cm\n",
    "        pump_waist=1.43e-3,  # [m]\n",
    "        pump_wavelength=532.0e-9,  # [m]\n",
    "        pump_energy=0.035,  # [J], pump laser energy onto the crystal\n",
    "        pump_type=set_pump_type,\n",
    "    )\n",
    ")\n",
    "\n",
    "L_drift = 0.5  # [m]\n",
    "\n",
    "cell_dx = (2.0 *crystal_params.population_inversion.mesh_extent)/crystal_params.population_inversion.n_cells"
   ]
  },
  {
   "cell_type": "markdown",
   "id": "70e69f79-a659-42f8-b64d-cf6c6a676c11",
   "metadata": {},
   "source": [
    "***\n",
    "## Total number of excited states in full crystal, as a function of the number of crystal slices"
   ]
  },
  {
   "cell_type": "code",
   "execution_count": null,
   "id": "a5a9c98c-9d6b-4681-9510-147c5db8fb36",
   "metadata": {
    "jupyter": {
     "source_hidden": true
    },
    "tags": []
   },
   "outputs": [],
   "source": [
    "total_n_excited_states_i = np.zeros(crystal_params.nslice)\n",
    "total_n_excited_states   = np.zeros(crystal_params.nslice)\n",
    "crystal_params_copy = copy.deepcopy(crystal_params)\n",
    "\n",
    "for num_c_slices in np.arange(crystal_params.nslice):\n",
    "\n",
    "    num_slices = num_c_slices+1\n",
    "    new_z = (L_cryst /num_slices) *(np.arange(num_slices)+0.5)\n",
    "    crystal_params_copy.nslice = num_c_slices+1\n",
    "    crystal_params_copy.n0 = [1.76 for _ in range(num_slices)]\n",
    "    crystal_params_copy.n2 = interpolate.splev(new_z, plot_fit).tolist()\n",
    "    e_crystal = crystal.Crystal(crystal_params_copy)\n",
    "    cell_volume = cell_dx**2.0*(crystal_params_copy.length/crystal_params_copy.nslice)\n",
    "    \n",
    "    if set == 'function':\n",
    "        thisPulse = pulse.LaserPulse(params)\n",
    "    else:\n",
    "        thisPulse = pulse.LaserPulse(params, files)\n",
    "    \n",
    "    for crystal_index_i in np.arange(e_crystal.nslice):\n",
    "        total_n_excited_states_i[num_c_slices] += np.sum(e_crystal.slice[crystal_index_i].pop_inversion_mesh *cell_volume)\n",
    "    \n",
    "    if (num_c_slices < crystal_params.nslice):\n",
    "        print('\\nPropagating ', len(thisPulse.slice), 'laser slices through ', e_crystal.nslice,' crystal slices')\n",
    "        thisPulse = e_crystal.propagate(thisPulse, prop_type, gain, radial_n2)\n",
    "\n",
    "    for crystal_index_p in np.arange(e_crystal.nslice):\n",
    "        total_n_excited_states[num_c_slices] += np.sum(e_crystal.slice[crystal_index_p].pop_inversion_mesh *cell_volume)\n",
    "\n",
    "n_c_slice = np.arange(1,crystal_params.nslice + 1)\n",
    "\n",
    "fig = plt.figure(figsize=(5,3))\n",
    "ax = fig.gca()\n",
    "plt.plot(n_c_slice,total_n_excited_states_i,'k',label='after initialization')\n",
    "plt.plot(n_c_slice,total_n_excited_states,'--k',label='after propagation')\n",
    "plt.legend()\n",
    "ax.tick_params(direction=\"in\")\n",
    "ax.set_ylabel(r'Number Excited States')\n",
    "ax.set_xlabel(r'Number of Crystal Slices')"
   ]
  },
  {
   "cell_type": "markdown",
   "id": "cedaed75-7dde-40fc-9da1-78129fb0a34a",
   "metadata": {},
   "source": [
    "***\n",
    "## Number of excited states as a function of longitudinal distance through the crystal"
   ]
  },
  {
   "cell_type": "code",
   "execution_count": null,
   "id": "e2687796-28e1-410b-9b5d-f219ad9d481d",
   "metadata": {
    "jupyter": {
     "source_hidden": true
    },
    "tags": []
   },
   "outputs": [],
   "source": [
    "e_crystal = crystal.Crystal(crystal_params)\n",
    "cell_volume = cell_dx**2.0*(crystal_params.length/crystal_params.nslice)\n",
    "n_excited_states_slice_i = np.zeros(e_crystal.nslice)\n",
    "n_excited_states_slice = np.zeros(e_crystal.nslice)\n",
    "\n",
    "if set == 'function':\n",
    "    thisPulse = pulse.LaserPulse(params)\n",
    "else:\n",
    "    thisPulse = pulse.LaserPulse(params, files)\n",
    "\n",
    "for c_slice_index in np.arange(e_crystal.nslice):\n",
    "    n_excited_states_slice_i[c_slice_index] = np.sum(e_crystal.slice[c_slice_index].pop_inversion_mesh * cell_volume)\n",
    "\n",
    "print('\\nPropagating ', thisPulse.nslice, 'laser slices through ', e_crystal.nslice,' crystal slices')\n",
    "thisPulse = e_crystal.propagate(thisPulse, prop_type, gain, radial_n2)\n",
    "\n",
    "for c_slice_index in np.arange(e_crystal.nslice):\n",
    "    n_excited_states_slice[c_slice_index] = np.sum(e_crystal.slice[c_slice_index].pop_inversion_mesh * cell_volume)\n",
    "\n",
    "#Assume all crystals have the same length\n",
    "z_c_slice = e_crystal.slice[0].length *(np.arange(e_crystal.nslice)+0.5)\n",
    "\n",
    "fig = plt.figure(figsize=(5,3))\n",
    "ax = fig.gca()\n",
    "plt.plot(z_c_slice,n_excited_states_slice_i,'k',label='after initialization')\n",
    "plt.plot(z_c_slice,n_excited_states_slice,'--k',label='after propagation')\n",
    "# plt.legend()\n",
    "ax.tick_params(direction=\"in\")\n",
    "ax.set_ylabel(r'Number Excited States')\n",
    "ax.set_xlabel(r'Distance from Crystal Face [m]')\n",
    "ax.set_title('      Longitudinal Distribution of Excited States')\n"
   ]
  },
  {
   "cell_type": "markdown",
   "id": "590a49cb-4b20-4766-b5c2-67db787451e8",
   "metadata": {},
   "source": [
    "***\n",
    "## Single pass, number of photons in laser as a function of number of slices in crystal"
   ]
  },
  {
   "cell_type": "code",
   "execution_count": null,
   "id": "69d525d5-ef0a-4cf8-897b-839557f27315",
   "metadata": {
    "jupyter": {
     "source_hidden": true
    },
    "tags": []
   },
   "outputs": [],
   "source": [
    "total_n_photons_i = np.zeros(crystal_params.nslice)\n",
    "total_n_photons   = np.zeros(crystal_params.nslice)\n",
    "\n",
    "for num_c_slices in np.arange(crystal_params.nslice):\n",
    "\n",
    "    num_slices = num_c_slices+1\n",
    "    new_z = (L_cryst /num_slices) *(np.arange(num_slices)+0.5)\n",
    "    crystal_params_copy.nslice = num_c_slices+1\n",
    "    crystal_params_copy.n0 = [1.76 for _ in range(num_slices)]\n",
    "    crystal_params_copy.n2 = interpolate.splev(new_z, plot_fit).tolist()\n",
    "    e_crystal = crystal.Crystal(crystal_params_copy)\n",
    "    cell_volume = cell_dx**2.0*(crystal_params_copy.length/crystal_params_copy.nslice)\n",
    "    \n",
    "    if set == 'function':\n",
    "        thisPulse = pulse.LaserPulse(params)\n",
    "    else:\n",
    "        thisPulse = pulse.LaserPulse(params, files)\n",
    "    \n",
    "    for laser_index_i in np.arange(thisPulse.nslice):\n",
    "        total_n_photons_i[num_c_slices] += np.sum(thisPulse.slice[laser_index_i].n_photons_2d.mesh)\n",
    "    \n",
    "    if (num_c_slices < crystal_params.nslice):\n",
    "        print('\\nPropagating ', thisPulse.nslice, 'laser slices through ', e_crystal.nslice,' crystal slices')\n",
    "        thisPulse = e_crystal.propagate(thisPulse, prop_type, gain, radial_n2)\n",
    "\n",
    "    for laser_index_p in np.arange(thisPulse.nslice):\n",
    "        total_n_photons[num_c_slices] += np.sum(thisPulse.slice[laser_index_p].n_photons_2d.mesh)\n",
    "\n",
    "n_c_slice = np.arange(1,crystal_params.nslice + 1)\n",
    "\n",
    "fig = plt.figure(figsize=(5,3))\n",
    "ax = fig.gca()\n",
    "plt.plot(n_c_slice,total_n_photons_i,'k',label='after initialization')\n",
    "plt.plot(n_c_slice,total_n_photons,'--k',label='after propagation')\n",
    "plt.legend()\n",
    "ax.tick_params(direction=\"in\")\n",
    "ax.set_ylabel(r'Total Number of Photons')\n",
    "ax.set_xlabel(r'Number of Crystal Slices')\n"
   ]
  },
  {
   "cell_type": "markdown",
   "id": "4005ff9e-8fcd-4a55-b679-ed7a633629fb",
   "metadata": {},
   "source": [
    "***\n",
    "## Total number of photons in full laser pulse, as a function of the number of laser slices"
   ]
  },
  {
   "cell_type": "code",
   "execution_count": null,
   "id": "ff6cdef4-fd35-4c63-a8f0-babd49380972",
   "metadata": {
    "jupyter": {
     "source_hidden": true
    },
    "tags": []
   },
   "outputs": [],
   "source": [
    "total_n_photons_i = np.zeros(params.nslice)\n",
    "total_n_photons   = np.zeros(params.nslice)\n",
    "params_copy = copy.deepcopy(params)\n",
    "\n",
    "for num_l_slices in np.arange(params.nslice):\n",
    "    \n",
    "    e_crystal = crystal.Crystal(crystal_params)\n",
    "    params_copy.nslice = num_l_slices+1\n",
    "    \n",
    "    if set == 'function':\n",
    "        thisPulse = pulse.LaserPulse(params_copy)\n",
    "    else:\n",
    "        thisPulse = pulse.LaserPulse(params_copy, files)\n",
    "    \n",
    "    for laser_index_i in np.arange(thisPulse.nslice):\n",
    "        total_n_photons_i[num_l_slices] += np.sum(thisPulse.slice[laser_index_i].n_photons_2d.mesh)\n",
    "    \n",
    "    if (num_l_slices < params.nslice):\n",
    "        print('\\nPropagating ', thisPulse.nslice, 'laser slices through ', e_crystal.nslice,' crystal slices')\n",
    "        thisPulse = e_crystal.propagate(thisPulse, prop_type, gain, radial_n2)\n",
    "\n",
    "    for laser_index_p in np.arange(thisPulse.nslice):\n",
    "        total_n_photons[num_l_slices] += np.sum(thisPulse.slice[laser_index_p].n_photons_2d.mesh)\n",
    "\n",
    "n_l_slice = np.arange(1,params.nslice + 1)\n",
    "\n",
    "fig = plt.figure(figsize=(5,3))\n",
    "ax = fig.gca()\n",
    "plt.plot(n_l_slice,total_n_photons_i,'k',label='after initialization')\n",
    "plt.plot(n_l_slice,total_n_photons,'--k',label='after propagation')\n",
    "plt.legend()\n",
    "ax.tick_params(direction=\"in\")\n",
    "ax.set_ylabel(r'Total Number of Photons')\n",
    "ax.set_xlabel(r'Number of Laser Slices in Pulse')"
   ]
  },
  {
   "cell_type": "markdown",
   "id": "1604d601-e201-41c6-9ca5-fa8c19584b9a",
   "metadata": {},
   "source": [
    "## Number of photons as a function of longitudinal distance through the laser pulse\n",
    "***"
   ]
  },
  {
   "cell_type": "code",
   "execution_count": null,
   "id": "b62ec612-89e6-46e4-975d-e7ef9ebd3740",
   "metadata": {
    "jupyter": {
     "source_hidden": true
    },
    "tags": []
   },
   "outputs": [],
   "source": [
    "if thisPulse.slice[0].ds == thisPulse.slice[-1].ds:\n",
    "    fig_x = thisPulse.slice[0].ds *(np.arange(thisPulse.nslice) + 0.5)\n",
    "else:\n",
    "    print('Slices are different lengths!')\n",
    "\n",
    "photons_in_slice = np.zeros((thisPulse.nslice))\n",
    "for laser_index in np.arange(thisPulse.nslice):\n",
    "        photons_in_slice[laser_index] = np.sum(np.sum(thisPulse.slice[laser_index].n_photons_2d.mesh))\n",
    "\n",
    "fig = plt.figure(figsize=(5,3))\n",
    "ax = fig.gca()\n",
    "plt.plot(fig_x,photons_in_slice,'k')\n",
    "box = ax.get_position()\n",
    "ax.tick_params(direction=\"in\")\n",
    "ax.set_ylabel(r'Total Number of Photons')\n",
    "ax.set_xlabel(r'Distance from Laser Front [m]')\n",
    "plt.title('Longitudinal Photon Distribution')"
   ]
  }
 ],
 "metadata": {
  "kernelspec": {
   "display_name": "Python 3",
   "language": "python",
   "name": "py3"
  },
  "language_info": {
   "codemirror_mode": {
    "name": "ipython",
    "version": 3
   },
   "file_extension": ".py",
   "mimetype": "text/x-python",
   "name": "python",
   "nbconvert_exporter": "python",
   "pygments_lexer": "ipython3",
   "version": "3.7.2"
  }
 },
 "nbformat": 4,
 "nbformat_minor": 5
}
