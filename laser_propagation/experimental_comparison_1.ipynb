{
 "cells": [
  {
   "cell_type": "markdown",
   "id": "e30aa14c-6d19-450a-9c55-d6814cad574a",
   "metadata": {},
   "source": [
    "<div class=\"alert alert-block alert-info\">\n",
    "<p style=\"font-size:24px;text-align:center\"><b>Experimental Comparison (Feb 2022 Data Set)</b>\n",
    "</div>"
   ]
  },
  {
   "cell_type": "code",
   "execution_count": null,
   "id": "ccc395ba-552b-4978-bf45-13723d3df13f",
   "metadata": {
    "jupyter": {
     "source_hidden": true
    },
    "tags": []
   },
   "outputs": [],
   "source": [
    "import numpy as np"
   ]
  },
  {
   "cell_type": "code",
   "execution_count": null,
   "id": "b94a5c81-1a1d-48bb-af5c-a781eae542d2",
   "metadata": {
    "tags": []
   },
   "outputs": [],
   "source": [
    "# Laser pulse\n",
    "num_laser_slices = 20\n",
    "pulse_ncells = 128\n",
    "\n",
    "# Crystal\n",
    "num_crystal_slices = 10\n",
    "radial_n2 = 1\n",
    "\n",
    "# Drift\n",
    "L_drift = 0.5 #[m]"
   ]
  },
  {
   "cell_type": "code",
   "execution_count": null,
   "id": "ec4a0e32-6754-4cd2-b9c4-fc9ce2a33314",
   "metadata": {
    "tags": []
   },
   "outputs": [],
   "source": [
    "colorbar_min = 1397.3978718313067 #1859.2289027463828\n",
    "colorbar_max = 656068371.7706386 #871345988.9991088\n",
    "\n",
    "colorbar_min2 = -6669381.44800365 #-8873569.171015844\n",
    "colorbar_max2 = 92993576.55883849 #123727370.53688169"
   ]
  },
  {
   "cell_type": "markdown",
   "id": "6e1cc9db-36e2-459e-98b5-eea117a5ee18",
   "metadata": {},
   "source": [
    "### Imports, Files, Crystal/Laser Params"
   ]
  },
  {
   "cell_type": "code",
   "execution_count": null,
   "id": "78d56364-4861-4ea8-a4d2-2151316638c9",
   "metadata": {
    "jupyter": {
     "source_hidden": true
    },
    "tags": []
   },
   "outputs": [],
   "source": [
    "import sys, copy\n",
    "from pykern.pkcollections import PKDict\n",
    "import os\n",
    "\n",
    "# The rslaser library may not be installed, so a check is required.\n",
    "try:\n",
    "    import rslaser\n",
    "except:\n",
    "    # Developers should use 'pip install -e .' from the command line.\n",
    "    # Users can install directly from GitHub --\n",
    "    !{sys.executable} -m pip install git+https://github.com/radiasoft/rslaser.git\n",
    "    import rslaser\n",
    "\n",
    "from rslaser.pulse import pulse\n",
    "from rslaser.optics import crystal\n",
    "from rslaser.optics import lens\n",
    "import rslaser.utils.srwl_uti_data as srwutil\n",
    "import uti_plot\n",
    "\n",
    "import srwlib\n",
    "\n",
    "import scipy.constants as const\n",
    "from scipy import interpolate\n",
    "from scipy import special\n",
    "\n",
    "# 2D plotting\n",
    "import matplotlib as mpl\n",
    "import matplotlib.pyplot as plt\n",
    "from matplotlib import cm\n",
    "\n",
    "# reset the notebook style\n",
    "mpl.rcParams.update(mpl.rcParamsDefault)\n",
    "plt.rcParams['pcolor.shading'] ='auto'\n",
    "%matplotlib inline"
   ]
  },
  {
   "cell_type": "code",
   "execution_count": null,
   "id": "b616f0a6-a041-4489-a0d4-6b956776e1eb",
   "metadata": {
    "jupyter": {
     "source_hidden": true
    },
    "tags": []
   },
   "outputs": [],
   "source": [
    "package_data_dir = rslaser.pkg_resources.resource_filename ('rslaser', 'package_data/20220218')\n",
    "ccd_name = 'photon_count_pump_off.txt'\n",
    "wfs_name = 'phase_pump_off.txt'\n",
    "\n",
    "files = PKDict(\n",
    "    meta = os.path.join(package_data_dir, 'meta_data.dat'),\n",
    "    ccd = os.path.join(package_data_dir, ccd_name),\n",
    "    wfs = os.path.join(package_data_dir, wfs_name)\n",
    ")\n",
    "\n",
    "z       = np.array([ 0.0,  0.5,  1.0, 1.5, 2.0, 2.5])/100.0\n",
    "n2_plot = np.array([30.5, 18.3, 10.4, 5.9, 3.3, 1.9])\n",
    "plot_fit = interpolate.splrep(z, n2_plot)"
   ]
  },
  {
   "cell_type": "code",
   "execution_count": null,
   "id": "6afeacb4-c6a7-42ad-a1e3-9d98b07ba7e5",
   "metadata": {
    "tags": []
   },
   "outputs": [],
   "source": [
    "w0 = 1.64e-3\n",
    "\n",
    "params = PKDict(\n",
    "    photon_e_ev = 1.5498, # Photon energy [eV], calculated from 800nm wavelength\n",
    "    nslice      = num_laser_slices,\n",
    "    pulseE      = 1.0e-6,\n",
    "    tau_fwhm    = 300.0e-12 / np.sqrt(2.),\n",
    "    tau_0    = 300.0e-12 / np.sqrt(2.),\n",
    "    sigx_waist  = w0,\n",
    "    sigy_waist  = w0,\n",
    "    nx_slice    = pulse_ncells,\n",
    ")\n",
    "\n",
    "L_cryst = 0.025\n",
    "new_z = (L_cryst /num_crystal_slices) *(np.arange(num_crystal_slices)+0.5)\n",
    "\n",
    "crystal_params = PKDict(\n",
    "    length      = L_cryst, # [m]\n",
    "    nslice      = num_crystal_slices,\n",
    "    n0          = [1.76 for _ in range(num_crystal_slices)],\n",
    "    n2          = interpolate.splev(new_z, plot_fit).tolist(),\n",
    "    pop_inversion_n_cells=128,\n",
    "    pop_inversion_mesh_extent=0.01,  # [m]\n",
    "    pop_inversion_crystal_alpha=120.0,  # [1/m], 1.2 1/cm\n",
    "    pop_inversion_pump_waist=w0,  # [m]\n",
    "    pop_inversion_pump_wavelength=532.0e-9,  # [m]\n",
    "    pop_inversion_pump_energy=0.0211,  # [J], pump laser energy onto the crystal\n",
    "    pop_inversion_pump_type='left',\n",
    "    pop_inversion_pump_gaussian_order=2.0,\n",
    "    pop_inversion_pump_offset_x=0.0e-3,\n",
    "    pop_inversion_pump_offset_y=0.0e-3,\n",
    ")\n",
    "\n",
    "cell_dx = (2.0 *crystal_params.pop_inversion_mesh_extent)/crystal_params.pop_inversion_n_cells\n",
    "cell_volume = cell_dx**2.0 *(crystal_params.length /crystal_params.nslice)"
   ]
  },
  {
   "cell_type": "code",
   "execution_count": null,
   "id": "c6c7b47d-5a69-4c95-b848-d0e8fb639d28",
   "metadata": {
    "tags": []
   },
   "outputs": [],
   "source": [
    "def plot_excited_states(crystal):\n",
    "    long_excited_states, trans_excited_states = crystal.extract_excited_states()\n",
    "    z = np.linspace(0,2.5,len(long_excited_states))\n",
    "    x = np.linspace(-crystal.params.pop_inversion_mesh_extent,\n",
    "                    crystal.params.pop_inversion_mesh_extent,\n",
    "                    crystal.params.pop_inversion_n_cells)\n",
    "    \n",
    "    plt.figure()\n",
    "    plt.plot(z,long_excited_states, 'k')\n",
    "    plt.xlabel('Longitudinal Distance [cm]')\n",
    "    plt.ylabel('Num Excited States')\n",
    "    plt.show()\n",
    "    \n",
    "    fig = plt.figure()\n",
    "    ax = fig.gca()\n",
    "    plt.pcolormesh(x*(1e3), x*(1e3), trans_excited_states, cmap=plt.cm.viridis, shading='auto')\n",
    "    plt.colorbar()\n",
    "    ax.set_ylabel(r'Vertical Position [mm]')\n",
    "    ax.set_xlabel(r'Horizontal Position [mm]')\n",
    "    ax.set_title('Total Num Excited States')\n",
    "    plt.show()\n",
    "\n",
    "    uti_plot.uti_plot2d1d(\n",
    "        trans_excited_states.flatten(),\n",
    "        [-crystal.params.pop_inversion_mesh_extent, crystal.params.pop_inversion_mesh_extent, crystal.params.pop_inversion_n_cells],\n",
    "        [-crystal.params.pop_inversion_mesh_extent, crystal.params.pop_inversion_mesh_extent, crystal.params.pop_inversion_n_cells],\n",
    "        0,\n",
    "        0,\n",
    "        ['Horizontal Position', 'Vertical Position', 'Total Num Excited States'],\n",
    "        ['m', 'm', 'num'],\n",
    "        True)\n",
    "    \n",
    "    print(np.sum(long_excited_states),np.sum(trans_excited_states))"
   ]
  },
  {
   "cell_type": "markdown",
   "id": "a62ff9b2-a8d9-4366-96f8-f0cf8fc807c6",
   "metadata": {},
   "source": [
    "***\n",
    "## Initial Intensity and Phase"
   ]
  },
  {
   "cell_type": "code",
   "execution_count": null,
   "id": "bbe46f75-4e31-4e27-9fd1-33a4502a7fbe",
   "metadata": {
    "jupyter": {
     "source_hidden": true
    },
    "tags": []
   },
   "outputs": [],
   "source": [
    "# Initialize laser pulse\n",
    "LP_temp = pulse.LaserPulse(params, files)\n",
    "LP_temp.zero_phase()\n",
    "\n",
    "# Plot wavefront\n",
    "lp_wfr_x = np.linspace(LP_temp.slice[0].wfr.mesh.xStart,LP_temp.slice[0].wfr.mesh.xFin,LP_temp.slice[0].wfr.mesh.nx)\n",
    "lp_wfr_y = np.linspace(LP_temp.slice[0].wfr.mesh.yStart,LP_temp.slice[0].wfr.mesh.yFin,LP_temp.slice[0].wfr.mesh.ny)"
   ]
  },
  {
   "cell_type": "code",
   "execution_count": null,
   "id": "93a55f30-1111-477c-9607-0fed4f939b1f",
   "metadata": {
    "jupyter": {
     "source_hidden": true
    },
    "tags": []
   },
   "outputs": [],
   "source": [
    "e_total_t = LP_temp.extract_total_2d_elec_fields()\n",
    "intensity_2D_t = 0.5 *const.c *const.epsilon_0 *(e_total_t.re**2.0 + e_total_t.im**2.0)\n",
    "\n",
    "intens0 = intensity_2D_t.flatten()\n",
    "wfr0 = LP_temp.slice[0].wfr\n",
    "#srwlib.srwl_uti_save_intens_ascii(intens0, wfr0.mesh, 'initial-intensity.dat', 0, ['', 'Horizontal Position', 'Vertical Position', 'Intensity'], _arUnits=['', 'm', 'm', ''])\n",
    "uti_plot.uti_plot2d1d(\n",
    "    intens0,\n",
    "    [wfr0.mesh.xStart, wfr0.mesh.xFin, wfr0.mesh.nx],\n",
    "    [wfr0.mesh.yStart, wfr0.mesh.yFin, wfr0.mesh.ny],\n",
    "    0,\n",
    "    0,\n",
    "    ['Horizontal Position', 'Vertical Position', 'Intensity (initial)'],\n",
    "    ['m', 'm', 'ph/s/.1%bw/mm^2'],\n",
    "    True)\n",
    "\n",
    "with plt.style.context(('seaborn-poster')):\n",
    "    fig = plt.figure(figsize=(4.6 * 2,3.6 * 2))\n",
    "    ax = fig.gca()\n",
    "    plt.pcolormesh(lp_wfr_x*(1e3), lp_wfr_y*(1e3), intensity_2D_t, cmap=plt.cm.viridis, shading='auto')\n",
    "    plt.colorbar()\n",
    "    ax.set_ylabel(r'Vertical Position [mm]')\n",
    "    ax.set_xlabel(r'Horizontal Position [mm]')\n",
    "    ax.set_title('Intensity (initial)')"
   ]
  },
  {
   "cell_type": "code",
   "execution_count": null,
   "id": "c7a9318e-0ae1-4142-8791-18e7be914253",
   "metadata": {
    "jupyter": {
     "source_hidden": true
    },
    "tags": []
   },
   "outputs": [],
   "source": [
    "phase_t = LP_temp.extract_total_2d_phase()\n",
    "\n",
    "phase0 = phase_t.flatten()\n",
    "wfr0 = LP_temp.slice[0].wfr\n",
    "#srwlib.srwl_uti_save_intens_ascii(phase0, wfr0.mesh, 'initial-phase.dat', 0, ['', 'Horizontal Position', 'Vertical Position', 'Phase'], _arUnits=['', 'm', 'm', 'rad'])\n",
    "uti_plot.uti_plot2d1d(\n",
    "    phase0,\n",
    "    [wfr0.mesh.xStart, wfr0.mesh.xFin, wfr0.mesh.nx],\n",
    "    [wfr0.mesh.yStart, wfr0.mesh.yFin, wfr0.mesh.ny],\n",
    "    0,\n",
    "    0,\n",
    "    ['Horizontal Position', 'Vertical Position', 'Phase (initial)'],\n",
    "    ['m', 'm', ''],\n",
    "    True)\n",
    "\n",
    "with plt.style.context(('seaborn-poster')):\n",
    "    fig = plt.figure(figsize=(4.6 * 2,3.6 * 2))\n",
    "    ax = fig.gca()\n",
    "    plt.pcolormesh(lp_wfr_x*(1e3), lp_wfr_y*(1e3), phase_t, cmap=plt.cm.viridis, shading='auto')\n",
    "    plt.colorbar()\n",
    "    ax.set_ylabel(r'Vertical Position [mm]')\n",
    "    ax.set_xlabel(r'Horizontal Position [mm]')\n",
    "    ax.set_title('Phase (initial)')"
   ]
  },
  {
   "cell_type": "code",
   "execution_count": null,
   "id": "3e494b58-bdcb-4faa-a153-f5c671d7626d",
   "metadata": {},
   "outputs": [],
   "source": [
    "LP_temp.calc_total_energy()"
   ]
  },
  {
   "cell_type": "markdown",
   "id": "dcd61cc2-9c31-47dc-8345-3074004e1c40",
   "metadata": {},
   "source": [
    "# Propagate with drift and gain"
   ]
  },
  {
   "cell_type": "code",
   "execution_count": null,
   "id": "15c75ee0-b142-49ba-a66a-fabd12046e4f",
   "metadata": {
    "tags": []
   },
   "outputs": [],
   "source": [
    "### Initialize laser pulse\n",
    "thisPulse_dg = pulse.LaserPulse(params, files)\n",
    "thisPulse_dg.zero_phase()\n",
    "e_crystal = crystal.Crystal(crystal_params)\n",
    "plot_excited_states(e_crystal)\n",
    "\n",
    "print('\\nPropagating ', thisPulse_dg.nslice, 'laser slices through ', e_crystal.nslice,' crystal slices')\n",
    "thisPulse_dg = e_crystal.propagate(thisPulse_dg, 'n0n2_srw', 1, radial_n2)\n",
    "plot_excited_states(e_crystal)\n",
    "\n",
    "# instantiate a drift\n",
    "e_drift = lens.Drift_srw(L_drift)\n",
    "thisPulse_dg = e_drift.propagate(thisPulse_dg, 'default')\n",
    "\n",
    "wfr_dg=thisPulse_dg.slice[0].wfr\n",
    "x_dg=np.linspace(wfr_dg.mesh.xStart,wfr_dg.mesh.xFin,wfr_dg.mesh.nx)\n",
    "y_dg=np.linspace(wfr_dg.mesh.yStart,wfr_dg.mesh.yFin,wfr_dg.mesh.ny)"
   ]
  },
  {
   "cell_type": "code",
   "execution_count": null,
   "id": "6255a167-1bde-4dc0-81b4-c6787937df0f",
   "metadata": {
    "jupyter": {
     "source_hidden": true
    },
    "tags": []
   },
   "outputs": [],
   "source": [
    "e_total_dg = thisPulse_dg.extract_total_2d_elec_fields()\n",
    "intensity_2D_dg = 0.5 *const.c *const.epsilon_0 *(e_total_dg.re**2.0 + e_total_dg.im**2.0)\n",
    "\n",
    "intens0 = intensity_2D_dg.flatten()\n",
    "wfr0 = thisPulse_dg.slice[0].wfr\n",
    "#srwlib.srwl_uti_save_intens_ascii(intens0, wfr0.mesh, 'initial-intensity.dat', 0, ['', 'Horizontal Position', 'Vertical Position', 'Intensity'], _arUnits=['', 'm', 'm', ''])\n",
    "uti_plot.uti_plot2d1d(\n",
    "    intens0,\n",
    "    [wfr0.mesh.xStart, wfr0.mesh.xFin, wfr0.mesh.nx],\n",
    "    [wfr0.mesh.yStart, wfr0.mesh.yFin, wfr0.mesh.ny],\n",
    "    0,\n",
    "    0,\n",
    "    ['Horizontal Position', 'Vertical Position', 'Intensity (propagation with gain)'],\n",
    "    ['m', 'm', 'ph/s/.1%bw/mm^2'],\n",
    "    True)\n",
    "\n",
    "with plt.style.context(('seaborn-poster')):\n",
    "    fig = plt.figure(figsize=(4.6 * 2,3.6 * 2))\n",
    "    ax = fig.gca()\n",
    "    plt.pcolormesh(x_dg*(1e3), y_dg*(1e3), intensity_2D_dg, cmap=plt.cm.viridis, shading='auto')\n",
    "    plt.colorbar()\n",
    "    ax.set_ylabel(r'Vertical Position [mm]')\n",
    "    ax.set_xlabel(r'Horizontal Position [mm]')\n",
    "    ax.set_title('Intensity (propagation with gain)')\n"
   ]
  },
  {
   "cell_type": "code",
   "execution_count": null,
   "id": "224f511e-5e08-4dfc-bcbc-f0d251a0db97",
   "metadata": {
    "jupyter": {
     "source_hidden": true
    },
    "tags": []
   },
   "outputs": [],
   "source": [
    "phase_dg = thisPulse_dg.extract_total_2d_phase()\n",
    "\n",
    "phase0 = phase_dg.flatten()\n",
    "wfr0 = thisPulse_dg.slice[0].wfr\n",
    "#srwlib.srwl_uti_save_intens_ascii(phase0, wfr0.mesh, 'initial-phase.dat', 0, ['', 'Horizontal Position', 'Vertical Position', 'Phase'], _arUnits=['', 'm', 'm', 'rad'])\n",
    "uti_plot.uti_plot2d1d(\n",
    "    phase0,\n",
    "    [wfr0.mesh.xStart, wfr0.mesh.xFin, wfr0.mesh.nx],\n",
    "    [wfr0.mesh.yStart, wfr0.mesh.yFin, wfr0.mesh.ny],\n",
    "    0,\n",
    "    0,\n",
    "    ['Horizontal Position', 'Vertical Position', 'Phase (propagation with gain)'],\n",
    "    ['m', 'm', ''],\n",
    "    True)\n",
    "\n",
    "with plt.style.context(('seaborn-poster')):\n",
    "    fig = plt.figure(figsize=(4.6 * 2,3.6 * 2))\n",
    "    ax = fig.gca()\n",
    "    plt.pcolormesh(x_dg*(1e3), y_dg*(1e3), phase_dg, cmap=plt.cm.viridis, shading='auto')\n",
    "    plt.colorbar()\n",
    "    ax.set_ylabel(r'Vertical Position [mm]')\n",
    "    ax.set_xlabel(r'Horizontal Position [mm]')\n",
    "    ax.set_title('Phase (propagation with gain)')"
   ]
  },
  {
   "cell_type": "markdown",
   "id": "e56dc1b3-818f-4c46-9dff-ce2e5108c78f",
   "metadata": {},
   "source": [
    "# Propagate with drift and without gain"
   ]
  },
  {
   "cell_type": "code",
   "execution_count": null,
   "id": "c7846772-9192-416e-b2f6-c1bc41cec470",
   "metadata": {
    "tags": []
   },
   "outputs": [],
   "source": [
    "# Initialize laser pulse\n",
    "thisPulse_d = pulse.LaserPulse(params, files)\n",
    "thisPulse_d.zero_phase()\n",
    "e_crystal = crystal.Crystal(crystal_params)\n",
    "plot_excited_states(e_crystal)\n",
    "\n",
    "print('\\nPropagating ', thisPulse_d.nslice, 'laser slices through ', e_crystal.nslice,' crystal slices')\n",
    "thisPulse_d = e_crystal.propagate(thisPulse_d, 'n0n2_srw', 0, radial_n2)\n",
    "plot_excited_states(e_crystal)\n",
    "\n",
    "# instantiate a drift\n",
    "e_drift = lens.Drift_srw(L_drift)\n",
    "thisPulse_d = e_drift.propagate(thisPulse_d, 'default')\n",
    "\n",
    "wfr_d=thisPulse_d.slice[0].wfr\n",
    "x_d=np.linspace(wfr_d.mesh.xStart,wfr_d.mesh.xFin,wfr_d.mesh.nx)\n",
    "y_d=np.linspace(wfr_d.mesh.yStart,wfr_d.mesh.yFin,wfr_d.mesh.ny)"
   ]
  },
  {
   "cell_type": "code",
   "execution_count": null,
   "id": "d5d4f9ed-b825-4646-b351-ea69a68bcae6",
   "metadata": {
    "jupyter": {
     "source_hidden": true
    },
    "tags": []
   },
   "outputs": [],
   "source": [
    "e_total_d = thisPulse_d.extract_total_2d_elec_fields()\n",
    "intensity_2D_d = 0.5 *const.c *const.epsilon_0 *(e_total_d.re**2.0 + e_total_d.im**2.0)\n",
    "\n",
    "intens0 = intensity_2D_d.flatten()\n",
    "wfr0 = thisPulse_d.slice[0].wfr\n",
    "#srwlib.srwl_uti_save_intens_ascii(intens0, wfr0.mesh, 'initial-intensity.dat', 0, ['', 'Horizontal Position', 'Vertical Position', 'Intensity'], _arUnits=['', 'm', 'm', ''])\n",
    "uti_plot.uti_plot2d1d(\n",
    "    intens0,\n",
    "    [wfr0.mesh.xStart, wfr0.mesh.xFin, wfr0.mesh.nx],\n",
    "    [wfr0.mesh.yStart, wfr0.mesh.yFin, wfr0.mesh.ny],\n",
    "    0,\n",
    "    0,\n",
    "    ['Horizontal Position', 'Vertical Position', 'Intensity (propagation without gain)'],\n",
    "    ['m', 'm', 'ph/s/.1%bw/mm^2'],\n",
    "    True)\n",
    "\n",
    "with plt.style.context(('seaborn-poster')):\n",
    "    fig = plt.figure(figsize=(4.6 * 2,3.6 * 2))\n",
    "    ax = fig.gca()\n",
    "    plt.pcolormesh(x_d*(1e3), y_d*(1e3), intensity_2D_d, cmap=plt.cm.viridis, shading='auto')#, vmin=colorbar_min, vmax=colorbar_max)\n",
    "    plt.colorbar()\n",
    "    ax.set_ylabel(r'Vertical Position [mm]')\n",
    "    ax.set_xlabel(r'Horizontal Position [mm]')\n",
    "    ax.set_title('Intensity (simulated focusing)')"
   ]
  },
  {
   "cell_type": "code",
   "execution_count": null,
   "id": "6d4f4b49-120f-43eb-bdbc-48f31fbe32e7",
   "metadata": {
    "jupyter": {
     "source_hidden": true
    },
    "tags": []
   },
   "outputs": [],
   "source": [
    "phase_d = thisPulse_d.extract_total_2d_phase()\n",
    "\n",
    "phase0 = phase_d.flatten()\n",
    "wfr0 = thisPulse_d.slice[0].wfr\n",
    "#srwlib.srwl_uti_save_intens_ascii(phase0, wfr0.mesh, 'initial-phase.dat', 0, ['', 'Horizontal Position', 'Vertical Position', 'Phase'], _arUnits=['', 'm', 'm', 'rad'])\n",
    "uti_plot.uti_plot2d1d(\n",
    "    phase0,\n",
    "    [wfr0.mesh.xStart, wfr0.mesh.xFin, wfr0.mesh.nx],\n",
    "    [wfr0.mesh.yStart, wfr0.mesh.yFin, wfr0.mesh.ny],\n",
    "    0,\n",
    "    0,\n",
    "    ['Horizontal Position', 'Vertical Position', 'Phase (propagation without gain)'],\n",
    "    ['m', 'm', ''],\n",
    "    True)\n",
    "\n",
    "with plt.style.context(('seaborn-poster')):\n",
    "    fig = plt.figure(figsize=(4.6 * 2,3.6 * 2))\n",
    "    ax = fig.gca()\n",
    "    plt.pcolormesh(x_d*(1e3), y_d*(1e3), phase_d, cmap=plt.cm.viridis, shading='auto')\n",
    "    plt.colorbar()\n",
    "    ax.set_ylabel(r'Vertical Position [mm]')\n",
    "    ax.set_xlabel(r'Horizontal Position [mm]')\n",
    "    ax.set_title('Phase (propagation, no gain)')"
   ]
  },
  {
   "cell_type": "markdown",
   "id": "7d67a661-0cb0-4f52-b7b9-491e4cffac08",
   "metadata": {},
   "source": [
    "# Experiment: Off-peak Timing"
   ]
  },
  {
   "cell_type": "code",
   "execution_count": null,
   "id": "bb66ed0c-8218-4e44-b898-a8d08cc8d3c9",
   "metadata": {
    "jupyter": {
     "source_hidden": true
    },
    "tags": []
   },
   "outputs": [],
   "source": [
    "files_op = PKDict(\n",
    "    meta = os.path.join(package_data_dir, 'meta_data.dat'),\n",
    "    ccd = os.path.join(package_data_dir, 'photon_count_off_peak_timing.txt'), \n",
    "    wfs = os.path.join(package_data_dir, 'phase_off_peak_timing.txt'),\n",
    ")\n",
    "\n",
    "offpeakPulse = pulse.LaserPulse(params, files_op)\n",
    "wfr_exp_final_op = offpeakPulse.slice[0].wfr\n",
    "\n",
    "# _op = _off_peak\n",
    "\n",
    "x_exp_final_op=np.linspace(wfr_exp_final_op.mesh.xStart,wfr_exp_final_op.mesh.xFin,wfr_exp_final_op.mesh.nx)\n",
    "y_exp_final_op=np.linspace(wfr_exp_final_op.mesh.yStart,wfr_exp_final_op.mesh.yFin,wfr_exp_final_op.mesh.ny)"
   ]
  },
  {
   "cell_type": "code",
   "execution_count": null,
   "id": "f86449cd-3859-41d2-b4bd-645071ff8fc8",
   "metadata": {
    "jupyter": {
     "source_hidden": true
    },
    "tags": []
   },
   "outputs": [],
   "source": [
    "e_total_op = offpeakPulse.extract_total_2d_elec_fields()\n",
    "intensity_2D_exp_final_op = 0.5 *const.c *const.epsilon_0 *(e_total_op.re**2.0 + e_total_op.im**2.0)\n",
    "\n",
    "intens0 = intensity_2D_exp_final_op.flatten()\n",
    "wfr0 = offpeakPulse.slice[0].wfr\n",
    "#srwlib.srwl_uti_save_intens_ascii(intens0, wfr0.mesh, 'initial-intensity.dat', 0, ['', 'Horizontal Position', 'Vertical Position', 'Intensity'], _arUnits=['', 'm', 'm', ''])\n",
    "uti_plot.uti_plot2d1d(\n",
    "    intens0,\n",
    "    [wfr0.mesh.xStart, wfr0.mesh.xFin, wfr0.mesh.nx],\n",
    "    [wfr0.mesh.yStart, wfr0.mesh.yFin, wfr0.mesh.ny],\n",
    "    0,\n",
    "    0,\n",
    "    ['Horizontal Position', 'Vertical Position', 'Intensity (off-peak timing)'],\n",
    "    ['m', 'm', 'ph/s/.1%bw/mm^2'],\n",
    "    True)\n",
    "\n",
    "with plt.style.context(('seaborn-poster')):\n",
    "    fig = plt.figure(figsize=(4.6 * 2,3.6 * 2))\n",
    "    ax = fig.gca()\n",
    "    plt.pcolormesh(y_exp_final_op*(1e3), x_exp_final_op*(1e3), intensity_2D_exp_final_op, cmap=plt.cm.viridis, shading='auto', vmin=colorbar_min, vmax=colorbar_max)\n",
    "    plt.colorbar()\n",
    "    ax.set_ylabel(r'Vertical Position [mm]')\n",
    "    ax.set_xlabel(r'Horizontal Position [mm]')\n",
    "    ax.set_title('Intensity (experimental focusing)')"
   ]
  },
  {
   "cell_type": "code",
   "execution_count": null,
   "id": "116a084f-e619-450b-a151-c048004147f6",
   "metadata": {
    "jupyter": {
     "source_hidden": true
    },
    "tags": []
   },
   "outputs": [],
   "source": [
    "phase_exp_final_op = offpeakPulse.extract_total_2d_phase()\n",
    "\n",
    "phase0 = phase_exp_final_op.flatten()\n",
    "wfr0 = offpeakPulse.slice[0].wfr\n",
    "#srwlib.srwl_uti_save_intens_ascii(phase0, wfr0.mesh, 'initial-phase.dat', 0, ['', 'Horizontal Position', 'Vertical Position', 'Phase'], _arUnits=['', 'm', 'm', 'rad'])\n",
    "uti_plot.uti_plot2d1d(\n",
    "    phase0,\n",
    "    [wfr0.mesh.xStart, wfr0.mesh.xFin, wfr0.mesh.nx],\n",
    "    [wfr0.mesh.yStart, wfr0.mesh.yFin, wfr0.mesh.ny],\n",
    "    0,\n",
    "    0,\n",
    "    ['Horizontal Position', 'Vertical Position', 'Phase (off-peak timing)'],\n",
    "    ['m', 'm', ''],\n",
    "    True)\n",
    "\n",
    "with plt.style.context(('seaborn-poster')):\n",
    "    fig = plt.figure(figsize=(4.6 * 2,3.6 * 2))\n",
    "    ax = fig.gca()\n",
    "    plt.pcolormesh(x_exp_final_op*(1e3), y_exp_final_op*(1e3), phase_exp_final_op, cmap=plt.cm.viridis, shading='auto')\n",
    "    plt.colorbar()\n",
    "    ax.set_ylabel(r'Vertical Position [mm]')\n",
    "    ax.set_xlabel(r'Horizontal Position [mm]')\n",
    "    ax.set_title('Phase (off-peak timing)')"
   ]
  },
  {
   "cell_type": "markdown",
   "id": "9302ff01-bd78-41f1-8b38-0c6d452a6c0e",
   "metadata": {},
   "source": [
    "# Experiment: Peak Timing"
   ]
  },
  {
   "cell_type": "code",
   "execution_count": null,
   "id": "72ded3ae-713f-4cf4-ba71-f9952717a4b1",
   "metadata": {
    "jupyter": {
     "source_hidden": true
    },
    "tags": []
   },
   "outputs": [],
   "source": [
    "files_p = PKDict(\n",
    "    meta = os.path.join(package_data_dir, 'meta_data.dat'),\n",
    "    ccd = os.path.join(package_data_dir, 'photon_count_peak_timing.txt'),\n",
    "    wfs = os.path.join(package_data_dir, 'phase_peak_timing.txt'),\n",
    ")\n",
    "\n",
    "peakPulse = pulse.LaserPulse(params, files_p)\n",
    "wfr_exp_final = peakPulse.slice[0].wfr\n",
    "\n",
    "x_exp_final=np.linspace(wfr_exp_final.mesh.xStart,wfr_exp_final.mesh.xFin,wfr_exp_final.mesh.nx)\n",
    "y_exp_final=np.linspace(wfr_exp_final.mesh.yStart,wfr_exp_final.mesh.yFin,wfr_exp_final.mesh.ny)"
   ]
  },
  {
   "cell_type": "code",
   "execution_count": null,
   "id": "9c788dc4-b0e2-4aec-8a73-d566bb4c5e7b",
   "metadata": {
    "jupyter": {
     "source_hidden": true
    },
    "tags": []
   },
   "outputs": [],
   "source": [
    "e_total_p = peakPulse.extract_total_2d_elec_fields()\n",
    "intensity_2D_exp_final = 0.5 *const.c *const.epsilon_0 *(e_total_p.re**2.0 + e_total_p.im**2.0)\n",
    "\n",
    "intens0 = intensity_2D_exp_final.flatten()\n",
    "wfr0 = peakPulse.slice[0].wfr\n",
    "#srwlib.srwl_uti_save_intens_ascii(intens0, wfr0.mesh, 'initial-intensity.dat', 0, ['', 'Horizontal Position', 'Vertical Position', 'Intensity'], _arUnits=['', 'm', 'm', ''])\n",
    "uti_plot.uti_plot2d1d(\n",
    "    intens0,\n",
    "    [wfr0.mesh.xStart, wfr0.mesh.xFin, wfr0.mesh.nx],\n",
    "    [wfr0.mesh.yStart, wfr0.mesh.yFin, wfr0.mesh.ny],\n",
    "    0,\n",
    "    0,\n",
    "    ['Horizontal Position', 'Vertical Position', 'Intensity (peak timing)'],\n",
    "    ['m', 'm', 'ph/s/.1%bw/mm^2'],\n",
    "    True)\n",
    "\n",
    "with plt.style.context(('seaborn-poster')):\n",
    "    fig = plt.figure(figsize=(4.6 * 2,3.6 * 2))\n",
    "    ax = fig.gca()\n",
    "    plt.pcolormesh(y_exp_final*(1e3), x_exp_final*(1e3), intensity_2D_exp_final, cmap=plt.cm.viridis, shading='auto')\n",
    "    plt.colorbar()\n",
    "    ax.set_ylabel(r'Vertical Position [mm]')\n",
    "    ax.set_xlabel(r'Horizontal Position [mm]')\n",
    "    ax.set_title('Intensity (peak timing)')"
   ]
  },
  {
   "cell_type": "code",
   "execution_count": null,
   "id": "9ce42bc9-3861-4108-8633-6f5a191a6f27",
   "metadata": {
    "jupyter": {
     "source_hidden": true
    },
    "tags": []
   },
   "outputs": [],
   "source": [
    "phase_2d_exp_final = peakPulse.extract_total_2d_phase()\n",
    "\n",
    "phase0 = phase_2d_exp_final.flatten()\n",
    "wfr0 = peakPulse.slice[0].wfr\n",
    "#srwlib.srwl_uti_save_intens_ascii(phase0, wfr0.mesh, 'initial-phase.dat', 0, ['', 'Horizontal Position', 'Vertical Position', 'Phase'], _arUnits=['', 'm', 'm', 'rad'])\n",
    "uti_plot.uti_plot2d1d(\n",
    "    phase0,\n",
    "    [wfr0.mesh.xStart, wfr0.mesh.xFin, wfr0.mesh.nx],\n",
    "    [wfr0.mesh.yStart, wfr0.mesh.yFin, wfr0.mesh.ny],\n",
    "    0,\n",
    "    0,\n",
    "    ['Horizontal Position', 'Vertical Position', 'Phase (peak timing)'],\n",
    "    ['m', 'm', ''],\n",
    "    True)\n",
    "\n",
    "with plt.style.context(('seaborn-poster')):\n",
    "    fig = plt.figure(figsize=(4.6 * 2,3.6 * 2))\n",
    "    ax = fig.gca()\n",
    "    plt.pcolormesh(y_exp_final*(1e3), x_exp_final*(1e3), phase_2d_exp_final, cmap=plt.cm.viridis, shading='auto')\n",
    "    plt.colorbar()\n",
    "    ax.set_ylabel(r'Vertical Position [mm]')\n",
    "    ax.set_xlabel(r'Horizontal Position [mm]')\n",
    "    ax.set_title('Phase (peak timing)')"
   ]
  },
  {
   "cell_type": "markdown",
   "id": "1a983b7b-ff99-4492-a903-56c53b9b16bb",
   "metadata": {},
   "source": [
    "# Comparison: Intensity Subtractions"
   ]
  },
  {
   "cell_type": "code",
   "execution_count": null,
   "id": "9138072f-4c5c-490a-922f-15657f51549d",
   "metadata": {
    "jupyter": {
     "source_hidden": true
    },
    "tags": []
   },
   "outputs": [],
   "source": [
    "diff_intensity_2D_exp_final = intensity_2D_exp_final - intensity_2D_exp_final_op\n",
    "intens0 = diff_intensity_2D_exp_final.flatten()\n",
    "wfr0 = peakPulse.slice[0].wfr\n",
    "#srwlib.srwl_uti_save_intens_ascii(intens0, wfr0.mesh, 'initial-intensity.dat', 0, ['', 'Horizontal Position', 'Vertical Position', 'Intensity'], _arUnits=['', 'm', 'm', ''])\n",
    "uti_plot.uti_plot2d1d(\n",
    "    intens0,\n",
    "    [wfr0.mesh.xStart, wfr0.mesh.xFin, wfr0.mesh.nx],\n",
    "    [wfr0.mesh.yStart, wfr0.mesh.yFin, wfr0.mesh.ny],\n",
    "    0,\n",
    "    0,\n",
    "    ['Horizontal Position', 'Vertical Position', 'Intensity (peak timing minus off-peak timing)'],\n",
    "    ['m', 'm', 'ph/s/.1%bw/mm^2'],\n",
    "    True)\n",
    "\n",
    "with plt.style.context(('seaborn-poster')):\n",
    "    fig = plt.figure(figsize=(4.6 * 2,3.6 * 2))\n",
    "    ax = fig.gca()\n",
    "    plt.pcolormesh(x_exp_final*(1e3), y_exp_final*(1e3), diff_intensity_2D_exp_final, cmap=plt.cm.viridis, shading='auto', vmin=colorbar_min2, vmax=colorbar_max2)\n",
    "    plt.colorbar()\n",
    "    ax.set_ylabel(r'Vertical Position [mm]')\n",
    "    ax.set_xlabel(r'Horizontal Position [mm]')\n",
    "    ax.set_title('Intensity (experimental gain)')"
   ]
  },
  {
   "cell_type": "code",
   "execution_count": null,
   "id": "ec2aad29-1ce5-4635-9a24-260c5f527235",
   "metadata": {
    "jupyter": {
     "source_hidden": true
    },
    "tags": []
   },
   "outputs": [],
   "source": [
    "diff_intensity_2D_sim = intensity_2D_dg - intensity_2D_d\n",
    "intens0 = diff_intensity_2D_sim.flatten()\n",
    "wfr0 = thisPulse_dg.slice[0].wfr\n",
    "#srwlib.srwl_uti_save_intens_ascii(intens0, wfr0.mesh, 'initial-intensity.dat', 0, ['', 'Horizontal Position', 'Vertical Position', 'Intensity'], _arUnits=['', 'm', 'm', ''])\n",
    "uti_plot.uti_plot2d1d(\n",
    "    intens0,\n",
    "    [wfr0.mesh.xStart, wfr0.mesh.xFin, wfr0.mesh.nx],\n",
    "    [wfr0.mesh.yStart, wfr0.mesh.yFin, wfr0.mesh.ny],\n",
    "    0,\n",
    "    0,\n",
    "    ['Horizontal Position', 'Vertical Position', 'Intensity (with gain minus without gain)'],\n",
    "    ['m', 'm', 'ph/s/.1%bw/mm^2'],\n",
    "    True)\n",
    "\n",
    "with plt.style.context(('seaborn-poster')):\n",
    "    fig = plt.figure(figsize=(4.6 * 2,3.6 * 2))\n",
    "    ax = fig.gca()\n",
    "    plt.pcolormesh(x_dg*(1e3), y_dg*(1e3), diff_intensity_2D_sim, cmap=plt.cm.viridis, shading='auto',vmin=colorbar_min2, vmax=colorbar_max2)\n",
    "    plt.colorbar()\n",
    "    ax.set_ylabel(r'Vertical Position [mm]')\n",
    "    ax.set_xlabel(r'Horizontal Position [mm]')\n",
    "    ax.set_title('Intensity (simulated gain)')"
   ]
  },
  {
   "cell_type": "markdown",
   "id": "1e51999b-cf3b-43f9-900c-eacd3ef87eb8",
   "metadata": {},
   "source": [
    "# Comparison: Phase Lineouts"
   ]
  },
  {
   "cell_type": "code",
   "execution_count": null,
   "id": "bc3fa53a-8d34-4f85-9f7e-59f2719565a2",
   "metadata": {
    "jupyter": {
     "source_hidden": true
    },
    "tags": []
   },
   "outputs": [],
   "source": [
    "compare = phase_exp_final_op[:,int(len(y_exp_final_op)/2.0)]\n",
    "sim_phase = phase_d[:,int(len(y_d)/2.0)]\n",
    "\n",
    "scale_factor = np.max(compare) -np.max(sim_phase)\n",
    "fig = plt.figure()\n",
    "ax = fig.gca()\n",
    "plt.plot(x_exp_final_op*(1e3), compare, 'r', label='Experiment')\n",
    "plt.plot(x_d*(1e3), scale_factor +sim_phase, '--k', label='Simulation +{:.3}'.format(scale_factor))\n",
    "fig.legend(loc='upper center', bbox_to_anchor=(0.5, -0.01), fancybox=True, shadow=True, ncol=5)\n",
    "ax.set_ylabel(r'Phase Lineout')\n",
    "ax.set_xlabel(r'Vertical Position [mm]')\n",
    "ax.set_title('Phase: Focusing')\n",
    "\n",
    "compare = phase_exp_final_op[int(len(x_exp_final_op)/2.0),:]\n",
    "sim_phase = phase_d[int(len(x_d)/2.0),:]\n",
    "\n",
    "scale_factor = np.max(compare) -np.max(sim_phase)\n",
    "fig = plt.figure()\n",
    "ax = fig.gca()\n",
    "plt.plot(y_exp_final_op*(1e3), compare, 'r', label='Experiment')\n",
    "plt.plot(y_d*(1e3), scale_factor +sim_phase, '--k', label='Simulation +{:.3}'.format(scale_factor))\n",
    "fig.legend(loc='upper center', bbox_to_anchor=(0.5, -0.01), fancybox=True, shadow=True, ncol=5)\n",
    "ax.set_ylabel(r'Phase Lineout')\n",
    "ax.set_xlabel(r'Horizontal Position [mm]')\n",
    "ax.set_title('Phase: Focusing')"
   ]
  },
  {
   "cell_type": "code",
   "execution_count": null,
   "id": "27237866-eced-45ba-adbb-3172f9a2c7ae",
   "metadata": {
    "tags": []
   },
   "outputs": [],
   "source": [
    "print(np.min(intensity_2D_d),np.max(intensity_2D_d))\n",
    "print(np.min(intensity_2D_exp_final_op),np.max(intensity_2D_exp_final_op))\n",
    "print(np.min(diff_intensity_2D_exp_final),np.max(diff_intensity_2D_exp_final))\n",
    "print(np.min(diff_intensity_2D_sim),np.max(diff_intensity_2D_sim))"
   ]
  },
  {
   "cell_type": "code",
   "execution_count": null,
   "id": "6f364159-32d8-4aa3-8368-5752b33d387a",
   "metadata": {},
   "outputs": [],
   "source": [
    "sim_gain = np.max(diff_intensity_2D_sim)\n",
    "exp_gain = np.max(diff_intensity_2D_exp_final)\n",
    "\n",
    "gain_pd = 100.0 *np.abs(sim_gain - exp_gain) / ((sim_gain + exp_gain)/2.0)\n",
    "print('% Difference Gain: ',gain_pd)\n",
    "\n",
    "sim_focus = np.max(intensity_2D_d)\n",
    "exp_focus = np.max(intensity_2D_exp_final_op)\n",
    "\n",
    "focus_pd = 100.0 *np.abs(sim_focus - exp_focus) / ((sim_focus + exp_focus)/2.0)\n",
    "print('% Difference Focusing: ',focus_pd)"
   ]
  }
 ],
 "metadata": {
  "kernelspec": {
   "display_name": "Python 3",
   "language": "python",
   "name": "py3"
  },
  "language_info": {
   "codemirror_mode": {
    "name": "ipython",
    "version": 3
   },
   "file_extension": ".py",
   "mimetype": "text/x-python",
   "name": "python",
   "nbconvert_exporter": "python",
   "pygments_lexer": "ipython3",
   "version": "3.9.15"
  }
 },
 "nbformat": 4,
 "nbformat_minor": 5
}
