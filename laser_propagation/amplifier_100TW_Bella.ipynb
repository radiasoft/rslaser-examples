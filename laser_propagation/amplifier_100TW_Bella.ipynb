{
 "cells": [
  {
   "cell_type": "markdown",
   "id": "2c707f40-45a9-4323-a433-97394d20731c",
   "metadata": {},
   "source": [
    "<div class=\"alert alert-block alert-info\">\n",
    "<p style=\"font-size:24px;text-align:center\"><b>Simulates a multi-crystal amplifier with BELLA Center's parameters</b>\n",
    "<br>A 4-crystal configuration, with 3 passes per crystal\n",
    "</div>"
   ]
  },
  {
   "cell_type": "code",
   "execution_count": null,
   "id": "0d9eb61e-5b76-48da-8ec6-6368b809360b",
   "metadata": {},
   "outputs": [],
   "source": [
    "# Laser pulse\n",
    "num_laser_slices = 20\n",
    "pulse_ncells = 128\n",
    "\n",
    "# Crystal\n",
    "num_crystal_slices = 10\n",
    "\n",
    "# Drift length [m]\n",
    "L_Drift = 0.5"
   ]
  },
  {
   "cell_type": "markdown",
   "id": "9340820c-ec2f-4d78-a826-16846dbba63d",
   "metadata": {},
   "source": [
    "#### Imports"
   ]
  },
  {
   "cell_type": "code",
   "execution_count": null,
   "id": "802c8d48-0e57-429c-afb7-597d87f57d9e",
   "metadata": {
    "jupyter": {
     "source_hidden": true
    },
    "tags": []
   },
   "outputs": [],
   "source": [
    "import sys, copy\n",
    "import numpy as np\n",
    "from pykern.pkcollections import PKDict\n",
    "import os\n",
    "\n",
    "# The rslaser library may not be installed, so a check is required.\n",
    "try:\n",
    "    import rslaser\n",
    "except:\n",
    "    # Developers should use 'pip install -e .' from the command line.\n",
    "    # Users can install directly from GitHub --\n",
    "    !{sys.executable} -m pip install git+https://github.com/radiasoft/rslaser.git\n",
    "    import rslaser\n",
    "\n",
    "from rslaser.pulse import pulse\n",
    "from rslaser.optics import crystal\n",
    "from rslaser.optics import drift\n",
    "from rslaser.optics import lens\n",
    "import rslaser.utils.srwl_uti_data as srwutil\n",
    "import uti_plot\n",
    "\n",
    "import srwlib\n",
    "\n",
    "import scipy.constants as const\n",
    "from scipy import interpolate\n",
    "from scipy import special\n",
    "\n",
    "# 2D plotting\n",
    "import matplotlib as mpl\n",
    "import matplotlib.pyplot as plt\n",
    "from matplotlib import cm\n",
    "\n",
    "# reset the notebook style\n",
    "mpl.rcParams.update(mpl.rcParamsDefault)\n",
    "plt.rcParams['pcolor.shading'] ='auto'\n",
    "%matplotlib inline"
   ]
  },
  {
   "cell_type": "markdown",
   "id": "35d50c6f-0f55-4bc0-8a77-3c8971ecb50c",
   "metadata": {},
   "source": [
    "### Laser Pulse"
   ]
  },
  {
   "cell_type": "code",
   "execution_count": null,
   "id": "a4a50eb7-b35c-413f-9726-1bdc6440d6f5",
   "metadata": {
    "jupyter": {
     "source_hidden": true
    },
    "tags": []
   },
   "outputs": [],
   "source": [
    "w0 = 1.64e-3\n",
    "\n",
    "params = PKDict(\n",
    "    photon_e_ev = 1.5498, # Photon energy [eV], calculated from 800nm wavelength\n",
    "    nslice      = num_laser_slices,\n",
    "    pulseE      = 1.0e-6,\n",
    "    tau_fwhm    = 300.0e-12 / np.sqrt(2.),\n",
    "    sigx_waist  = w0,\n",
    "    sigy_waist  = w0,\n",
    "    nx_slice    = pulse_ncells,\n",
    "    ny_slice    = pulse_ncells,\n",
    ")"
   ]
  },
  {
   "cell_type": "markdown",
   "id": "981cf019-6d6d-406b-b714-f61cd325be7b",
   "metadata": {},
   "source": [
    "### Crystal 1"
   ]
  },
  {
   "cell_type": "code",
   "execution_count": null,
   "id": "0c3da52b-931f-40fe-8623-b70e3c9de8e8",
   "metadata": {
    "jupyter": {
     "source_hidden": true
    },
    "tags": []
   },
   "outputs": [],
   "source": [
    "z       = np.array([ 0.0,  0.5,  1.0, 1.5, 2.0, 2.5])/100.0\n",
    "n2_plot = np.array([30.5, 18.3, 10.4, 10.4, 18.3, 30.5])\n",
    "plot_fit = interpolate.splrep(z, n2_plot)\n",
    "\n",
    "L_cryst = 0.025\n",
    "new_z = (L_cryst /num_crystal_slices) *(np.arange(num_crystal_slices)+0.5)\n",
    "\n",
    "crystal_params_1 = PKDict(\n",
    "    length      = L_cryst, # [m]\n",
    "    nslice      = num_crystal_slices,\n",
    "    n0          = [1.76 for _ in range(num_crystal_slices)],\n",
    "    n2          = interpolate.splev(new_z, plot_fit).tolist(),\n",
    "    l_scale     = 0.001,\n",
    "    population_inversion = PKDict(\n",
    "        n_cells=64,\n",
    "        mesh_extent=0.01,  # [m]\n",
    "        crystal_alpha=120.0,  # [1/m], 1.2 1/cm\n",
    "        pump_waist=w0,  # [m]\n",
    "        pump_wavelength=532.0e-9,  # [m]\n",
    "        pump_energy=0.035,  # [J], pump laser energy onto the crystal\n",
    "        pump_type='dual',\n",
    "    )\n",
    ")\n",
    "\n",
    "cell_dx_1 = (2.0 *crystal_params_1.population_inversion.mesh_extent)/crystal_params_1.population_inversion.n_cells\n",
    "cell_volume_1 = cell_dx_1**2.0 *(crystal_params_1.length /crystal_params_1.nslice)"
   ]
  },
  {
   "cell_type": "markdown",
   "id": "e4f1861b-bbd4-490f-a569-bec2fb069916",
   "metadata": {},
   "source": [
    "### Crystal 2"
   ]
  },
  {
   "cell_type": "code",
   "execution_count": null,
   "id": "6a2841a1-170a-42b1-a6d3-7b6eef4419bc",
   "metadata": {
    "jupyter": {
     "source_hidden": true
    },
    "tags": []
   },
   "outputs": [],
   "source": [
    "z       = np.array([ 0.0,  0.5,  1.0, 1.5, 2.0, 2.5])/100.0\n",
    "n2_plot = np.array([30.5, 18.3, 10.4, 10.4, 18.3, 30.5])\n",
    "plot_fit = interpolate.splrep(z, n2_plot)\n",
    "\n",
    "L_cryst = 0.025\n",
    "new_z = (L_cryst /num_crystal_slices) *(np.arange(num_crystal_slices)+0.5)\n",
    "\n",
    "crystal_params_2 = PKDict(\n",
    "    length      = L_cryst, # [m]\n",
    "    nslice      = num_crystal_slices,\n",
    "    n0          = [1.76 for _ in range(num_crystal_slices)],\n",
    "    n2          = interpolate.splev(new_z, plot_fit).tolist(),\n",
    "    l_scale     = 0.001,\n",
    "    population_inversion = PKDict(\n",
    "        n_cells=64,\n",
    "        mesh_extent=0.01,  # [m]\n",
    "        crystal_alpha=120.0,  # [1/m], 1.2 1/cm\n",
    "        pump_waist=w0,  # [m]\n",
    "        pump_wavelength=532.0e-9,  # [m]\n",
    "        pump_energy=0.035,  # [J], pump laser energy onto the crystal\n",
    "        pump_type='dual',\n",
    "    )\n",
    ")\n",
    "\n",
    "cell_dx_2 = (2.0 *crystal_params_2.population_inversion.mesh_extent)/crystal_params_2.population_inversion.n_cells\n",
    "cell_volume_2 = cell_dx_2**2.0 *(crystal_params_2.length /crystal_params_2.nslice)"
   ]
  },
  {
   "cell_type": "markdown",
   "id": "3b2360c0-032a-4369-bcc3-1c606b6b083c",
   "metadata": {},
   "source": [
    "### Crystal 3"
   ]
  },
  {
   "cell_type": "code",
   "execution_count": null,
   "id": "7a69fc05-159e-4370-90ba-abe4707df68b",
   "metadata": {
    "jupyter": {
     "source_hidden": true
    },
    "tags": []
   },
   "outputs": [],
   "source": [
    "z       = np.array([ 0.0,  0.5,  1.0, 1.5, 2.0, 2.5])/100.0\n",
    "n2_plot = np.array([30.5, 18.3, 10.4, 10.4, 18.3, 30.5])\n",
    "plot_fit = interpolate.splrep(z, n2_plot)\n",
    "\n",
    "L_cryst = 0.025\n",
    "new_z = (L_cryst /num_crystal_slices) *(np.arange(num_crystal_slices)+0.5)\n",
    "\n",
    "crystal_params_3 = PKDict(\n",
    "    length      = L_cryst, # [m]\n",
    "    nslice      = num_crystal_slices,\n",
    "    n0          = [1.76 for _ in range(num_crystal_slices)],\n",
    "    n2          = interpolate.splev(new_z, plot_fit).tolist(),\n",
    "    l_scale     = 0.001,\n",
    "    population_inversion = PKDict(\n",
    "        n_cells=64,\n",
    "        mesh_extent=0.01,  # [m]\n",
    "        crystal_alpha=120.0,  # [1/m], 1.2 1/cm\n",
    "        pump_waist=w0,  # [m]\n",
    "        pump_wavelength=532.0e-9,  # [m]\n",
    "        pump_energy=0.035,  # [J], pump laser energy onto the crystal\n",
    "        pump_type='dual',\n",
    "    )\n",
    ")\n",
    "\n",
    "cell_dx_3 = (2.0 *crystal_params_3.population_inversion.mesh_extent)/crystal_params_3.population_inversion.n_cells\n",
    "cell_volume_3 = cell_dx_3**2.0 *(crystal_params_3.length /crystal_params_3.nslice)"
   ]
  },
  {
   "cell_type": "markdown",
   "id": "4fb68296-b5ec-4f8d-ab4d-ce4656ba986e",
   "metadata": {},
   "source": [
    "### Crystal 4"
   ]
  },
  {
   "cell_type": "code",
   "execution_count": null,
   "id": "6df43fb7-4732-494a-97a9-0c22029a4ce9",
   "metadata": {
    "jupyter": {
     "source_hidden": true
    },
    "tags": []
   },
   "outputs": [],
   "source": [
    "z       = np.array([ 0.0,  0.5,  1.0, 1.5, 2.0, 2.5])/100.0\n",
    "n2_plot = np.array([30.5, 18.3, 10.4, 10.4, 18.3, 30.5])\n",
    "plot_fit = interpolate.splrep(z, n2_plot)\n",
    "\n",
    "L_cryst = 0.025\n",
    "new_z = (L_cryst /num_crystal_slices) *(np.arange(num_crystal_slices)+0.5)\n",
    "\n",
    "crystal_params_4 = PKDict(\n",
    "    length      = L_cryst, # [m]\n",
    "    nslice      = num_crystal_slices,\n",
    "    n0          = [1.76 for _ in range(num_crystal_slices)],\n",
    "    n2          = interpolate.splev(new_z, plot_fit).tolist(),\n",
    "    l_scale     = 0.001,\n",
    "    population_inversion = PKDict(\n",
    "        n_cells=64,\n",
    "        mesh_extent=0.01,  # [m]\n",
    "        crystal_alpha=120.0,  # [1/m], 1.2 1/cm\n",
    "        pump_waist=w0,  # [m]\n",
    "        pump_wavelength=532.0e-9,  # [m]\n",
    "        pump_energy=0.035,  # [J], pump laser energy onto the crystal\n",
    "        pump_type='dual',\n",
    "    )\n",
    ")\n",
    "\n",
    "cell_dx_4 = (2.0 *crystal_params_4.population_inversion.mesh_extent)/crystal_params_4.population_inversion.n_cells\n",
    "cell_volume_4 = cell_dx_4**2.0 *(crystal_params_4.length /crystal_params_4.nslice)"
   ]
  },
  {
   "cell_type": "markdown",
   "id": "6074cab0-c192-4e13-b2df-a2977319ded0",
   "metadata": {},
   "source": [
    "## Propagation Lattices"
   ]
  },
  {
   "cell_type": "code",
   "execution_count": null,
   "id": "c41a6db9-3415-43e2-8bce-22bc64615ed6",
   "metadata": {
    "jupyter": {
     "source_hidden": true
    },
    "tags": []
   },
   "outputs": [],
   "source": [
    "crystal_1 = crystal.Crystal(crystal_params_1)\n",
    "crystal_2 = crystal.Crystal(crystal_params_2)\n",
    "crystal_3 = crystal.Crystal(crystal_params_3)\n",
    "crystal_4 = crystal.Crystal(crystal_params_4)\n",
    "\n",
    "thisPulse_initial = pulse.LaserPulse(params)\n",
    "thisPulse_initial.zero_phase()\n",
    "\n",
    "# (crystal_#,'prop type',gain,radial_n2)\n",
    "\n",
    "lattice_c1 = [(drift.Drift(L_Drift),'default'),\n",
    "              #(lens.Lens(-2.0),'default'),\n",
    "              (crystal_1,'n0n2_srw',1,1),\n",
    "              #(lens.Lens(-2.0),'default'),\n",
    "              (drift.Drift(L_Drift),'default'),\n",
    "             ]\n",
    "lattice_c2 = [(drift.Drift(L_Drift),'default'),\n",
    "              #(lens.Lens(-2.0),'default'),\n",
    "              (crystal_2,'n0n2_srw',1,1),\n",
    "              #(lens.Lens(-2.0),'default'),\n",
    "              (drift.Drift(L_Drift),'default'),\n",
    "             ]\n",
    "lattice_c3 = [(drift.Drift(L_Drift),'default'),\n",
    "              #(lens.Lens(-2.0),'default'),\n",
    "              (crystal_3,'n0n2_srw',1,1),\n",
    "              #(lens.Lens(-2.0),'default'),\n",
    "              (drift.Drift(L_Drift),'default'),\n",
    "             ]\n",
    "lattice_c4 = [(drift.Drift(L_Drift),'default'),\n",
    "              #(lens.Lens(-2.0),'default'),\n",
    "              (crystal_4,'n0n2_srw',1,1),\n",
    "              #(lens.Lens(-2.0),'default'),\n",
    "              (drift.Drift(L_Drift),'default'),\n",
    "             ]"
   ]
  },
  {
   "cell_type": "markdown",
   "id": "b603b21e-5007-40e5-abf5-2faee0651eca",
   "metadata": {},
   "source": [
    "***\n",
    "## Initial Intensity and Phase"
   ]
  },
  {
   "cell_type": "code",
   "execution_count": null,
   "id": "25a7bf69-5b40-4ac1-9cdb-5971d3c3d426",
   "metadata": {
    "jupyter": {
     "source_hidden": true
    },
    "tags": []
   },
   "outputs": [],
   "source": [
    "wfr_temp = thisPulse_initial.slice[0].wfr\n",
    "wfr_initial_x = np.linspace(wfr_temp.mesh.xStart,wfr_temp.mesh.xFin,wfr_temp.mesh.nx)\n",
    "wfr_initial_y = np.linspace(wfr_temp.mesh.yStart,wfr_temp.mesh.yFin,wfr_temp.mesh.ny)"
   ]
  },
  {
   "cell_type": "code",
   "execution_count": null,
   "id": "aa989956-15cb-4d22-87b5-c7a1ee8a3a83",
   "metadata": {
    "jupyter": {
     "source_hidden": true
    },
    "tags": []
   },
   "outputs": [],
   "source": [
    "e_total_init = thisPulse_initial.extract_total_2d_elec_fields()\n",
    "intens_2d_init = 0.5 *const.c *const.epsilon_0 *(e_total_init.re**2.0 + e_total_init.im**2.0)\n",
    "intens0 = intens_2d_init.flatten()\n",
    "\n",
    "uti_plot.uti_plot2d1d(\n",
    "    intens0,\n",
    "    [wfr_temp.mesh.xStart, wfr_temp.mesh.xFin, wfr_temp.mesh.nx],\n",
    "    [wfr_temp.mesh.yStart, wfr_temp.mesh.yFin, wfr_temp.mesh.ny],\n",
    "    0,\n",
    "    0,\n",
    "    ['Horizontal Position', 'Vertical Position', 'Intensity (initial)'],\n",
    "    ['m', 'm', 'ph/s/.1%bw/mm^2'],\n",
    "    True)\n",
    "\n",
    "with plt.style.context(('seaborn-poster')):\n",
    "    fig = plt.figure(figsize=(4.6,3.6))\n",
    "    ax = fig.gca()\n",
    "    plt.pcolormesh(wfr_initial_x*(1e3), wfr_initial_y*(1e3), intens_2d_init, cmap=plt.cm.viridis, shading='auto')\n",
    "    plt.colorbar()\n",
    "    ax.set_ylabel(r'Vertical Position [mm]')\n",
    "    ax.set_xlabel(r'Horizontal Position [mm]')\n",
    "    ax.set_title('Intensity (initial)')"
   ]
  },
  {
   "cell_type": "code",
   "execution_count": null,
   "id": "24efd3bb-71cd-4e7b-9502-072c739c48ce",
   "metadata": {
    "jupyter": {
     "source_hidden": true
    },
    "tags": []
   },
   "outputs": [],
   "source": [
    "phase_2d_init = thisPulse_initial.extract_total_2d_phase()\n",
    "phase0 = phase_2d_init.flatten()\n",
    "\n",
    "uti_plot.uti_plot2d1d(\n",
    "    phase0,\n",
    "    [wfr_temp.mesh.xStart, wfr_temp.mesh.xFin, wfr_temp.mesh.nx],\n",
    "    [wfr_temp.mesh.yStart, wfr_temp.mesh.yFin, wfr_temp.mesh.ny],\n",
    "    0,\n",
    "    0,\n",
    "    ['Horizontal Position', 'Vertical Position', 'Phase (initial)'],\n",
    "    ['m', 'm', ''],\n",
    "    True)\n",
    "\n",
    "with plt.style.context(('seaborn-poster')):\n",
    "    fig = plt.figure(figsize=(4.6,3.6))\n",
    "    ax = fig.gca()\n",
    "    plt.pcolormesh(wfr_initial_x*(1e3), wfr_initial_y*(1e3), phase_2d_init, cmap=plt.cm.viridis, shading='auto')\n",
    "    plt.colorbar()\n",
    "    ax.set_ylabel(r'Vertical Position [mm]')\n",
    "    ax.set_xlabel(r'Horizontal Position [mm]')\n",
    "    ax.set_title('Phase (initial)')"
   ]
  },
  {
   "cell_type": "code",
   "execution_count": null,
   "id": "56f3f9f5-faed-4d89-98e3-d5587551e9b3",
   "metadata": {
    "jupyter": {
     "source_hidden": true
    },
    "tags": []
   },
   "outputs": [],
   "source": [
    "rayleigh_length = np.pi * (thisPulse_initial.sigx_waist)**2.0 / (thisPulse_initial._lambda0)\n",
    "print('Rayleigh Length:', round(rayleigh_length,3), ' m')\n",
    "print('RMS bunch length:', round(thisPulse_initial.sig_s,3), ' m')"
   ]
  },
  {
   "cell_type": "markdown",
   "id": "70aa12a8-38d9-4228-8cd0-9da27569fb57",
   "metadata": {},
   "source": [
    "***\n",
    "## 3 Passes Through First Crystal"
   ]
  },
  {
   "cell_type": "code",
   "execution_count": null,
   "id": "d1f723ca-fb39-48e0-b398-a6b05d3e41e4",
   "metadata": {
    "jupyter": {
     "source_hidden": true
    },
    "tags": []
   },
   "outputs": [],
   "source": [
    "thisPulse_firstCrystal = copy.deepcopy(thisPulse_initial)\n",
    "num_passes = 3\n",
    "\n",
    "for prop_index in np.arange(num_passes):\n",
    "    for iterator in lattice_c1:\n",
    "        if len(iterator) == 2:\n",
    "            current_elem, prop_type = iterator\n",
    "            thisPulse_firstCrystal = current_elem.propagate(thisPulse_firstCrystal, prop_type)\n",
    "        else:\n",
    "            current_elem, prop_type, gain, radial_n2 = iterator\n",
    "            thisPulse_firstCrystal = current_elem.propagate(thisPulse_firstCrystal, prop_type, gain, radial_n2)\n",
    "        thisPulse_firstCrystal.ideal_mirror_180()"
   ]
  },
  {
   "cell_type": "code",
   "execution_count": null,
   "id": "443bcc28-768f-44b3-8060-aca886e7cf23",
   "metadata": {
    "jupyter": {
     "source_hidden": true
    },
    "tags": []
   },
   "outputs": [],
   "source": [
    "wfr_temp = thisPulse_firstCrystal.slice[0].wfr\n",
    "x_prop_1 = np.linspace(wfr_temp.mesh.xStart,wfr_temp.mesh.xFin,wfr_temp.mesh.nx)\n",
    "y_prop_1 = np.linspace(wfr_temp.mesh.yStart,wfr_temp.mesh.yFin,wfr_temp.mesh.ny)"
   ]
  },
  {
   "cell_type": "code",
   "execution_count": null,
   "id": "13019ed8-47f5-439a-8d88-f3b840247e98",
   "metadata": {
    "jupyter": {
     "source_hidden": true
    },
    "tags": []
   },
   "outputs": [],
   "source": [
    "e_total_1c = thisPulse_firstCrystal.extract_total_2d_elec_fields()\n",
    "intens_2d_1c = 0.5 *const.c *const.epsilon_0 *(e_total_1c.re**2.0 + e_total_1c.im**2.0)\n",
    "intens0 = intens_2d_1c.flatten()\n",
    "\n",
    "uti_plot.uti_plot2d1d(\n",
    "    intens0,\n",
    "    [wfr_temp.mesh.xStart, wfr_temp.mesh.xFin, wfr_temp.mesh.nx],\n",
    "    [wfr_temp.mesh.yStart, wfr_temp.mesh.yFin, wfr_temp.mesh.ny],\n",
    "    0,\n",
    "    0,\n",
    "    ['Horizontal Position', 'Vertical Position', 'Intensity (After 1st Crystal)'],\n",
    "    ['m', 'm', 'ph/s/.1%bw/mm^2'],\n",
    "    True)\n",
    "\n",
    "with plt.style.context(('seaborn-poster')):\n",
    "    fig = plt.figure(figsize=(4.6,3.6))\n",
    "    ax = fig.gca()\n",
    "    plt.pcolormesh(x_prop_1*(1e3), y_prop_1*(1e3), intens_2d_1c, cmap=plt.cm.viridis, shading='auto')\n",
    "    plt.colorbar()\n",
    "    ax.set_ylabel(r'Vertical Position [mm]')\n",
    "    ax.set_xlabel(r'Horizontal Position [mm]')\n",
    "    ax.set_title('Intensity (After 1st Crystal)')"
   ]
  },
  {
   "cell_type": "code",
   "execution_count": null,
   "id": "861f3339-3918-46f8-a9b5-4ff0383459e1",
   "metadata": {
    "jupyter": {
     "source_hidden": true
    },
    "tags": []
   },
   "outputs": [],
   "source": [
    "phase_2d_1c = thisPulse_firstCrystal.extract_total_2d_phase()\n",
    "phase0 = phase_2d_1c.flatten()\n",
    "\n",
    "uti_plot.uti_plot2d1d(\n",
    "    phase0,\n",
    "    [wfr_temp.mesh.xStart, wfr_temp.mesh.xFin, wfr_temp.mesh.nx],\n",
    "    [wfr_temp.mesh.yStart, wfr_temp.mesh.yFin, wfr_temp.mesh.ny],\n",
    "    0,\n",
    "    0,\n",
    "    ['Horizontal Position', 'Vertical Position', 'Phase (After 1st Crystal)'],\n",
    "    ['m', 'm', ''],\n",
    "    True)\n",
    "\n",
    "with plt.style.context(('seaborn-poster')):\n",
    "    fig = plt.figure(figsize=(4.6,3.6))\n",
    "    ax = fig.gca()\n",
    "    plt.pcolormesh(x_prop_1*(1e3), y_prop_1*(1e3), phase_2d_1c, cmap=plt.cm.viridis, shading='auto')\n",
    "    plt.colorbar()\n",
    "    ax.set_ylabel(r'Vertical Position [mm]')\n",
    "    ax.set_xlabel(r'Horizontal Position [mm]')\n",
    "    ax.set_title('Phase (After 1st Crystal)')"
   ]
  },
  {
   "cell_type": "markdown",
   "id": "4e1b48f4-04f4-48eb-b7e2-8a66bf0e0e4b",
   "metadata": {},
   "source": [
    "***\n",
    "## 3 Passes Through Second Crystal"
   ]
  },
  {
   "cell_type": "code",
   "execution_count": null,
   "id": "14fbfb82-cd27-4ee6-aeb0-23b37e969e9e",
   "metadata": {
    "jupyter": {
     "source_hidden": true
    },
    "tags": []
   },
   "outputs": [],
   "source": [
    "thisPulse_secondCrystal = copy.deepcopy(thisPulse_firstCrystal)\n",
    "num_passes = 3\n",
    "\n",
    "for prop_index in np.arange(num_passes):\n",
    "    for iterator in lattice_c2:\n",
    "        if len(iterator) == 2:\n",
    "            current_elem, prop_type = iterator\n",
    "            thisPulse_secondCrystal = current_elem.propagate(thisPulse_secondCrystal, prop_type)\n",
    "        else:\n",
    "            current_elem, prop_type, gain, radial_n2 = iterator\n",
    "            thisPulse_secondCrystal = current_elem.propagate(thisPulse_secondCrystal, prop_type, gain, radial_n2)\n",
    "        thisPulse_secondCrystal.ideal_mirror_180()"
   ]
  },
  {
   "cell_type": "code",
   "execution_count": null,
   "id": "1b8a5a26-f22d-45d0-aa86-df4fde0e0845",
   "metadata": {
    "jupyter": {
     "source_hidden": true
    },
    "tags": []
   },
   "outputs": [],
   "source": [
    "wfr_temp = thisPulse_secondCrystal.slice[0].wfr\n",
    "x_prop_2 = np.linspace(wfr_temp.mesh.xStart,wfr_temp.mesh.xFin,wfr_temp.mesh.nx)\n",
    "y_prop_2 = np.linspace(wfr_temp.mesh.yStart,wfr_temp.mesh.yFin,wfr_temp.mesh.ny)"
   ]
  },
  {
   "cell_type": "code",
   "execution_count": null,
   "id": "6e1f583e-3070-4622-89b1-3998d850bbde",
   "metadata": {
    "jupyter": {
     "source_hidden": true
    },
    "tags": []
   },
   "outputs": [],
   "source": [
    "e_total_2c = thisPulse_secondCrystal.extract_total_2d_elec_fields()\n",
    "intens_2d_2c = 0.5 *const.c *const.epsilon_0 *(e_total_2c.re**2.0 + e_total_2c.im**2.0)\n",
    "intens0 = intens_2d_2c.flatten()\n",
    "\n",
    "uti_plot.uti_plot2d1d(\n",
    "    intens0,\n",
    "    [wfr_temp.mesh.xStart, wfr_temp.mesh.xFin, wfr_temp.mesh.nx],\n",
    "    [wfr_temp.mesh.yStart, wfr_temp.mesh.yFin, wfr_temp.mesh.ny],\n",
    "    0,\n",
    "    0,\n",
    "    ['Horizontal Position', 'Vertical Position', 'Intensity (After 2nd Crystal)'],\n",
    "    ['m', 'm', 'ph/s/.1%bw/mm^2'],\n",
    "    True)\n",
    "\n",
    "with plt.style.context(('seaborn-poster')):\n",
    "    fig = plt.figure(figsize=(4.6,3.6))\n",
    "    ax = fig.gca()\n",
    "    plt.pcolormesh(x_prop_2*(1e3), y_prop_2*(1e3), intens_2d_2c, cmap=plt.cm.viridis, shading='auto')\n",
    "    plt.colorbar()\n",
    "    ax.set_ylabel(r'Vertical Position [mm]')\n",
    "    ax.set_xlabel(r'Horizontal Position [mm]')\n",
    "    ax.set_title('Intensity (After 2nd Crystal)')"
   ]
  },
  {
   "cell_type": "code",
   "execution_count": null,
   "id": "e9382647-3051-43a6-9993-1622035a465e",
   "metadata": {
    "jupyter": {
     "source_hidden": true
    },
    "tags": []
   },
   "outputs": [],
   "source": [
    "phase_2d_2c = thisPulse_secondCrystal.extract_total_2d_phase()\n",
    "phase0 = phase_2d_2c.flatten()\n",
    "\n",
    "uti_plot.uti_plot2d1d(\n",
    "    phase0,\n",
    "    [wfr_temp.mesh.xStart, wfr_temp.mesh.xFin, wfr_temp.mesh.nx],\n",
    "    [wfr_temp.mesh.yStart, wfr_temp.mesh.yFin, wfr_temp.mesh.ny],\n",
    "    0,\n",
    "    0,\n",
    "    ['Horizontal Position', 'Vertical Position', 'Phase (After 2nd Crystal)'],\n",
    "    ['m', 'm', ''],\n",
    "    True)\n",
    "\n",
    "with plt.style.context(('seaborn-poster')):\n",
    "    fig = plt.figure(figsize=(4.6,3.6))\n",
    "    ax = fig.gca()\n",
    "    plt.pcolormesh(x_prop_2*(1e3), y_prop_2*(1e3), phase_2d_2c, cmap=plt.cm.viridis, shading='auto')\n",
    "    plt.colorbar()\n",
    "    ax.set_ylabel(r'Vertical Position [mm]')\n",
    "    ax.set_xlabel(r'Horizontal Position [mm]')\n",
    "    ax.set_title('Phase (After 2nd Crystal)')"
   ]
  },
  {
   "cell_type": "markdown",
   "id": "72e1092f-ee65-4bd8-b709-bb3bae8ca1f2",
   "metadata": {},
   "source": [
    "***\n",
    "## 3 Passes Through Third Crystal"
   ]
  },
  {
   "cell_type": "code",
   "execution_count": null,
   "id": "5d561cd1-83f8-418e-aa92-aa289929d6ab",
   "metadata": {
    "jupyter": {
     "source_hidden": true
    },
    "tags": []
   },
   "outputs": [],
   "source": [
    "thisPulse_thirdCrystal = copy.deepcopy(thisPulse_secondCrystal)\n",
    "num_passes = 3\n",
    "\n",
    "for prop_index in np.arange(num_passes):\n",
    "    for iterator in lattice_c3:\n",
    "        if len(iterator) == 2:\n",
    "            current_elem, prop_type = iterator\n",
    "            thisPulse_thirdCrystal = current_elem.propagate(thisPulse_thirdCrystal, prop_type)\n",
    "        else:\n",
    "            current_elem, prop_type, gain, radial_n2 = iterator\n",
    "            thisPulse_thirdCrystal = current_elem.propagate(thisPulse_thirdCrystal, prop_type, gain, radial_n2)\n",
    "        thisPulse_thirdCrystal.ideal_mirror_180()"
   ]
  },
  {
   "cell_type": "code",
   "execution_count": null,
   "id": "6d09f51d-5b7f-4ca3-bb0d-0715898af197",
   "metadata": {
    "jupyter": {
     "source_hidden": true
    },
    "tags": []
   },
   "outputs": [],
   "source": [
    "wfr_temp = thisPulse_thirdCrystal.slice[0].wfr\n",
    "x_prop_3 = np.linspace(wfr_temp.mesh.xStart,wfr_temp.mesh.xFin,wfr_temp.mesh.nx)\n",
    "y_prop_3 = np.linspace(wfr_temp.mesh.yStart,wfr_temp.mesh.yFin,wfr_temp.mesh.ny)"
   ]
  },
  {
   "cell_type": "code",
   "execution_count": null,
   "id": "65bbe404-a720-4e8d-8b94-1d2b3ad4eede",
   "metadata": {
    "jupyter": {
     "source_hidden": true
    },
    "tags": []
   },
   "outputs": [],
   "source": [
    "e_total_3c = thisPulse_thirdCrystal.extract_total_2d_elec_fields()\n",
    "intens_2d_3c = 0.5 *const.c *const.epsilon_0 *(e_total_3c.re**2.0 + e_total_3c.im**2.0)\n",
    "intens0 = intens_2d_3c.flatten()\n",
    "\n",
    "uti_plot.uti_plot2d1d(\n",
    "    intens0,\n",
    "    [wfr_temp.mesh.xStart, wfr_temp.mesh.xFin, wfr_temp.mesh.nx],\n",
    "    [wfr_temp.mesh.yStart, wfr_temp.mesh.yFin, wfr_temp.mesh.ny],\n",
    "    0,\n",
    "    0,\n",
    "    ['Horizontal Position', 'Vertical Position', 'Intensity (After 3rd Crystal)'],\n",
    "    ['m', 'm', 'ph/s/.1%bw/mm^2'],\n",
    "    True)\n",
    "\n",
    "with plt.style.context(('seaborn-poster')):\n",
    "    fig = plt.figure(figsize=(4.6,3.6))\n",
    "    ax = fig.gca()\n",
    "    plt.pcolormesh(x_prop_3*(1e3), y_prop_3*(1e3), intens_2d_3c, cmap=plt.cm.viridis, shading='auto')\n",
    "    plt.colorbar()\n",
    "    ax.set_ylabel(r'Vertical Position [mm]')\n",
    "    ax.set_xlabel(r'Horizontal Position [mm]')\n",
    "    ax.set_title('Intensity (After 3rd Crystal)')"
   ]
  },
  {
   "cell_type": "code",
   "execution_count": null,
   "id": "432151c6-8c03-4905-8298-b38c8edf1114",
   "metadata": {
    "jupyter": {
     "source_hidden": true
    },
    "tags": []
   },
   "outputs": [],
   "source": [
    "phase_2d_3c = thisPulse_thirdCrystal.extract_total_2d_phase()\n",
    "phase0 = phase_2d_3c.flatten()\n",
    "\n",
    "uti_plot.uti_plot2d1d(\n",
    "    phase0,\n",
    "    [wfr_temp.mesh.xStart, wfr_temp.mesh.xFin, wfr_temp.mesh.nx],\n",
    "    [wfr_temp.mesh.yStart, wfr_temp.mesh.yFin, wfr_temp.mesh.ny],\n",
    "    0,\n",
    "    0,\n",
    "    ['Horizontal Position', 'Vertical Position', 'Phase (After 3rd Crystal)'],\n",
    "    ['m', 'm', ''],\n",
    "    True)\n",
    "\n",
    "with plt.style.context(('seaborn-poster')):\n",
    "    fig = plt.figure(figsize=(4.6,3.6))\n",
    "    ax = fig.gca()\n",
    "    plt.pcolormesh(x_prop_3*(1e3), y_prop_3*(1e3), phase_2d_3c, cmap=plt.cm.viridis, shading='auto')\n",
    "    plt.colorbar()\n",
    "    ax.set_ylabel(r'Vertical Position [mm]')\n",
    "    ax.set_xlabel(r'Horizontal Position [mm]')\n",
    "    ax.set_title('Phase (After 3rd Crystal)')"
   ]
  },
  {
   "cell_type": "markdown",
   "id": "655ddb66-3617-4580-bc45-3b7b519802d0",
   "metadata": {},
   "source": [
    "***\n",
    "## 3 Passes Through Fourth Crystal"
   ]
  },
  {
   "cell_type": "code",
   "execution_count": null,
   "id": "67d53604-d3f0-45cc-b063-429d1441c98f",
   "metadata": {
    "jupyter": {
     "source_hidden": true
    },
    "tags": []
   },
   "outputs": [],
   "source": [
    "thisPulse_fourthCrystal = copy.deepcopy(thisPulse_thirdCrystal)\n",
    "num_passes = 3\n",
    "\n",
    "for prop_index in np.arange(num_passes):\n",
    "    for iterator in lattice_c4:\n",
    "        if len(iterator) == 2:\n",
    "            current_elem, prop_type = iterator\n",
    "            thisPulse_fourthCrystal = current_elem.propagate(thisPulse_fourthCrystal, prop_type)\n",
    "        else:\n",
    "            current_elem, prop_type, gain, radial_n2 = iterator\n",
    "            thisPulse_fourthCrystal = current_elem.propagate(thisPulse_fourthCrystal, prop_type, gain, radial_n2)\n",
    "        thisPulse_fourthCrystal.ideal_mirror_180()"
   ]
  },
  {
   "cell_type": "code",
   "execution_count": null,
   "id": "16295a5f-bdf0-45e1-bf91-79cf1015d829",
   "metadata": {
    "jupyter": {
     "source_hidden": true
    },
    "tags": []
   },
   "outputs": [],
   "source": [
    "wfr_temp = thisPulse_fourthCrystal.slice[0].wfr\n",
    "x_prop_4 = np.linspace(wfr_temp.mesh.xStart,wfr_temp.mesh.xFin,wfr_temp.mesh.nx)\n",
    "y_prop_4 = np.linspace(wfr_temp.mesh.yStart,wfr_temp.mesh.yFin,wfr_temp.mesh.ny)"
   ]
  },
  {
   "cell_type": "code",
   "execution_count": null,
   "id": "f430a859-edff-4097-828a-bb66efbe4fc9",
   "metadata": {
    "jupyter": {
     "source_hidden": true
    },
    "tags": []
   },
   "outputs": [],
   "source": [
    "e_total_4c = thisPulse_fourthCrystal.extract_total_2d_elec_fields()\n",
    "intens_2d_4c = 0.5 *const.c *const.epsilon_0 *(e_total_4c.re**2.0 + e_total_4c.im**2.0)\n",
    "intens0 = intens_2d_4c.flatten()\n",
    "\n",
    "uti_plot.uti_plot2d1d(\n",
    "    intens0,\n",
    "    [wfr_temp.mesh.xStart, wfr_temp.mesh.xFin, wfr_temp.mesh.nx],\n",
    "    [wfr_temp.mesh.yStart, wfr_temp.mesh.yFin, wfr_temp.mesh.ny],\n",
    "    0,\n",
    "    0,\n",
    "    ['Horizontal Position', 'Vertical Position', 'Intensity (After 4th Crystal)'],\n",
    "    ['m', 'm', 'ph/s/.1%bw/mm^2'],\n",
    "    True)\n",
    "\n",
    "with plt.style.context(('seaborn-poster')):\n",
    "    fig = plt.figure(figsize=(4.6,3.6))\n",
    "    ax = fig.gca()\n",
    "    plt.pcolormesh(x_prop_4*(1e3), y_prop_4*(1e3), intens_2d_4c, cmap=plt.cm.viridis, shading='auto')\n",
    "    plt.colorbar()\n",
    "    ax.set_ylabel(r'Vertical Position [mm]')\n",
    "    ax.set_xlabel(r'Horizontal Position [mm]')\n",
    "    ax.set_title('Intensity (After 4th Crystal)')"
   ]
  },
  {
   "cell_type": "code",
   "execution_count": null,
   "id": "d08ff089-0f15-4da8-bb8f-614a4e8a6b71",
   "metadata": {
    "jupyter": {
     "source_hidden": true
    },
    "tags": []
   },
   "outputs": [],
   "source": [
    "phase_2d_4c = thisPulse_fourthCrystal.extract_total_2d_phase()\n",
    "phase0 = phase_2d_4c.flatten()\n",
    "\n",
    "uti_plot.uti_plot2d1d(\n",
    "    phase0,\n",
    "    [wfr_temp.mesh.xStart, wfr_temp.mesh.xFin, wfr_temp.mesh.nx],\n",
    "    [wfr_temp.mesh.yStart, wfr_temp.mesh.yFin, wfr_temp.mesh.ny],\n",
    "    0,\n",
    "    0,\n",
    "    ['Horizontal Position', 'Vertical Position', 'Phase (After 4th Crystal)'],\n",
    "    ['m', 'm', ''],\n",
    "    True)\n",
    "\n",
    "with plt.style.context(('seaborn-poster')):\n",
    "    fig = plt.figure(figsize=(4.6,3.6))\n",
    "    ax = fig.gca()\n",
    "    plt.pcolormesh(x_prop_4*(1e3), y_prop_4*(1e3), phase_2d_4c, cmap=plt.cm.viridis, shading='auto')\n",
    "    plt.colorbar()\n",
    "    ax.set_ylabel(r'Vertical Position [mm]')\n",
    "    ax.set_xlabel(r'Horizontal Position [mm]')\n",
    "    ax.set_title('Phase (After 4th Crystal)')"
   ]
  },
  {
   "cell_type": "markdown",
   "id": "607554f9-61d2-4877-bcd3-d8ce4180fd19",
   "metadata": {},
   "source": [
    "***\n",
    "## Comparison Plots"
   ]
  },
  {
   "cell_type": "code",
   "execution_count": null,
   "id": "083fb527-29b5-4563-a9cf-2d343163df90",
   "metadata": {
    "tags": []
   },
   "outputs": [],
   "source": [
    "# total_n_photons = np.sum(photons_in_slice, axis=0)\n",
    "\n",
    "# fig, ax1 = plt.subplots(figsize=(5,3))\n",
    "# ax2 = ax1.twinx()\n",
    "# ax1.plot(np.arange(num_passes+1),total_n_photons, 'k', label='Photons')\n",
    "# ax2.plot(np.arange(num_passes+1),total_n_excited_states, 'r', label='Excited States')\n",
    "# fig.legend(loc='upper center', bbox_to_anchor=(0.5, -0.01), fancybox=True, shadow=True, ncol=5)\n",
    "# ax1.tick_params(direction=\"in\")\n",
    "# ax2.tick_params(direction=\"in\")\n",
    "# ax1.set_xlabel(r'Number of Propagations')\n",
    "# ax1.set_ylabel(r'Number of Photons')\n",
    "# ax2.set_ylabel(r'Number of Excited States',color='r')"
   ]
  },
  {
   "cell_type": "code",
   "execution_count": null,
   "id": "72676331-79f6-4c0e-affa-06b52de1797b",
   "metadata": {
    "tags": []
   },
   "outputs": [],
   "source": [
    "# fig, ax1 = plt.subplots(figsize=(5,3))\n",
    "# ax2 = ax1.twinx()\n",
    "# ax1.plot(fig_x,photons_in_slice[:,0], 'k', label='Initialization')\n",
    "# ax2.plot(fig_x,photons_in_slice[:,num_passes], '--r', label='{} Passes Through Crystal'.format(num_passes))\n",
    "# fig.legend(loc='upper center', bbox_to_anchor=(0.5, -0.01), fancybox=True, shadow=True, ncol=5)\n",
    "# ax1.tick_params(direction=\"in\")\n",
    "# ax2.tick_params(direction=\"in\")\n",
    "# ax1.set_xlabel(r'Distance from Laser Front [m]')\n",
    "# ax1.set_ylabel(r'Number of Photons, Initialized')\n",
    "# ax2.set_ylabel(r'Number of Photons, Propagated',color='r')\n",
    "# plt.title('Longitudinal Photon Distribution')"
   ]
  },
  {
   "cell_type": "code",
   "execution_count": null,
   "id": "16d497dd-7dfe-4bbc-a0cb-83ce03326d52",
   "metadata": {
    "tags": []
   },
   "outputs": [],
   "source": [
    "# # Assume all pulse slices have same length\n",
    "# fig_x = thisPulse.slice[0].ds *(np.arange(num_laser_slices) + 0.5)\n",
    "\n",
    "# fig = plt.figure(figsize=(5,3))\n",
    "# ax = fig.gca()\n",
    "# for prop_value in prop_array:\n",
    "#     plot_label = str(prop_value)+' propagations'\n",
    "#     plt.plot(fig_x,photons_in_slice[:,prop_value], label=plot_label)\n",
    "# box = ax.get_position()\n",
    "# ax.set_position([box.x0, box.y0 + box.height * 0.1, box.width, box.height * 0.9])\n",
    "# ax.legend(loc='upper center', bbox_to_anchor=(0.5, -0.2), fancybox=True, shadow=True, ncol=5)\n",
    "# ax.tick_params(direction=\"in\")\n",
    "# ax.set_ylabel(r'Number of Photons')\n",
    "# ax.set_xlabel(r'Distance from Laser Front [m]')\n",
    "# plt.title('Longitudinal Photon Distribution')"
   ]
  },
  {
   "cell_type": "code",
   "execution_count": null,
   "id": "51c9587a-0a79-441e-9d70-ca23dcbde1d5",
   "metadata": {
    "tags": []
   },
   "outputs": [],
   "source": [
    "# photons_in_slice = np.zeros((num_laser_slices, num_passes + 1))\n",
    "# total_n_excited_states = np.zeros(num_passes + 1)\n",
    "# for prop_index in np.arange(num_passes + 1):\n",
    "    \n",
    "#     for laser_index in np.arange(num_laser_slices):\n",
    "#         photons_in_slice[laser_index,prop_index] = np.sum(np.sum(thisPulse.slice[laser_index].n_photons_2d.mesh))\n",
    "    \n",
    "#     for crystal_index in np.arange(num_crystal_slices):\n",
    "#         total_n_excited_states[prop_index] += np.sum(np.sum(e_crystal.slice[crystal_index].pop_inversion_mesh * cell_volume))\n",
    "\n",
    "#     if (prop_index < num_passes):\n",
    "#         print('   Pulse direction: ',thisPulse.pulse_direction)\n",
    "#         print('Drift')\n",
    "#         thisPulse = e_drift.propagate(thisPulse, 'default')\n",
    "#         print('Propagating ', num_laser_slices, 'laser slices through ', num_crystal_slices,' crystal slices')\n",
    "#         thisPulse = e_crystal.propagate(thisPulse, prop_type, gain, radial_n2)\n",
    "#         print('Drift')\n",
    "#         thisPulse = e_drift.propagate(thisPulse, 'default')\n",
    "#         thisPulse.ideal_mirror_180()\n",
    "#         print('Ideal 180 mirror')"
   ]
  }
 ],
 "metadata": {
  "kernelspec": {
   "display_name": "Python 3",
   "language": "python",
   "name": "py3"
  },
  "language_info": {
   "codemirror_mode": {
    "name": "ipython",
    "version": 3
   },
   "file_extension": ".py",
   "mimetype": "text/x-python",
   "name": "python",
   "nbconvert_exporter": "python",
   "pygments_lexer": "ipython3",
   "version": "3.7.2"
  }
 },
 "nbformat": 4,
 "nbformat_minor": 5
}
