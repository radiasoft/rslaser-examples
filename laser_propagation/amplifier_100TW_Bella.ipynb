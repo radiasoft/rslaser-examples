{
 "cells": [
  {
   "cell_type": "markdown",
   "id": "2c707f40-45a9-4323-a433-97394d20731c",
   "metadata": {},
   "source": [
    "<div class=\"alert alert-block alert-info\">\n",
    "<p style=\"font-size:24px;text-align:center\"><b>Simulates a multi-crystal amplifier with BELLA Center's parameters</b>\n",
    "<br>A 3-crystal configuration, with 4, 3, 3 passes per crystal\n",
    "</div>"
   ]
  },
  {
   "cell_type": "code",
   "execution_count": null,
   "id": "0d9eb61e-5b76-48da-8ec6-6368b809360b",
   "metadata": {
    "tags": []
   },
   "outputs": [],
   "source": [
    "# Laser pulse\n",
    "num_laser_slices = 10\n",
    "\n",
    "# Crystal\n",
    "num_crystal_slices = 10\n",
    "\n",
    "gain = 1 \n",
    "radial_n2 = 0\n",
    "prop_type = 'n0n2_srw'"
   ]
  },
  {
   "cell_type": "code",
   "execution_count": null,
   "id": "50d5fd7c-e9b0-42fb-b285-290b21a6ae05",
   "metadata": {
    "tags": []
   },
   "outputs": [],
   "source": [
    "def plot_all(laser_pulse):\n",
    "    wfr_temp = laser_pulse.slice[0].wfr\n",
    "    wfr_x = np.linspace(wfr_temp.mesh.xStart,wfr_temp.mesh.xFin,wfr_temp.mesh.nx)\n",
    "    wfr_y = np.linspace(wfr_temp.mesh.yStart,wfr_temp.mesh.yFin,wfr_temp.mesh.ny)\n",
    "\n",
    "    e_total_init = laser_pulse.extract_total_2d_elec_fields()\n",
    "    intens_2d_init = 0.5 *const.c *const.epsilon_0 *(e_total_init.re**2.0 + e_total_init.im**2.0)\n",
    "    intens0 = intens_2d_init.flatten()\n",
    "\n",
    "    uti_plot.uti_plot2d1d(\n",
    "        intens0,\n",
    "        [wfr_temp.mesh.xStart, wfr_temp.mesh.xFin, wfr_temp.mesh.nx],\n",
    "        [wfr_temp.mesh.yStart, wfr_temp.mesh.yFin, wfr_temp.mesh.ny],\n",
    "        0,\n",
    "        0,\n",
    "        ['Horizontal Position', 'Vertical Position', 'Intensity'],\n",
    "        ['m', 'm', 'ph/s/.1%bw/mm^2'],\n",
    "        True)\n",
    "\n",
    "    with plt.style.context(('seaborn-poster')):\n",
    "        fig = plt.figure(figsize=(4.6*1.5,3.6*1.5))\n",
    "        ax = fig.gca()\n",
    "        plt.pcolormesh(wfr_x*(1e3), wfr_y*(1e3), intens_2d_init, cmap=plt.cm.viridis, shading='auto')\n",
    "        plt.colorbar()\n",
    "        ax.set_ylabel(r'Vertical Position [mm]')\n",
    "        ax.set_xlabel(r'Horizontal Position [mm]')\n",
    "        ax.set_title('Intensity')\n",
    "        plt.show()\n",
    "    \n",
    "    phase_2d_init = laser_pulse.extract_total_2d_phase()\n",
    "    phase0 = phase_2d_init.flatten()\n",
    "\n",
    "    uti_plot.uti_plot2d1d(\n",
    "        phase0,\n",
    "        [wfr_temp.mesh.xStart, wfr_temp.mesh.xFin, wfr_temp.mesh.nx],\n",
    "        [wfr_temp.mesh.yStart, wfr_temp.mesh.yFin, wfr_temp.mesh.ny],\n",
    "        0,\n",
    "        0,\n",
    "        ['Horizontal Position', 'Vertical Position', 'Phase'],\n",
    "        ['m', 'm', ''],\n",
    "        True)\n",
    "\n",
    "    with plt.style.context(('seaborn-poster')):\n",
    "        fig = plt.figure(figsize=(4.6*1.5,3.6*1.5))\n",
    "        ax = fig.gca()\n",
    "        plt.pcolormesh(wfr_x*(1e3), wfr_y*(1e3), phase_2d_init, cmap=plt.cm.viridis, shading='auto')\n",
    "        plt.colorbar()\n",
    "        ax.set_ylabel(r'Vertical Position [mm]')\n",
    "        ax.set_xlabel(r'Horizontal Position [mm]')\n",
    "        ax.set_title('Phase')\n",
    "        plt.show()"
   ]
  },
  {
   "cell_type": "markdown",
   "id": "9340820c-ec2f-4d78-a826-16846dbba63d",
   "metadata": {},
   "source": [
    "#### Imports"
   ]
  },
  {
   "cell_type": "code",
   "execution_count": null,
   "id": "802c8d48-0e57-429c-afb7-597d87f57d9e",
   "metadata": {
    "tags": []
   },
   "outputs": [],
   "source": [
    "import sys, copy\n",
    "import numpy as np\n",
    "from pykern.pkcollections import PKDict\n",
    "\n",
    "# The rslaser library may not be installed, so a check is required.\n",
    "try:\n",
    "    import rslaser\n",
    "except:\n",
    "    # Developers should use 'pip install -e .' from the command line.\n",
    "    # Users can install directly from GitHub --\n",
    "    !{sys.executable} -m pip install git+https://github.com/radiasoft/rslaser.git\n",
    "    import rslaser\n",
    "\n",
    "from rsmath import lct as rslct\n",
    "from rslaser.pulse import pulse\n",
    "from rslaser.optics import crystal\n",
    "from rslaser.optics import drift\n",
    "from rslaser.optics import lens\n",
    "import rslaser.utils.srwl_uti_data as srwutil\n",
    "import uti_plot\n",
    "\n",
    "import srwlib\n",
    "\n",
    "import scipy.constants as const\n",
    "from scipy import interpolate\n",
    "from scipy.interpolate import RectBivariateSpline\n",
    "from scipy import special\n",
    "\n",
    "# 2D plotting\n",
    "import matplotlib as mpl\n",
    "import matplotlib.pyplot as plt\n",
    "from matplotlib import cm\n",
    "\n",
    "# reset the notebook style\n",
    "mpl.rcParams.update(mpl.rcParamsDefault)\n",
    "plt.rcParams['pcolor.shading'] ='auto'\n",
    "%matplotlib inline"
   ]
  },
  {
   "cell_type": "markdown",
   "id": "35d50c6f-0f55-4bc0-8a77-3c8971ecb50c",
   "metadata": {},
   "source": [
    "### Laser Pulse"
   ]
  },
  {
   "cell_type": "code",
   "execution_count": null,
   "id": "a4a50eb7-b35c-413f-9726-1bdc6440d6f5",
   "metadata": {
    "tags": []
   },
   "outputs": [],
   "source": [
    "w0 = 3.056e-3\n",
    "l_scale = np.sqrt(np.pi)*w0\n",
    "\n",
    "params = PKDict(\n",
    "    photon_e_ev = 1.5498, # Photon energy [eV], calculated from 800nm wavelength\n",
    "    nslice      = num_laser_slices,\n",
    "    pulseE      = 0.002,\n",
    "    tau_fwhm    = 300.0e-12 / np.sqrt(2.),\n",
    "    tau_0       = 35.0e-15 / np.sqrt(2.),\n",
    "    sigx_waist  = w0,\n",
    "    sigy_waist  = w0,\n",
    "    num_sig_trans=10,\n",
    "    nx_slice=512,\n",
    "    phase_flatten_cutoff=0.7,\n",
    ")"
   ]
  },
  {
   "cell_type": "markdown",
   "id": "981cf019-6d6d-406b-b714-f61cd325be7b",
   "metadata": {},
   "source": [
    "### Crystal 1 ('Amp2')"
   ]
  },
  {
   "cell_type": "code",
   "execution_count": null,
   "id": "0c3da52b-931f-40fe-8623-b70e3c9de8e8",
   "metadata": {
    "tags": []
   },
   "outputs": [],
   "source": [
    "crystal_params_1 = PKDict(\n",
    "    length      = 0.025, # [m]\n",
    "    nslice      = num_crystal_slices,\n",
    "    n0          = [1.76 for _ in range(num_crystal_slices)],\n",
    "    n2          = [0.00 for _ in range(num_crystal_slices)],\n",
    "    l_scale     = np.sqrt(np.pi)*w0,\n",
    "    pop_inversion_n_cells=64,\n",
    "    pop_inversion_mesh_extent=0.01/2.0,  # [m]\n",
    "    pop_inversion_crystal_alpha=106.4,  # [1/m], 1.064 1/cm\n",
    "    pop_inversion_pump_waist=3.82e-3,  # [m]\n",
    "    pop_inversion_pump_wavelength=532.0e-9,  # [m]\n",
    "    pop_inversion_pump_energy=0.82,  # [J], pump laser energy onto the crystal\n",
    "    pop_inversion_pump_type=\"dual\",\n",
    "    pop_inversion_pump_gaussian_order=8,\n",
    "    pop_inversion_pump_rep_rate=1.0,\n",
    ")\n",
    "\n",
    "crystal_1 = crystal.Crystal(crystal_params_1)\n",
    "n0_slice_array, n2_slice_array1, full_crystal_abcd_mat_1 = crystal_1.calc_n0n2(method=\"fenics\", set_n=True)\n",
    "\n",
    "if prop_type == 'abcd_lct':\n",
    "    crystal_params_1.A = full_crystal_abcd_mat_1[0][0]\n",
    "    crystal_params_1.B = full_crystal_abcd_mat_1[0][1]\n",
    "    crystal_params_1.C = full_crystal_abcd_mat_1[1][0]\n",
    "    crystal_params_1.D = full_crystal_abcd_mat_1[1][1]\n",
    "    crystal_params_1.nslice = 1\n",
    "    crystal_params_1.n0 = [1.76]\n",
    "    crystal_params_1.n2 = [0.00]\n",
    "    crystal_1 = crystal.Crystal(crystal_params_1)"
   ]
  },
  {
   "cell_type": "markdown",
   "id": "e4f1861b-bbd4-490f-a569-bec2fb069916",
   "metadata": {},
   "source": [
    "### Crystal 2 ('Amp3')"
   ]
  },
  {
   "cell_type": "code",
   "execution_count": null,
   "id": "6a2841a1-170a-42b1-a6d3-7b6eef4419bc",
   "metadata": {
    "tags": []
   },
   "outputs": [],
   "source": [
    "crystal_params_2 = PKDict(\n",
    "    length      = 0.025, # [m]\n",
    "    nslice      = num_crystal_slices,\n",
    "    n0          = [1.76 for _ in range(num_crystal_slices)],\n",
    "    n2          = [0.00 for _ in range(num_crystal_slices)],\n",
    "    l_scale     = np.sqrt(np.pi)*w0,\n",
    "    pop_inversion_n_cells=64,\n",
    "    pop_inversion_mesh_extent=0.015/2.0,  # [m]\n",
    "    pop_inversion_crystal_alpha=106.4,  # [1/m], 1.064 1/cm\n",
    "    pop_inversion_pump_waist=7.3e-3,  # [m]\n",
    "    pop_inversion_pump_wavelength=532.0e-9,  # [m]\n",
    "    pop_inversion_pump_energy=2.75,  # [J], pump laser energy onto the crystal\n",
    "    pop_inversion_pump_type=\"dual\",\n",
    "    pop_inversion_pump_gaussian_order=8,\n",
    "    pop_inversion_pump_rep_rate=1.0,\n",
    ")\n",
    "\n",
    "crystal_2 = crystal.Crystal(crystal_params_2)\n",
    "n0_slice_array, n2_slice_array2, full_crystal_abcd_mat_2 = crystal_2.calc_n0n2(method=\"fenics\", set_n=True)\n",
    "\n",
    "if prop_type == 'abcd_lct':\n",
    "    crystal_params_2.A = full_crystal_abcd_mat_2[0][0]\n",
    "    crystal_params_2.B = full_crystal_abcd_mat_2[0][1]\n",
    "    crystal_params_2.C = full_crystal_abcd_mat_2[1][0]\n",
    "    crystal_params_2.D = full_crystal_abcd_mat_2[1][1]\n",
    "    crystal_params_2.nslice = 1\n",
    "    crystal_params_2.n0 = [1.76]\n",
    "    crystal_params_2.n2 = [0.00]\n",
    "    crystal_2 = crystal.Crystal(crystal_params_2)"
   ]
  },
  {
   "cell_type": "markdown",
   "id": "3b2360c0-032a-4369-bcc3-1c606b6b083c",
   "metadata": {},
   "source": [
    "### Crystal 3 ('Amp4')"
   ]
  },
  {
   "cell_type": "code",
   "execution_count": null,
   "id": "7a69fc05-159e-4370-90ba-abe4707df68b",
   "metadata": {
    "tags": []
   },
   "outputs": [],
   "source": [
    "crystal_params_3 = PKDict(\n",
    "    length      = 0.025, # [m]\n",
    "    nslice      = num_crystal_slices,\n",
    "    n0          = [1.76 for _ in range(num_crystal_slices)],\n",
    "    n2          = [0.00 for _ in range(num_crystal_slices)],\n",
    "    l_scale     = np.sqrt(np.pi)*w0,\n",
    "    pop_inversion_n_cells=64,\n",
    "    pop_inversion_mesh_extent=0.03/2.0,  # [m]\n",
    "    pop_inversion_crystal_alpha=106.4,  # [1/m], 1.064 1/cm\n",
    "    pop_inversion_pump_waist=15.4e-3,  # [m]\n",
    "    pop_inversion_pump_wavelength=532.0e-9,  # [m]\n",
    "    pop_inversion_pump_energy=7.0,  # [J], pump laser energy onto the crystal\n",
    "    pop_inversion_pump_type=\"dual\",\n",
    "    pop_inversion_pump_gaussian_order=8,\n",
    "    pop_inversion_pump_rep_rate=1.0,\n",
    ")\n",
    "\n",
    "crystal_3 = crystal.Crystal(crystal_params_3)\n",
    "n0_slice_array, n2_slice_array3, full_crystal_abcd_mat_3 = crystal_3.calc_n0n2(method=\"fenics\", set_n=True)\n",
    "\n",
    "if prop_type == 'abcd_lct':\n",
    "    crystal_params_3.A = full_crystal_abcd_mat_3[0][0]\n",
    "    crystal_params_3.B = full_crystal_abcd_mat_3[0][1]\n",
    "    crystal_params_3.C = full_crystal_abcd_mat_3[1][0]\n",
    "    crystal_params_3.D = full_crystal_abcd_mat_3[1][1]\n",
    "    crystal_params_3.nslice = 1\n",
    "    crystal_params_3.n0 = [1.76]\n",
    "    crystal_params_3.n2 = [0.00]\n",
    "    crystal_3 = crystal.Crystal(crystal_params_3)"
   ]
  },
  {
   "cell_type": "code",
   "execution_count": null,
   "id": "28f0b365-94e7-4564-9b3f-681fa19372b0",
   "metadata": {
    "tags": []
   },
   "outputs": [],
   "source": [
    "z = np.linspace(0,2.5,len(n2_slice_array3))\n",
    "\n",
    "if prop_type == 'abcd_lct':\n",
    "    print('full_crystal_abcd_mat_1 ',full_crystal_abcd_mat_1)\n",
    "    print('full_crystal_abcd_mat_2 ',full_crystal_abcd_mat_2)\n",
    "    print('full_crystal_abcd_mat_3 ',full_crystal_abcd_mat_3)\n",
    "else:\n",
    "    plt.figure()\n",
    "    plt.plot(z,n2_slice_array1, '-.k', label='Crystal 1')\n",
    "    plt.plot(z,n2_slice_array2, '--k', label='Crystal 2')\n",
    "    plt.plot(z,n2_slice_array3, ':k', label='Crystal 3')\n",
    "    plt.xlabel('longitudinal distance [cm]')\n",
    "    plt.ylabel('n2')\n",
    "    plt.legend()\n",
    "    plt.title('8th Order Gaussian Pump Pulse')\n",
    "    plt.show()"
   ]
  },
  {
   "cell_type": "markdown",
   "id": "6074cab0-c192-4e13-b2df-a2977319ded0",
   "metadata": {},
   "source": [
    "## Drift Matrix"
   ]
  },
  {
   "cell_type": "code",
   "execution_count": null,
   "id": "c41a6db9-3415-43e2-8bce-22bc64615ed6",
   "metadata": {
    "tags": []
   },
   "outputs": [],
   "source": [
    "# Drift length [m]\n",
    "L_Drift = 2.75/2.0 # [m]\n",
    "\n",
    "# instantiate an srw drift\n",
    "e_drift_srw = lens.Drift_srw(L_Drift)\n",
    "\n",
    "# instantiate an lct drift\n",
    "e_drift_lct = lens.Drift_lct(L_Drift, l_scale)"
   ]
  },
  {
   "cell_type": "markdown",
   "id": "b603b21e-5007-40e5-abf5-2faee0651eca",
   "metadata": {},
   "source": [
    "***\n",
    "## Initial Intensity and Phase"
   ]
  },
  {
   "cell_type": "code",
   "execution_count": null,
   "id": "e11347a1-9106-4f94-8dc7-fe0dc8b0d086",
   "metadata": {
    "jupyter": {
     "source_hidden": true
    },
    "tags": []
   },
   "outputs": [],
   "source": [
    "thisPulse_initial = pulse.LaserPulse(params)\n",
    "thisPulse_initial.zero_phase()\n",
    "plot_all(thisPulse_initial)"
   ]
  },
  {
   "cell_type": "code",
   "execution_count": null,
   "id": "56f3f9f5-faed-4d89-98e3-d5587551e9b3",
   "metadata": {
    "jupyter": {
     "source_hidden": true
    },
    "tags": []
   },
   "outputs": [],
   "source": [
    "rayleigh_length = np.pi * (thisPulse_initial.sigx_waist)**2.0 / (thisPulse_initial._lambda0)\n",
    "print('Rayleigh Length:', round(rayleigh_length,3), ' m')\n",
    "print('RMS bunch length:', round(thisPulse_initial.sig_s,3), ' m')"
   ]
  },
  {
   "cell_type": "markdown",
   "id": "70aa12a8-38d9-4228-8cd0-9da27569fb57",
   "metadata": {},
   "source": [
    "***\n",
    "## 4 Passes Through First Crystal ('Amp2')"
   ]
  },
  {
   "cell_type": "code",
   "execution_count": null,
   "id": "d1f723ca-fb39-48e0-b398-a6b05d3e41e4",
   "metadata": {
    "tags": []
   },
   "outputs": [],
   "source": [
    "thisPulse_firstCrystal = copy.deepcopy(thisPulse_initial)\n",
    "num_passes = 4\n",
    "\n",
    "for prop_index in np.arange(num_passes):\n",
    "    print('Pass ',prop_index+1)\n",
    "    \n",
    "    thisPulse_firstCrystal = e_drift_srw.propagate(thisPulse_firstCrystal)\n",
    "    \n",
    "    # Crystal\n",
    "    thisPulse_firstCrystal = crystal_1.propagate(thisPulse_firstCrystal, prop_type, gain, radial_n2)\n",
    "\n",
    "    thisPulse_firstCrystal = e_drift_srw.propagate(thisPulse_firstCrystal)\n",
    "    \n",
    "    if prop_index < (num_passes -1):\n",
    "        thisPulse_firstCrystal.ideal_mirror_180()\n",
    "\n",
    "plot_all(thisPulse_firstCrystal)"
   ]
  },
  {
   "cell_type": "markdown",
   "id": "b903c058-f954-42f0-a49a-c9177b1a1334",
   "metadata": {},
   "source": [
    "***\n",
    "## Telescope 1"
   ]
  },
  {
   "cell_type": "code",
   "execution_count": null,
   "id": "18584faf-e172-4bb9-84a2-e478fb81b70e",
   "metadata": {
    "tags": []
   },
   "outputs": [],
   "source": [
    "f1 = -0.1\n",
    "f2 = 0.2\n",
    "d1 = 1.9\n",
    "d2 = 0.1\n",
    "d3 = 0.54\n",
    "\n",
    "telescope_1 = lens.Telescope_lct(f1, f2, d1, d2, d3, l_scale)\n",
    "\n",
    "thisPulse_telescope1 = copy.deepcopy(thisPulse_firstCrystal)\n",
    "thisPulse_telescope1 = telescope_1.propagate(thisPulse_telescope1)\n",
    "plot_all(thisPulse_telescope1)"
   ]
  },
  {
   "cell_type": "markdown",
   "id": "4e1b48f4-04f4-48eb-b7e2-8a66bf0e0e4b",
   "metadata": {},
   "source": [
    "***\n",
    "## 3 Passes Through Second Crystal ('Amp3')"
   ]
  },
  {
   "cell_type": "code",
   "execution_count": null,
   "id": "14fbfb82-cd27-4ee6-aeb0-23b37e969e9e",
   "metadata": {
    "tags": []
   },
   "outputs": [],
   "source": [
    "thisPulse_secondCrystal = copy.deepcopy(thisPulse_telescope1)\n",
    "num_passes = 3\n",
    "\n",
    "for prop_index in np.arange(num_passes):\n",
    "    print('Pass ', prop_index+1)\n",
    "\n",
    "    thisPulse_secondCrystal = e_drift_srw.propagate(thisPulse_secondCrystal)\n",
    "    \n",
    "    # Crystal\n",
    "    thisPulse_secondCrystal = crystal_2.propagate(thisPulse_secondCrystal, prop_type, gain, radial_n2)\n",
    "\n",
    "    thisPulse_secondCrystal = e_drift_srw.propagate(thisPulse_secondCrystal)\n",
    "    \n",
    "    if prop_index < (num_passes -1):\n",
    "        thisPulse_secondCrystal.ideal_mirror_180()\n",
    "        \n",
    "plot_all(thisPulse_secondCrystal)"
   ]
  },
  {
   "cell_type": "markdown",
   "id": "6ff9343d-912a-43ff-8bae-01dcfd3fbfdf",
   "metadata": {},
   "source": [
    "***\n",
    "## Telescope 2"
   ]
  },
  {
   "cell_type": "code",
   "execution_count": null,
   "id": "ccd50e7e-719b-408c-b4fb-e866ca76458d",
   "metadata": {
    "tags": []
   },
   "outputs": [],
   "source": [
    "f1 = -0.3\n",
    "f2 = 0.6\n",
    "d1 = 1.0\n",
    "d2 = 0.3\n",
    "d3 = 0.66\n",
    "\n",
    "telescope_2 = lens.Telescope_lct(f1, f2, d1, d2, d3, l_scale)\n",
    "\n",
    "thisPulse_telescope2 = copy.deepcopy(thisPulse_secondCrystal)\n",
    "thisPulse_telescope2 = telescope_2.propagate(thisPulse_telescope2)\n",
    "plot_all(thisPulse_telescope2)"
   ]
  },
  {
   "cell_type": "markdown",
   "id": "72e1092f-ee65-4bd8-b709-bb3bae8ca1f2",
   "metadata": {},
   "source": [
    "***\n",
    "## 3 Passes Through Third Crystal ('Amp4')"
   ]
  },
  {
   "cell_type": "code",
   "execution_count": null,
   "id": "5d561cd1-83f8-418e-aa92-aa289929d6ab",
   "metadata": {
    "tags": []
   },
   "outputs": [],
   "source": [
    "thisPulse_thirdCrystal = copy.deepcopy(thisPulse_telescope2)\n",
    "num_passes = 3\n",
    "\n",
    "for prop_index in np.arange(num_passes):\n",
    "    print('Pass ', prop_index+1)\n",
    "    \n",
    "    thisPulse_thirdCrystal = e_drift_srw.propagate(thisPulse_thirdCrystal)\n",
    "    \n",
    "    # Crystal\n",
    "    thisPulse_thirdCrystal = crystal_3.propagate(thisPulse_thirdCrystal, prop_type, gain, radial_n2)\n",
    "\n",
    "    thisPulse_thirdCrystal = e_drift_srw.propagate(thisPulse_thirdCrystal)\n",
    "    \n",
    "    if prop_index < (num_passes -1):\n",
    "        thisPulse_thirdCrystal.ideal_mirror_180()\n",
    "        \n",
    "plot_all(thisPulse_thirdCrystal)"
   ]
  }
 ],
 "metadata": {
  "kernelspec": {
   "display_name": "Python 3",
   "language": "python",
   "name": "py3"
  },
  "language_info": {
   "codemirror_mode": {
    "name": "ipython",
    "version": 3
   },
   "file_extension": ".py",
   "mimetype": "text/x-python",
   "name": "python",
   "nbconvert_exporter": "python",
   "pygments_lexer": "ipython3",
   "version": "3.9.15"
  }
 },
 "nbformat": 4,
 "nbformat_minor": 5
}
