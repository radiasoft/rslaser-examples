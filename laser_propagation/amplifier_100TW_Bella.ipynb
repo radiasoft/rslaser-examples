{
 "cells": [
  {
   "cell_type": "markdown",
   "id": "2c707f40-45a9-4323-a433-97394d20731c",
   "metadata": {},
   "source": [
    "<div class=\"alert alert-block alert-info\">\n",
    "<p style=\"font-size:24px;text-align:center\"><b>Simulates a multi-crystal amplifier with BELLA Center's parameters</b>\n",
    "<br>A 3-crystal configuration, with 4, 3, 3 passes per crystal\n",
    "</div>"
   ]
  },
  {
   "cell_type": "code",
   "execution_count": null,
   "id": "0d9eb61e-5b76-48da-8ec6-6368b809360b",
   "metadata": {
    "tags": []
   },
   "outputs": [],
   "source": [
    "# Laser pulse\n",
    "num_laser_slices = 50\n",
    "\n",
    "# Crystal\n",
    "num_crystal_slices = 20\n",
    "\n",
    "gain = 1 \n",
    "radial_n2 = 0\n",
    "prop_type = 'n0n2_srw'\n",
    "\n",
    "beamsplitter_transmitted_frac = 0.4"
   ]
  },
  {
   "cell_type": "code",
   "execution_count": null,
   "id": "ecf410a3-0ff8-4e7e-a9d3-7cd89620e0b2",
   "metadata": {},
   "outputs": [],
   "source": [
    "def extract_central_wavelength(laser_pulse):\n",
    "\n",
    "    photon_e_ev = np.zeros(laser_pulse.nslice)\n",
    "    photon_number = np.zeros(laser_pulse.nslice)\n",
    "\n",
    "    for laser_index_i in np.arange(laser_pulse.nslice):\n",
    "        photon_number[laser_index_i] = np.sum(laser_pulse.slice[laser_index_i].n_photons_2d.mesh)    \n",
    "        photon_e_ev[laser_index_i] = laser_pulse.slice[laser_index_i].photon_e_ev\n",
    "\n",
    "    weight = photon_number / np.sum(photon_number)\n",
    "    wavelength = (const.h * const.c)/(const.e * photon_e_ev) * 1e9   \n",
    "\n",
    "    return fit_gaussian(wavelength,weight)"
   ]
  },
  {
   "cell_type": "code",
   "execution_count": null,
   "id": "7e564bb6-e1b3-4b7e-a2eb-4a4d0c006c58",
   "metadata": {
    "tags": []
   },
   "outputs": [],
   "source": [
    "def fit_gaussian(wavelength, weight):\n",
    "    \n",
    "    wavelength = np.flip(wavelength)\n",
    "    weight = np.flip(weight)\n",
    "    \n",
    "    cs = CubicSpline(wavelength, weight)\n",
    "    wavelength_high_res = np.linspace(wavelength[0],wavelength[-1],len(wavelength)*5)\n",
    "    weight_high_res = cs(wavelength_high_res)\n",
    "    \n",
    "    loc = np.argwhere(np.max(weight_high_res) == weight_high_res)\n",
    "    \n",
    "    plt.figure()\n",
    "    plt.plot(wavelength,weight, 'k', label='Pulse Data')\n",
    "    plt.plot(wavelength_high_res, weight_high_res, '--r', label='Cubic Spline Fit')\n",
    "    plt.plot(wavelength_high_res[loc],weight_high_res[loc], '*', label='Central Wavelength')\n",
    "    plt.legend()\n",
    "    plt.show()\n",
    "\n",
    "    return wavelength_high_res[loc]"
   ]
  },
  {
   "cell_type": "code",
   "execution_count": null,
   "id": "130a14f2-a571-450a-b766-a3a18118f5fb",
   "metadata": {
    "tags": []
   },
   "outputs": [],
   "source": [
    "def plot_excited_states(crystal):\n",
    "    long_excited_states, trans_excited_states = crystal.extract_excited_states()\n",
    "    z = np.linspace(0,2.5,len(long_excited_states))\n",
    "    x = np.linspace(-crystal.params.pop_inversion_mesh_extent,\n",
    "                    crystal.params.pop_inversion_mesh_extent,\n",
    "                    crystal.params.pop_inversion_n_cells)\n",
    "\n",
    "    uti_plot.uti_plot2d1d(\n",
    "        trans_excited_states.flatten(),\n",
    "        [-crystal.params.pop_inversion_mesh_extent, crystal.params.pop_inversion_mesh_extent, crystal.params.pop_inversion_n_cells],\n",
    "        [-crystal.params.pop_inversion_mesh_extent, crystal.params.pop_inversion_mesh_extent, crystal.params.pop_inversion_n_cells],\n",
    "        0,\n",
    "        0,\n",
    "        ['Horizontal Position', 'Vertical Position', 'Total Num Excited States'],\n",
    "        ['m', 'm', 'num'],\n",
    "        True)\n",
    "    \n",
    "    fig = plt.figure()\n",
    "    ax = fig.gca()\n",
    "    plt.pcolormesh(x*(1e3), x*(1e3), trans_excited_states, cmap=plt.cm.viridis, shading='auto')\n",
    "    plt.colorbar()\n",
    "    ax.set_ylabel(r'Vertical Position [mm]')\n",
    "    ax.set_xlabel(r'Horizontal Position [mm]')\n",
    "    ax.set_title('Total Num Excited States')\n",
    "    plt.show()\n",
    "    \n",
    "    plt.figure()\n",
    "    plt.plot(z,long_excited_states, 'k')\n",
    "    plt.xlabel('Longitudinal Distance [cm]')\n",
    "    plt.ylabel('Num Excited States')\n",
    "    plt.show()"
   ]
  },
  {
   "cell_type": "code",
   "execution_count": null,
   "id": "50d5fd7c-e9b0-42fb-b285-290b21a6ae05",
   "metadata": {
    "tags": []
   },
   "outputs": [],
   "source": [
    "def plot_all(laser_pulse):\n",
    "    wfr_temp = laser_pulse.slice[0].wfr\n",
    "    wfr_x = np.linspace(wfr_temp.mesh.xStart,wfr_temp.mesh.xFin,wfr_temp.mesh.nx)\n",
    "    wfr_y = np.linspace(wfr_temp.mesh.yStart,wfr_temp.mesh.yFin,wfr_temp.mesh.ny)\n",
    "\n",
    "    e_total_init = laser_pulse.extract_total_2d_elec_fields()\n",
    "    intens_2d_init = 0.5 *const.c *const.epsilon_0 *(e_total_init.re**2.0 + e_total_init.im**2.0)\n",
    "    intens0 = intens_2d_init.flatten()\n",
    "\n",
    "    uti_plot.uti_plot2d1d(\n",
    "        intens0,\n",
    "        [wfr_temp.mesh.xStart, wfr_temp.mesh.xFin, wfr_temp.mesh.nx],\n",
    "        [wfr_temp.mesh.yStart, wfr_temp.mesh.yFin, wfr_temp.mesh.ny],\n",
    "        0,\n",
    "        0,\n",
    "        ['Horizontal Position', 'Vertical Position', 'Intensity'],\n",
    "        ['m', 'm', 'ph/s/.1%bw/mm^2'],\n",
    "        True)\n",
    "\n",
    "    x_min = np.abs(-15.0 - wfr_x*1e3).argmin(axis=0) - 1\n",
    "    x_max = np.abs(15.0 - wfr_x*1e3).argmin(axis=0) + 1\n",
    "    \n",
    "    with plt.style.context(('seaborn-poster')):\n",
    "        fig = plt.figure(figsize=(4.6*1.5,3.6*1.5))\n",
    "        ax = fig.gca()\n",
    "        plt.pcolormesh(wfr_x[x_min:x_max]*(1e3), wfr_y[x_min:x_max]*(1e3), intens_2d_init[x_min:x_max,x_min:x_max], cmap=plt.cm.viridis, shading='auto')\n",
    "        plt.colorbar()\n",
    "        ax.set_ylabel(r'Vertical Position [mm]')\n",
    "        ax.set_xlabel(r'Horizontal Position [mm]')\n",
    "        # plt.xlim(-15,15)\n",
    "        # plt.ylim(-15,15)\n",
    "        ax.set_title('Intensity')\n",
    "        plt.show()\n",
    "    \n",
    "    phase_2d_init = laser_pulse.extract_total_2d_phase()\n",
    "    phase0 = phase_2d_init.flatten()\n",
    "\n",
    "    uti_plot.uti_plot2d1d(\n",
    "        phase0,\n",
    "        [wfr_temp.mesh.xStart, wfr_temp.mesh.xFin, wfr_temp.mesh.nx],\n",
    "        [wfr_temp.mesh.yStart, wfr_temp.mesh.yFin, wfr_temp.mesh.ny],\n",
    "        0,\n",
    "        0,\n",
    "        ['Horizontal Position', 'Vertical Position', 'Phase'],\n",
    "        ['m', 'm', ''],\n",
    "        True)\n",
    "\n",
    "    with plt.style.context(('seaborn-poster')):\n",
    "        fig = plt.figure(figsize=(4.6*1.5,3.6*1.5))\n",
    "        ax = fig.gca()\n",
    "        plt.pcolormesh(wfr_x[x_min:x_max]*(1e3), wfr_y[x_min:x_max]*(1e3), phase_2d_init[x_min:x_max,x_min:x_max], cmap=plt.cm.viridis, shading='auto')\n",
    "        plt.colorbar()\n",
    "        ax.set_ylabel(r'Vertical Position [mm]')\n",
    "        ax.set_xlabel(r'Horizontal Position [mm]')\n",
    "        # plt.xlim(-15,15)\n",
    "        # plt.ylim(-15,15)\n",
    "        ax.set_title('Phase')\n",
    "        plt.show()"
   ]
  },
  {
   "cell_type": "markdown",
   "id": "9340820c-ec2f-4d78-a826-16846dbba63d",
   "metadata": {},
   "source": [
    "#### Imports"
   ]
  },
  {
   "cell_type": "code",
   "execution_count": null,
   "id": "802c8d48-0e57-429c-afb7-597d87f57d9e",
   "metadata": {
    "tags": []
   },
   "outputs": [],
   "source": [
    "import sys, copy\n",
    "import numpy as np\n",
    "from pykern.pkcollections import PKDict\n",
    "import time\n",
    "\n",
    "from scipy import optimize\n",
    "from scipy.interpolate import splrep, splev\n",
    "from scipy.interpolate import CubicSpline\n",
    "from scipy import special\n",
    "\n",
    "# The rslaser library may not be installed, so a check is required.\n",
    "try:\n",
    "    import rslaser\n",
    "except:\n",
    "    # Developers should use 'pip install -e .' from the command line.\n",
    "    # Users can install directly from GitHub --\n",
    "    !{sys.executable} -m pip install git+https://github.com/radiasoft/rslaser.git\n",
    "    import rslaser\n",
    "\n",
    "from rsmath import lct as rslct\n",
    "from rslaser.pulse import pulse\n",
    "from rslaser.optics import crystal\n",
    "from rslaser.optics import drift\n",
    "from rslaser.optics import lens\n",
    "import rslaser.utils.srwl_uti_data as srwutil\n",
    "import uti_plot\n",
    "\n",
    "import srwlib\n",
    "\n",
    "import scipy.constants as const\n",
    "from scipy import interpolate\n",
    "from scipy.interpolate import RectBivariateSpline\n",
    "from scipy import special\n",
    "\n",
    "# 2D plotting\n",
    "import matplotlib as mpl\n",
    "import matplotlib.pyplot as plt\n",
    "from matplotlib import cm\n",
    "\n",
    "# reset the notebook style\n",
    "mpl.rcParams.update(mpl.rcParamsDefault)\n",
    "plt.rcParams['pcolor.shading'] ='auto'\n",
    "%matplotlib inline"
   ]
  },
  {
   "cell_type": "markdown",
   "id": "35d50c6f-0f55-4bc0-8a77-3c8971ecb50c",
   "metadata": {},
   "source": [
    "### Laser Pulse"
   ]
  },
  {
   "cell_type": "code",
   "execution_count": null,
   "id": "a4a50eb7-b35c-413f-9726-1bdc6440d6f5",
   "metadata": {
    "tags": []
   },
   "outputs": [],
   "source": [
    "w0 = 3.056e-3 \n",
    "l_scale = np.sqrt(np.pi)*w0\n",
    "\n",
    "params = PKDict(\n",
    "    num_sig_long = 6,\n",
    "    photon_e_ev = 1.5498, # Photon energy [eV], calculated from 800nm wavelength\n",
    "    nslice      = num_laser_slices,\n",
    "    pulseE      = 0.002,\n",
    "    tau_fwhm    = 300.0e-12 * np.sqrt(2.), # was /sqrt(2)\n",
    "    tau_0       = 35.0e-15 * np.sqrt(2.),\n",
    "    sigx_waist  = w0/np.sqrt(2.0), # was /2\n",
    "    sigy_waist  = w0/np.sqrt(2.0),\n",
    "    num_sig_trans=10,\n",
    "    nx_slice=512,\n",
    "    phase_flatten_cutoff=0.7,\n",
    ")"
   ]
  },
  {
   "cell_type": "markdown",
   "id": "981cf019-6d6d-406b-b714-f61cd325be7b",
   "metadata": {},
   "source": [
    "### Crystal 1 ('Amp2')"
   ]
  },
  {
   "cell_type": "code",
   "execution_count": null,
   "id": "0c3da52b-931f-40fe-8623-b70e3c9de8e8",
   "metadata": {
    "tags": []
   },
   "outputs": [],
   "source": [
    "crystal_params_1 = PKDict(\n",
    "    length      = 0.025, # [m]\n",
    "    nslice      = num_crystal_slices,\n",
    "    n0          = [1.76 for _ in range(num_crystal_slices)],\n",
    "    n2          = [0.00 for _ in range(num_crystal_slices)],\n",
    "    l_scale     = np.sqrt(np.pi)*w0,\n",
    "    pop_inversion_n_cells=128,\n",
    "    pop_inversion_mesh_extent=0.01/2.0,  # [m]\n",
    "    pop_inversion_crystal_alpha=106.4,  # [1/m], 1.064 1/cm\n",
    "    pop_inversion_pump_waist=3.82e-3,  # [m]\n",
    "    pop_inversion_pump_wavelength=532.0e-9,  # [m]\n",
    "    pop_inversion_pump_energy=0.82,  # [J], pump laser energy onto the crystal\n",
    "    pop_inversion_pump_type=\"dual\",\n",
    "    pop_inversion_pump_gaussian_order=8,\n",
    "    pop_inversion_pump_rep_rate=1.0,\n",
    ")\n",
    "\n",
    "crystal_1 = crystal.Crystal(crystal_params_1)\n",
    "n0_slice_array, n2_slice_array1, full_crystal_abcd_mat_1 = crystal_1.calc_n0n2(set_n=True, method=\"fenics\", heat_load=\"hog\")\n",
    "\n",
    "if prop_type == 'abcd_lct':\n",
    "    crystal_params_1.A = full_crystal_abcd_mat_1[0][0]\n",
    "    crystal_params_1.B = full_crystal_abcd_mat_1[0][1]\n",
    "    crystal_params_1.C = full_crystal_abcd_mat_1[1][0]\n",
    "    crystal_params_1.D = full_crystal_abcd_mat_1[1][1]\n",
    "    crystal_params_1.nslice = 1\n",
    "    crystal_params_1.n0 = [1.76]\n",
    "    crystal_params_1.n2 = [0.00]\n",
    "    crystal_1 = crystal.Crystal(crystal_params_1)\n",
    "    \n",
    "plot_excited_states(crystal_1)"
   ]
  },
  {
   "cell_type": "markdown",
   "id": "e4f1861b-bbd4-490f-a569-bec2fb069916",
   "metadata": {},
   "source": [
    "### Crystal 2 ('Amp3')"
   ]
  },
  {
   "cell_type": "code",
   "execution_count": null,
   "id": "6a2841a1-170a-42b1-a6d3-7b6eef4419bc",
   "metadata": {
    "tags": []
   },
   "outputs": [],
   "source": [
    "crystal_params_2 = PKDict(\n",
    "    length      = 0.025, # [m]\n",
    "    nslice      = num_crystal_slices,\n",
    "    n0          = [1.76 for _ in range(num_crystal_slices)],\n",
    "    n2          = [0.00 for _ in range(num_crystal_slices)],\n",
    "    l_scale     = np.sqrt(np.pi)*w0,\n",
    "    pop_inversion_n_cells=128,\n",
    "    pop_inversion_mesh_extent=0.015/2.0,  # [m]\n",
    "    pop_inversion_crystal_alpha=106.4,  # [1/m], 1.064 1/cm\n",
    "    pop_inversion_pump_waist=7.3e-3,  # [m]\n",
    "    pop_inversion_pump_wavelength=532.0e-9,  # [m]\n",
    "    pop_inversion_pump_energy=2.75,  # [J], pump laser energy onto the crystal\n",
    "    pop_inversion_pump_type=\"dual\",\n",
    "    pop_inversion_pump_gaussian_order=8,\n",
    "    pop_inversion_pump_rep_rate=1.0,\n",
    ")\n",
    "\n",
    "crystal_2 = crystal.Crystal(crystal_params_2)\n",
    "n0_slice_array, n2_slice_array2, full_crystal_abcd_mat_2 = crystal_2.calc_n0n2(set_n=True, method=\"fenics\", heat_load=\"hog\")\n",
    "\n",
    "if prop_type == 'abcd_lct':\n",
    "    crystal_params_2.A = full_crystal_abcd_mat_2[0][0]\n",
    "    crystal_params_2.B = full_crystal_abcd_mat_2[0][1]\n",
    "    crystal_params_2.C = full_crystal_abcd_mat_2[1][0]\n",
    "    crystal_params_2.D = full_crystal_abcd_mat_2[1][1]\n",
    "    crystal_params_2.nslice = 1\n",
    "    crystal_params_2.n0 = [1.76]\n",
    "    crystal_params_2.n2 = [0.00]\n",
    "    crystal_2 = crystal.Crystal(crystal_params_2)\n",
    "    \n",
    "plot_excited_states(crystal_2)"
   ]
  },
  {
   "cell_type": "markdown",
   "id": "3b2360c0-032a-4369-bcc3-1c606b6b083c",
   "metadata": {},
   "source": [
    "### Crystal 3 ('Amp4')"
   ]
  },
  {
   "cell_type": "code",
   "execution_count": null,
   "id": "7a69fc05-159e-4370-90ba-abe4707df68b",
   "metadata": {
    "tags": []
   },
   "outputs": [],
   "source": [
    "crystal_params_3 = PKDict(\n",
    "    length      = 0.025, # [m]\n",
    "    nslice      = num_crystal_slices,\n",
    "    n0          = [1.76 for _ in range(num_crystal_slices)],\n",
    "    n2          = [0.00 for _ in range(num_crystal_slices)],\n",
    "    l_scale     = np.sqrt(np.pi)*w0,\n",
    "    pop_inversion_n_cells=128,\n",
    "    pop_inversion_mesh_extent=0.03/2.0,  # [m]\n",
    "    pop_inversion_crystal_alpha=106.4,  # [1/m], 1.064 1/cm\n",
    "    pop_inversion_pump_waist=15.4e-3,  # [m]\n",
    "    pop_inversion_pump_wavelength=532.0e-9,  # [m]\n",
    "    pop_inversion_pump_energy=7.0,  # [J], pump laser energy onto the crystal\n",
    "    pop_inversion_pump_type=\"dual\",\n",
    "    pop_inversion_pump_gaussian_order=8,\n",
    "    pop_inversion_pump_rep_rate=1.0,\n",
    ")\n",
    "\n",
    "crystal_3 = crystal.Crystal(crystal_params_3)\n",
    "n0_slice_array, n2_slice_array3, full_crystal_abcd_mat_3 = crystal_3.calc_n0n2(set_n=True, method=\"fenics\", heat_load=\"hog\") #method=\"analytical\"\n",
    "\n",
    "if prop_type == 'abcd_lct':\n",
    "    crystal_params_3.A = full_crystal_abcd_mat_3[0][0]\n",
    "    crystal_params_3.B = full_crystal_abcd_mat_3[0][1]\n",
    "    crystal_params_3.C = full_crystal_abcd_mat_3[1][0]\n",
    "    crystal_params_3.D = full_crystal_abcd_mat_3[1][1]\n",
    "    crystal_params_3.nslice = 1\n",
    "    crystal_params_3.n0 = [1.76]\n",
    "    crystal_params_3.n2 = [0.00]\n",
    "    crystal_3 = crystal.Crystal(crystal_params_3)\n",
    "    \n",
    "plot_excited_states(crystal_3)"
   ]
  },
  {
   "cell_type": "markdown",
   "id": "6074cab0-c192-4e13-b2df-a2977319ded0",
   "metadata": {},
   "source": [
    "## Drift Matrix"
   ]
  },
  {
   "cell_type": "code",
   "execution_count": null,
   "id": "c41a6db9-3415-43e2-8bce-22bc64615ed6",
   "metadata": {
    "tags": []
   },
   "outputs": [],
   "source": [
    "# Drift length [m]\n",
    "L_Drift = 2.75/2.0 # [m]\n",
    "\n",
    "# instantiate an srw drift\n",
    "e_drift_srw = lens.Drift_srw(L_Drift)\n",
    "\n",
    "# instantiate an lct drift\n",
    "e_drift_lct = lens.Drift_lct(L_Drift, l_scale)"
   ]
  },
  {
   "cell_type": "markdown",
   "id": "b603b21e-5007-40e5-abf5-2faee0651eca",
   "metadata": {},
   "source": [
    "***\n",
    "## Initial Intensity and Phase"
   ]
  },
  {
   "cell_type": "code",
   "execution_count": null,
   "id": "e11347a1-9106-4f94-8dc7-fe0dc8b0d086",
   "metadata": {
    "tags": []
   },
   "outputs": [],
   "source": [
    "thisPulse_initial = pulse.LaserPulse(params)\n",
    "thisPulse_initial.zero_phase()\n",
    "plot_all(thisPulse_initial)"
   ]
  },
  {
   "cell_type": "code",
   "execution_count": null,
   "id": "e5e019ac-9874-4cc1-b1ed-56e9121baf0b",
   "metadata": {},
   "outputs": [],
   "source": [
    "print(thisPulse_initial.calc_total_energy())"
   ]
  },
  {
   "cell_type": "code",
   "execution_count": null,
   "id": "56f3f9f5-faed-4d89-98e3-d5587551e9b3",
   "metadata": {
    "tags": []
   },
   "outputs": [],
   "source": [
    "rayleigh_length = np.pi * (thisPulse_initial.sigx_waist)**2.0 / (thisPulse_initial._lambda0)\n",
    "print('Rayleigh Length:', round(rayleigh_length,3), ' m')\n",
    "print('RMS bunch length:', round(thisPulse_initial.sig_s,3), ' m')"
   ]
  },
  {
   "cell_type": "code",
   "execution_count": null,
   "id": "573da98d-3b73-44e2-8906-d7648bc6bda5",
   "metadata": {},
   "outputs": [],
   "source": [
    "pass_number = np.arange(11)\n",
    "central_wavelength = np.zeros(len(pass_number))\n",
    "central_wavelength[0] = extract_central_wavelength(thisPulse_initial)"
   ]
  },
  {
   "cell_type": "markdown",
   "id": "70aa12a8-38d9-4228-8cd0-9da27569fb57",
   "metadata": {},
   "source": [
    "***\n",
    "## 4 Passes Through First Crystal ('Amp2')"
   ]
  },
  {
   "cell_type": "code",
   "execution_count": null,
   "id": "d1f723ca-fb39-48e0-b398-a6b05d3e41e4",
   "metadata": {
    "tags": []
   },
   "outputs": [],
   "source": [
    "thisPulse_firstCrystal = copy.deepcopy(thisPulse_initial)\n",
    "num_passes = 4\n",
    "\n",
    "for prop_index in np.arange(num_passes):\n",
    "    print('Pass ',prop_index+1)\n",
    "    \n",
    "    thisPulse_firstCrystal = e_drift_srw.propagate(thisPulse_firstCrystal)\n",
    "    \n",
    "    # Crystal\n",
    "    thisPulse_firstCrystal = crystal_1.propagate(thisPulse_firstCrystal, prop_type, gain, radial_n2)\n",
    "    plot_excited_states(crystal_1)\n",
    "    \n",
    "    thisPulse_firstCrystal = e_drift_srw.propagate(thisPulse_firstCrystal)\n",
    "    \n",
    "    if prop_index < (num_passes -1):\n",
    "        thisPulse_firstCrystal.ideal_mirror_180()\n",
    "\n",
    "    central_wavelength[1 + prop_index] = extract_central_wavelength(thisPulse_firstCrystal)\n",
    "        \n",
    "plot_all(thisPulse_firstCrystal)\n",
    "print(thisPulse_firstCrystal.calc_total_energy())"
   ]
  },
  {
   "cell_type": "markdown",
   "id": "b903c058-f954-42f0-a49a-c9177b1a1334",
   "metadata": {},
   "source": [
    "***\n",
    "## Beamsplitter"
   ]
  },
  {
   "cell_type": "code",
   "execution_count": null,
   "id": "9aefa46d-9608-4a60-babe-69828bdd7884",
   "metadata": {
    "tags": []
   },
   "outputs": [],
   "source": [
    "beamsplitter = lens.Beamsplitter(beamsplitter_transmitted_frac)\n",
    "\n",
    "thisPulse_beamsplitter = copy.deepcopy(thisPulse_firstCrystal)\n",
    "thisPulse_beamsplitter = beamsplitter.propagate(thisPulse_beamsplitter)\n",
    "plot_all(thisPulse_beamsplitter)\n",
    "print(thisPulse_beamsplitter.calc_total_energy())"
   ]
  },
  {
   "cell_type": "markdown",
   "id": "f9689271-89ba-4ae6-86ce-36900dec6153",
   "metadata": {},
   "source": [
    "***\n",
    "## Telescope 1"
   ]
  },
  {
   "cell_type": "code",
   "execution_count": null,
   "id": "18584faf-e172-4bb9-84a2-e478fb81b70e",
   "metadata": {
    "tags": []
   },
   "outputs": [],
   "source": [
    "f1 = -0.1\n",
    "f2 = 0.2\n",
    "d1 = 1.9\n",
    "d2 = 0.1\n",
    "d3 = 0.54\n",
    "\n",
    "telescope_1 = lens.Telescope_lct(f1, f2, d1, d2, d3, l_scale)\n",
    "\n",
    "thisPulse_telescope1 = copy.deepcopy(thisPulse_beamsplitter)\n",
    "thisPulse_telescope1 = telescope_1.propagate(thisPulse_telescope1)\n",
    "plot_all(thisPulse_telescope1)\n",
    "print(thisPulse_telescope1.calc_total_energy())"
   ]
  },
  {
   "cell_type": "markdown",
   "id": "4e1b48f4-04f4-48eb-b7e2-8a66bf0e0e4b",
   "metadata": {},
   "source": [
    "***\n",
    "## 3 Passes Through Second Crystal ('Amp3')"
   ]
  },
  {
   "cell_type": "code",
   "execution_count": null,
   "id": "14fbfb82-cd27-4ee6-aeb0-23b37e969e9e",
   "metadata": {
    "tags": []
   },
   "outputs": [],
   "source": [
    "thisPulse_secondCrystal = copy.deepcopy(thisPulse_telescope1)\n",
    "num_passes = 3\n",
    "\n",
    "for prop_index in np.arange(num_passes):\n",
    "    print('Pass ', prop_index+1)\n",
    "\n",
    "    thisPulse_secondCrystal = e_drift_srw.propagate(thisPulse_secondCrystal)\n",
    "    \n",
    "    # Crystal\n",
    "    thisPulse_secondCrystal = crystal_2.propagate(thisPulse_secondCrystal, prop_type, gain, radial_n2)\n",
    "    plot_excited_states(crystal_2)\n",
    "    \n",
    "    thisPulse_secondCrystal = e_drift_srw.propagate(thisPulse_secondCrystal)\n",
    "    \n",
    "    if prop_index < (num_passes -1):\n",
    "        thisPulse_secondCrystal.ideal_mirror_180()\n",
    "\n",
    "    central_wavelength[5 + prop_index] = extract_central_wavelength(thisPulse_secondCrystal)\n",
    "        \n",
    "plot_all(thisPulse_secondCrystal)\n",
    "print(thisPulse_secondCrystal.calc_total_energy())"
   ]
  },
  {
   "cell_type": "markdown",
   "id": "6ff9343d-912a-43ff-8bae-01dcfd3fbfdf",
   "metadata": {},
   "source": [
    "***\n",
    "## Telescope 2"
   ]
  },
  {
   "cell_type": "code",
   "execution_count": null,
   "id": "ccd50e7e-719b-408c-b4fb-e866ca76458d",
   "metadata": {
    "tags": []
   },
   "outputs": [],
   "source": [
    "f1 = -0.3\n",
    "f2 = 0.6\n",
    "d1 = 1.0\n",
    "d2 = 0.3\n",
    "d3 = 0.66\n",
    "\n",
    "telescope_2 = lens.Telescope_lct(f1, f2, d1, d2, d3, l_scale)\n",
    "\n",
    "thisPulse_telescope2 = copy.deepcopy(thisPulse_secondCrystal)\n",
    "thisPulse_telescope2 = telescope_2.propagate(thisPulse_telescope2)\n",
    "plot_all(thisPulse_telescope2)\n",
    "print(thisPulse_telescope2.calc_total_energy())"
   ]
  },
  {
   "cell_type": "markdown",
   "id": "72e1092f-ee65-4bd8-b709-bb3bae8ca1f2",
   "metadata": {},
   "source": [
    "***\n",
    "## 3 Passes Through Third Crystal ('Amp4')"
   ]
  },
  {
   "cell_type": "code",
   "execution_count": null,
   "id": "5d561cd1-83f8-418e-aa92-aa289929d6ab",
   "metadata": {
    "tags": []
   },
   "outputs": [],
   "source": [
    "thisPulse_thirdCrystal = copy.deepcopy(thisPulse_telescope2)\n",
    "num_passes = 3\n",
    "\n",
    "for prop_index in np.arange(num_passes):\n",
    "    print('Pass ', prop_index+1)\n",
    "    \n",
    "    thisPulse_thirdCrystal = e_drift_srw.propagate(thisPulse_thirdCrystal)\n",
    "    \n",
    "    # Crystal\n",
    "    thisPulse_thirdCrystal = crystal_3.propagate(thisPulse_thirdCrystal, prop_type, gain, radial_n2)\n",
    "    plot_excited_states(crystal_3)\n",
    "    \n",
    "    thisPulse_thirdCrystal = e_drift_srw.propagate(thisPulse_thirdCrystal)\n",
    "    \n",
    "    if prop_index < (num_passes -1):\n",
    "        thisPulse_thirdCrystal.ideal_mirror_180()\n",
    "    \n",
    "    central_wavelength[8 + prop_index] = extract_central_wavelength(thisPulse_thirdCrystal)\n",
    "\n",
    "plot_all(thisPulse_thirdCrystal)\n",
    "print(thisPulse_thirdCrystal.calc_total_energy())"
   ]
  },
  {
   "cell_type": "markdown",
   "id": "c1baba5f-fc48-48cf-ad18-33bb0e3e00ba",
   "metadata": {},
   "source": [
    "***\n",
    "## Final Visualization"
   ]
  },
  {
   "cell_type": "code",
   "execution_count": null,
   "id": "2c8bfafd-b2dd-4377-98c7-893f497f1cd4",
   "metadata": {},
   "outputs": [],
   "source": [
    "experimental_central_wavelength = np.array([800.3,800.5,800.9,803,805.2,805.6,806.6,808,809.5,811.2,812.4])\n",
    "\n",
    "plt.figure()\n",
    "plt.plot(pass_number, central_wavelength, 'k', label='Simulation')\n",
    "plt.plot(pass_number, experimental_central_wavelength, 'r', label='Experiment')\n",
    "plt.xlabel('Pass Number')\n",
    "plt.ylabel('Central Wavelength (nm)')\n",
    "plt.legend()\n",
    "plt.tick_params(direction=\"in\")\n",
    "plt.grid()\n",
    "plt.show()"
   ]
  },
  {
   "cell_type": "code",
   "execution_count": null,
   "id": "7c9503b0-a66e-4a56-b431-5b0851404470",
   "metadata": {},
   "outputs": [],
   "source": [
    "amp = np.array([0,1,2,3])\n",
    "\n",
    "wavelength_0 = (const.h * const.c)/(const.e * photon_e_ev_init) * 1e9\n",
    "wavelength_1 = (const.h * const.c)/(const.e * photon_e_ev_first) * 1e9\n",
    "wavelength_2 = (const.h * const.c)/(const.e * photon_e_ev_second) * 1e9\n",
    "wavelength_3 = (const.h * const.c)/(const.e * photon_e_ev_final) * 1e9\n",
    "\n",
    "frequency_0 = (2.0*np.pi*photon_e_ev_init*const.e)/const.h\n",
    "frequency_1 = (2.0*np.pi*photon_e_ev_first*const.e)/const.h\n",
    "frequency_2 = (2.0*np.pi*photon_e_ev_second*const.e)/const.h\n",
    "frequency_3 = (2.0*np.pi*photon_e_ev_final*const.e)/const.h\n",
    "\n",
    "wavelength = np.array([np.sum(wavelength_0*weight_0),np.sum(wavelength_1*weight_1),np.sum(wavelength_2*weight_2),np.sum(wavelength_3*weight_3)])\n",
    "frequency = np.array([np.sum(frequency_0*weight_0),np.sum(frequency_1*weight_1),np.sum(frequency_2*weight_2),np.sum(frequency_3*weight_3)])\n",
    "\n",
    "fig, ax1 = plt.subplots()\n",
    "\n",
    "color = 'tab:blue'\n",
    "ax1.set_xlabel('Pulse Location in 100TW Amplifier')\n",
    "ax1.set_ylabel('Mean Wavelength (nm)', color=color)\n",
    "ax1.plot(amp, wavelength, color=color)\n",
    "ax1.tick_params(axis='y', labelcolor=color)\n",
    "ax1.set_xticks([0,1,2,3])\n",
    "ax1.set_xticklabels(['Initial', '1st Amp', '2nd Amp', '3rd Amp'])\n",
    "\n",
    "ax2 = ax1.twinx()\n",
    "color = 'tab:red'\n",
    "ax2.set_ylabel('Mean Angular Frequency (rad/s)', color=color) \n",
    "ax2.plot(amp, frequency, color=color)\n",
    "ax2.tick_params(axis='y', labelcolor=color)\n",
    "\n",
    "fig.tight_layout()\n",
    "plt.show()"
   ]
  },
  {
   "cell_type": "code",
   "execution_count": null,
   "id": "824dd8bf-434c-49fc-aa59-5acc70c7cc3b",
   "metadata": {},
   "outputs": [],
   "source": [
    "photon_e_ev_init = np.zeros(thisPulse_initial.nslice)\n",
    "photon_e_ev_first = np.zeros(thisPulse_firstCrystal.nslice)\n",
    "photon_e_ev_beamsplitter = np.zeros(thisPulse_beamsplitter.nslice)\n",
    "photon_e_ev_second = np.zeros(thisPulse_secondCrystal.nslice)\n",
    "photon_e_ev_final= np.zeros(thisPulse_thirdCrystal.nslice)\n",
    "\n",
    "photon_number_init = np.zeros(thisPulse_initial.nslice)\n",
    "photon_number_first = np.zeros(thisPulse_firstCrystal.nslice)\n",
    "photon_number_beamsplitter = np.zeros(thisPulse_beamsplitter.nslice)\n",
    "photon_number_second = np.zeros(thisPulse_secondCrystal.nslice)\n",
    "photon_number_final= np.zeros(thisPulse_thirdCrystal.nslice)\n",
    "\n",
    "for laser_index_i in np.arange(thisPulse_initial.nslice):\n",
    "    photon_number_init[laser_index_i] = np.sum(thisPulse_initial.slice[laser_index_i].n_photons_2d.mesh)\n",
    "    photon_number_first[laser_index_i] = np.sum(thisPulse_firstCrystal.slice[laser_index_i].n_photons_2d.mesh)\n",
    "    photon_number_beamsplitter[laser_index_i] = np.sum(thisPulse_beamsplitter.slice[laser_index_i].n_photons_2d.mesh)\n",
    "    photon_number_second[laser_index_i] = np.sum(thisPulse_secondCrystal.slice[laser_index_i].n_photons_2d.mesh)\n",
    "    photon_number_final[laser_index_i]= np.sum(thisPulse_thirdCrystal.slice[laser_index_i].n_photons_2d.mesh)\n",
    "    \n",
    "    photon_e_ev_init[laser_index_i] = thisPulse_initial.slice[laser_index_i].photon_e_ev\n",
    "    photon_e_ev_first[laser_index_i] = thisPulse_firstCrystal.slice[laser_index_i].photon_e_ev\n",
    "    photon_e_ev_beamsplitter[laser_index_i] = thisPulse_beamsplitter.slice[laser_index_i].photon_e_ev\n",
    "    photon_e_ev_second[laser_index_i] = thisPulse_secondCrystal.slice[laser_index_i].photon_e_ev\n",
    "    photon_e_ev_final[laser_index_i]= thisPulse_thirdCrystal.slice[laser_index_i].photon_e_ev\n",
    "\n",
    "weight_0 = photon_number_init / np.sum(photon_number_init)\n",
    "weight_1 = photon_number_first / np.sum(photon_number_first)\n",
    "weight_2 = photon_number_second / np.sum(photon_number_second)\n",
    "weight_3 = photon_number_final / np.sum(photon_number_final)\n",
    "\n",
    "wavelength_0ex = np.append(850,np.append(wavelength_0,760))\n",
    "wavelength_1ex = np.append(850,np.append(wavelength_1,760))\n",
    "wavelength_2ex = np.append(850,np.append(wavelength_2,760))\n",
    "wavelength_3ex = np.append(850,np.append(wavelength_3,760))\n",
    "\n",
    "weight_0ex = np.append(0,np.append(weight_0,0))\n",
    "weight_1ex = np.append(0,np.append(weight_1,0))\n",
    "weight_2ex = np.append(0,np.append(weight_2,0))\n",
    "weight_3ex = np.append(0,np.append(weight_3,0))\n",
    "\n",
    "plt.figure(figsize=(4.6*2.0,3.6*1.2))\n",
    "plt.plot(wavelength_0ex, weight_0ex/np.max(weight_0ex), 'g', label='Regen Out')\n",
    "plt.plot(wavelength_1ex, weight_1ex/np.max(weight_1ex) + 0.2, 'k', label='Amp2 Out')\n",
    "plt.plot(wavelength_2ex, weight_2ex/np.max(weight_2ex) + 0.4, 'r', label='Amp3 Out')\n",
    "plt.plot(wavelength_3ex, weight_3ex/np.max(weight_3ex) + 0.6, 'b', label='Amp4 Out')\n",
    "plt.xlabel(r'Wavelength (nm)')\n",
    "plt.ylabel(r'Spectrum Data')\n",
    "plt.legend()\n",
    "plt.title('Study of Red-Shifting Versus Amplification')\n",
    "plt.tick_params(direction=\"in\")\n",
    "plt.xlim(760,850)\n",
    "plt.grid()\n",
    "plt.show()"
   ]
  },
  {
   "cell_type": "code",
   "execution_count": null,
   "id": "c713925f-6033-4783-b27e-c2fd68f94c22",
   "metadata": {},
   "outputs": [],
   "source": [
    "fig, ax1 = plt.subplots()\n",
    "slice_index = np.arange(num_laser_slices)\n",
    "\n",
    "color = 'tab:blue'\n",
    "ax1.set_xlabel('Slice Index')\n",
    "ax1.set_ylabel('Wavelength (nm)', color=color)\n",
    "ax1.plot(slice_index, (const.h * const.c)/(photon_e_ev_init*const.e)*(1e9), color=color)\n",
    "ax1.tick_params(axis='y', labelcolor=color)\n",
    "\n",
    "ax2 = ax1.twinx()\n",
    "color = 'tab:red'\n",
    "ax2.set_ylabel('Angular Frequency (rad/s)', color=color) \n",
    "ax2.plot(slice_index, (2.0*np.pi*photon_e_ev_init*const.e)/const.h, color=color)\n",
    "ax2.tick_params(axis='y', labelcolor=color)\n",
    "\n",
    "fig.tight_layout()\n",
    "plt.show()"
   ]
  },
  {
   "cell_type": "code",
   "execution_count": null,
   "id": "17ee0378-c1aa-488f-bbfe-b56aebdc805e",
   "metadata": {},
   "outputs": [],
   "source": [
    "pulse_energy_0 = photon_number_init * photon_e_ev_init * const.e\n",
    "pulse_energy_1 = photon_number_first * photon_e_ev_first * const.e\n",
    "beamsplitter_energy = photon_number_beamsplitter * photon_e_ev_beamsplitter * const.e\n",
    "pulse_energy_2 = photon_number_second * photon_e_ev_second * const.e\n",
    "pulse_energy_3 = photon_number_final * photon_e_ev_final * const.e\n",
    "\n",
    "amp = np.array([0,1,2,3,4])\n",
    "plt.figure()\n",
    "ax = plt.gca()\n",
    "plt.semilogy(amp, 1.0e3*np.array([np.sum(pulse_energy_0),np.sum(pulse_energy_1),np.sum(beamsplitter_energy),np.sum(pulse_energy_2),np.sum(pulse_energy_3)]), 'k')\n",
    "plt.xlabel(r'Pulse Location in 100TW Amplifier')\n",
    "plt.ylabel(r'Pulse Energy (mJ)')\n",
    "# plt.legend()\n",
    "plt.title('Simulated Amplification')\n",
    "plt.tick_params(direction=\"in\")\n",
    "ax.set_xticks([0,1,2,3,4])\n",
    "ax.set_xticklabels(['Initial', '1st Amp', 'Beamsplitter', '2nd Amp', '3rd Amp'])\n",
    "plt.grid()\n",
    "plt.show()"
   ]
  },
  {
   "cell_type": "code",
   "execution_count": null,
   "id": "3a4a9c7c-0140-4d1a-adee-a05d4ff1d5b9",
   "metadata": {},
   "outputs": [],
   "source": [
    "1.0e3*np.array([np.sum(pulse_energy_0),np.sum(pulse_energy_1),np.sum(beamsplitter_energy),np.sum(pulse_energy_2),np.sum(pulse_energy_3)])"
   ]
  },
  {
   "cell_type": "code",
   "execution_count": null,
   "id": "7bfd7f86-4cba-42ae-99d5-42ab03b931c9",
   "metadata": {},
   "outputs": [],
   "source": []
  }
 ],
 "metadata": {
  "kernelspec": {
   "display_name": "Python 3",
   "language": "python",
   "name": "py3"
  },
  "language_info": {
   "codemirror_mode": {
    "name": "ipython",
    "version": 3
   },
   "file_extension": ".py",
   "mimetype": "text/x-python",
   "name": "python",
   "nbconvert_exporter": "python",
   "pygments_lexer": "ipython3",
   "version": "3.9.15"
  }
 },
 "nbformat": 4,
 "nbformat_minor": 5
}
