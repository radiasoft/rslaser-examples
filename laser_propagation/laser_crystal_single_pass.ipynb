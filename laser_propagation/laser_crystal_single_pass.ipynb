{
 "cells": [
  {
   "cell_type": "markdown",
   "id": "fb092686-9aa3-41e1-9c97-916579f5cc1e",
   "metadata": {},
   "source": [
    "<div class=\"alert alert-block alert-info\">\n",
    "<p style=\"font-size:24px;text-align:center\"><b>Propagate a low-resolution hand-crafted laser pulse through a thin lens.</b>\n",
    "<br>We initialize the laser pulse from the <b>Pump Off</b> experimental configuration.\n",
    "</div>"
   ]
  },
  {
   "cell_type": "code",
   "execution_count": null,
   "id": "48ee298f",
   "metadata": {
    "tags": []
   },
   "outputs": [],
   "source": [
    "import rslaser\n",
    "import matplotlib.pyplot as plt\n",
    "plt.rcParams['pcolor.shading'] ='auto'\n",
    "import numpy as np\n",
    "from pykern.pkcollections import PKDict\n",
    "from rslaser.optics import crystal\n",
    "from rslaser.pulse import pulse\n",
    "from rslaser.optics import drift\n",
    "from rslaser.optics import lens\n",
    "import scipy.constants as const\n",
    "from pykern import pkio\n",
    "import matplotlib as mpl\n",
    "import srwlib\n",
    "from srwlib import srwl\n",
    "import uti_plot"
   ]
  },
  {
   "cell_type": "code",
   "execution_count": null,
   "id": "76be77b8",
   "metadata": {
    "tags": []
   },
   "outputs": [],
   "source": [
    "mpl.rcParams.update(mpl.rcParamsDefault)\n",
    "%matplotlib inline\n",
    "data_dir = pkio.py_path(rslaser.pkg_resources.resource_filename('rslaser','package_data'))\n",
    "\n",
    "LP = pulse.LaserPulse(\n",
    "    PKDict(\n",
    "        nslice=1,\n",
    "        photon_e_ev=1.55,\n",
    "    ), \n",
    "    files=PKDict(\n",
    "        meta=str(data_dir.join('/20220218/meta_data.dat')),\n",
    "        ccd=str(data_dir.join('/20220218/photon_count_pump_off.txt')),\n",
    "        wfs=str(data_dir.join('/20220218/phase_pump_off.txt')),\n",
    "    )\n",
    ")\n"
   ]
  },
  {
   "cell_type": "code",
   "execution_count": null,
   "id": "e80bd9ab",
   "metadata": {},
   "outputs": [],
   "source": [
    "photonss0 = LP.slice[0].n_photons_2d\n",
    "with plt.style.context(('seaborn-poster')):\n",
    "    fig = plt.figure(figsize=(4.6 * 2,3.6 * 2))\n",
    "    ax = fig.gca()\n",
    "    plt.pcolormesh(photonss0.x*1e3, photonss0.y*1e3, np.reshape(photonss0.mesh, (LP.slice_wfr(0).mesh.ny, LP.slice_wfr(0).mesh.nx)), cmap=plt.cm.viridis, shading='auto')\n",
    "    plt.colorbar()\n",
    "    ax.set_ylabel(r'Vertical Position [mm]')\n",
    "    ax.set_xlabel(r'Horizontal Position [mm]')\n",
    "    ax.set_title('Number of Photons')"
   ]
  },
  {
   "cell_type": "code",
   "execution_count": null,
   "id": "0e094fdf",
   "metadata": {},
   "outputs": [],
   "source": [
    "e_total = LP.extract_total_2d_elec_fields()\n",
    "intens0_2d = 0.5 *const.c *const.epsilon_0 *(e_total.re**2.0 + e_total.im**2.0)\n",
    "intens0 = intens0_2d.flatten()\n",
    "wfr0 = LP.slice_wfr(0)\n",
    "\n",
    "#srwlib.srwl_uti_save_intens_ascii(intens0, wfr0.mesh, 'initial-intensity.dat', 0, ['', 'Horizontal Position', 'Vertical Position', 'Intensity'], _arUnits=['', 'm', 'm', ''])\n",
    "uti_plot.uti_plot2d1d(\n",
    "    intens0,\n",
    "    [wfr0.mesh.xStart, wfr0.mesh.xFin, wfr0.mesh.nx],\n",
    "    [wfr0.mesh.yStart, wfr0.mesh.yFin, wfr0.mesh.ny],\n",
    "    0,\n",
    "    0,\n",
    "    ['Horizontal Position', 'Vertical Position', 'Intensity'],\n",
    "    ['m', 'm', 'ph/s/.1%bw/mm^2'],\n",
    "    True)\n",
    "\n",
    "with plt.style.context(('seaborn-poster')):\n",
    "    fig = plt.figure(figsize=(4.6 * 2,3.6 * 2))\n",
    "    ax = fig.gca()\n",
    "    plt.pcolormesh(photonss0.x*1e3, photonss0.y*1e3, intens0_2d, cmap=plt.cm.viridis, shading='auto')\n",
    "    plt.colorbar()\n",
    "    ax.set_ylabel(r'Vertical Position [mm]')\n",
    "    ax.set_xlabel(r'Horizontal Position [mm]')\n",
    "    ax.set_title('Intensity (from SRW wavefront)')"
   ]
  },
  {
   "cell_type": "code",
   "execution_count": null,
   "id": "408073ad-e28c-45ec-9c66-5b18eede75ed",
   "metadata": {},
   "outputs": [],
   "source": [
    "phase0_2d = LP.extract_total_2d_phase()\n",
    "phase0 = phase0_2d.flatten()\n",
    "\n",
    "#srwlib.srwl_uti_save_intens_ascii(phase0, wfr0.mesh, 'initial-phase.dat', 0, ['', 'Horizontal Position', 'Vertical Position', 'Phase'], _arUnits=['', 'm', 'm', 'rad'])\n",
    "uti_plot.uti_plot2d1d(\n",
    "    phase0,\n",
    "    [wfr0.mesh.xStart, wfr0.mesh.xFin, wfr0.mesh.nx],\n",
    "    [wfr0.mesh.yStart, wfr0.mesh.yFin, wfr0.mesh.ny],\n",
    "    0,\n",
    "    0,\n",
    "    ['Horizontal Position', 'Vertical Position', 'Phase'],\n",
    "    ['m', 'm', 'ph/s/.1%bw/mm^2'],\n",
    "    True)\n",
    "\n",
    "# plot the phase\n",
    "with plt.style.context(('seaborn-poster')):\n",
    "    fig = plt.figure(figsize=(4.6 * 2,3.6 * 2))\n",
    "    ax = fig.gca()\n",
    "    plt.pcolormesh(photonss0.x*1e3, photonss0.y*1e3, phase0_2d, cmap=plt.cm.viridis, shading='auto')\n",
    "    plt.colorbar()\n",
    "    ax.set_xlabel(r'Horizontal Position [mm]')\n",
    "    ax.set_ylabel(r'Vertical Position [mm]')\n",
    "    ax.set_title('Phase (from SRW wavefront)')"
   ]
  },
  {
   "cell_type": "code",
   "execution_count": null,
   "id": "8c23381d",
   "metadata": {},
   "outputs": [],
   "source": [
    "LP.rmsvals()"
   ]
  },
  {
   "cell_type": "markdown",
   "id": "66274293-d2bf-4017-bd95-4e68b0d62ca2",
   "metadata": {},
   "source": [
    "<div class=\"alert alert-block alert-info\">\n",
    "<p style=\"font-size:18px;\">Propagate the laser pulse through a Ti:Sapphire crystal and 50 cm drift.</p>\n",
    "</div>"
   ]
  },
  {
   "cell_type": "code",
   "execution_count": null,
   "id": "d88d9493-59e5-40f8-b324-729d005afbe7",
   "metadata": {},
   "outputs": [],
   "source": [
    "# instantiate the crystal with laser pumping on\n",
    "L_crystal = 0.01   # [m]\n",
    "num_slices = 1\n",
    "\n",
    "crystal_params = PKDict(\n",
    "        n0 = [1.76 for _ in range(num_slices)],\n",
    "        n2 = [4.0  for _ in range(num_slices)],\n",
    "        length = L_crystal,\n",
    "        nslice = num_slices,\n",
    "#        l_scale = 0.001,    # uncomment when using LCT-based propagators\n",
    ")\n",
    "e_crystal = crystal.Crystal(crystal_params)\n",
    "\n",
    "# instantiate a simple focusing lens\n",
    "focal_length = 2.   # [m]\n",
    "e_lens = lens.Lens_srw(focal_length)\n",
    "\n",
    "# instantiate a drift\n",
    "L_drift = 0.50  # [m]\n",
    "e_drift = lens.Drift_srw(L_drift)\n",
    "\n",
    "lattice = [(e_lens,'default'), \n",
    "#           (e_crystal,'abcd_lct'), #'abcd'), \n",
    "           (e_crystal,'n0n2_srw'), #'abcd'), \n",
    "           (e_lens,'default'), \n",
    "           (e_drift,'default')\n",
    "          ]"
   ]
  },
  {
   "cell_type": "code",
   "execution_count": null,
   "id": "0dad82b2-073a-4204-b8a1-7fd88109e3ff",
   "metadata": {},
   "outputs": [],
   "source": [
    "# propagate the pulse through the lattice\n",
    "LP_final = LP\n",
    "for iterator in lattice:\n",
    "    current_elem, prop_type = iterator\n",
    "    LP_final = current_elem.propagate(LP_final, prop_type)"
   ]
  },
  {
   "cell_type": "markdown",
   "id": "12e76321-7417-482f-81b2-59034d80adcd",
   "metadata": {},
   "source": [
    "<div class=\"alert alert-block alert-info\">\n",
    "<p style=\"font-size:18px;\">Plot the laser pulse after propagating through the crystal and drift.</p>\n",
    "</div>"
   ]
  },
  {
   "cell_type": "code",
   "execution_count": null,
   "id": "22bea282-6e25-43fc-be2b-4837e01e4dc3",
   "metadata": {},
   "outputs": [],
   "source": [
    "# transmitted pulse - intensity\n",
    "wfr2=LP_final.slice_wfr(0)\n",
    "\n",
    "x1 = np.linspace(wfr2.mesh.xStart,wfr2.mesh.xFin,wfr2.mesh.nx)\n",
    "y1 = np.linspace(wfr2.mesh.yStart,wfr2.mesh.yFin,wfr2.mesh.ny)\n",
    "x, y = np.meshgrid(x1, y1)\n",
    "\n",
    "e_total = LP_final.extract_total_2d_elec_fields()\n",
    "intens2_2d = 0.5 *const.c *const.epsilon_0 *(e_total.re**2.0 + e_total.im**2.0)\n",
    "intens2 = intens2_2d.flatten()\n",
    "\n",
    "#srwlib.srwl_uti_save_intens_ascii(intens2, wfr2.mesh, 'final-intensity.dat', 0, ['', 'Horizontal Position', 'Vertical Position', 'Intensity'], _arUnits=['', 'm', 'm', ''])\n",
    "uti_plot.uti_plot2d1d(\n",
    "    intens2,\n",
    "    [wfr2.mesh.xStart, wfr2.mesh.xFin, wfr2.mesh.nx],\n",
    "    [wfr2.mesh.yStart, wfr2.mesh.yFin, wfr2.mesh.ny],\n",
    "    0,\n",
    "    0,\n",
    "    ['Horizontal Position', 'Vertical Position', 'Intensity'],\n",
    "    ['m', 'm', 'ph/s/.1%bw/mm^2'],\n",
    "    True)"
   ]
  },
  {
   "cell_type": "code",
   "execution_count": null,
   "id": "6bd3af43-d38d-4775-88e2-59be7ec5628e",
   "metadata": {
    "tags": []
   },
   "outputs": [],
   "source": [
    "# plot the computed intensity\n",
    "with plt.style.context(('seaborn-poster')):\n",
    "    fig = plt.figure(figsize=(4.6 * 2,3.6 * 2))\n",
    "    ax = fig.gca()\n",
    "    # By setting wfr0a.unitElFldAng=1, default units should  now be in mrad(?)\n",
    "    plt.pcolormesh(x1*1e3, y1*1e3, intens2_2d, cmap=plt.cm.viridis,shading='auto')\n",
    "    plt.colorbar()\n",
    "    ax.set_ylabel(r'Vertical Position [mm]')\n",
    "    ax.set_xlabel(r'Horizontal Position [mm]')\n",
    "    ax.set_title('Intensity (after crystal and drift)')"
   ]
  },
  {
   "cell_type": "code",
   "execution_count": null,
   "id": "d450a6d8-500b-4bfe-92d2-08d558d4e2b6",
   "metadata": {
    "tags": []
   },
   "outputs": [],
   "source": [
    "phase2_2d = LP_final.extract_total_2d_phase()\n",
    "phase2 = phase2_2d.flatten()\n",
    "\n",
    "#srwlib.srwl_uti_save_intens_ascii(phase2, wfr2.mesh, 'final-phase.dat', 0, ['', 'Horizontal Position', 'Vertical Position', 'Phase'], _arUnits=['', 'm', 'm', 'rad'])\n",
    "uti_plot.uti_plot2d1d(\n",
    "    phase2,\n",
    "    [wfr2.mesh.xStart, wfr2.mesh.xFin, wfr2.mesh.nx],\n",
    "    [wfr2.mesh.yStart, wfr2.mesh.yFin, wfr2.mesh.ny],\n",
    "    0,\n",
    "    0,\n",
    "    ['Horizontal Position', 'Vertical Position', 'Phase'],\n",
    "    ['m', 'm', 'ph/s/.1%bw/mm^2'],\n",
    "    True)\n",
    "\n",
    "with plt.style.context(('seaborn-poster')):\n",
    "    fig = plt.figure(figsize=(4.6 * 2,3.6 * 2))\n",
    "    ax = fig.gca()\n",
    "\n",
    "    # By setting wfr0a.unitElFldAng=1, default units should  now be in mrad(?)\n",
    "#    plt.pcolormesh(x*1e3, y*1e3, np.unwrap(phase2_2d), cmap=plt.cm.viridis,shading='auto')\n",
    "    plt.pcolormesh(x*1e3, y*1e3, phase2_2d, cmap=plt.cm.viridis,shading='auto')\n",
    "    plt.colorbar()\n",
    "    ax.set_ylabel(r'Vertical Position [mm]')\n",
    "    ax.set_xlabel(r'Horizontal Position [mm]')\n",
    "    ax.set_title('Phase (after crystal and drift)')"
   ]
  },
  {
   "cell_type": "code",
   "execution_count": null,
   "id": "6056761e",
   "metadata": {},
   "outputs": [],
   "source": [
    "LP.rmsvals()"
   ]
  },
  {
   "cell_type": "code",
   "execution_count": null,
   "id": "47e8d942-7f95-45df-8ae4-14901de2d22f",
   "metadata": {},
   "outputs": [],
   "source": []
  }
 ],
 "metadata": {
  "kernelspec": {
   "display_name": "Python 3",
   "language": "python",
   "name": "py3"
  },
  "language_info": {
   "codemirror_mode": {
    "name": "ipython",
    "version": 3
   },
   "file_extension": ".py",
   "mimetype": "text/x-python",
   "name": "python",
   "nbconvert_exporter": "python",
   "pygments_lexer": "ipython3",
   "version": "3.9.15"
  }
 },
 "nbformat": 4,
 "nbformat_minor": 5
}
