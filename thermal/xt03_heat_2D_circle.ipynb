{
 "cells": [
  {
   "cell_type": "markdown",
   "metadata": {},
   "source": [
    "# *FEniCS tutorial:* Diffusion of a Gaussian hill in a two-dimensional disc\n",
    "\n",
    "In this demo, we solve the two-dimensional diffusion equation with Dirichlet\n",
    "bounadary conditions $u_D$ and source term $f = 0$. The initial condition,\n",
    "$u_0$, we define as a Gaussian hill.\n",
    "\n",
    "$$\n",
    "\\begin{align}\n",
    "  u'   &= \\nabla^2 u + f \\quad\\text{in the unit circle} \\\\\n",
    "  u    &= u_D  \\hphantom{u+f}\\quad\\text{on the boundary} \\\\\n",
    "  u    &= u_0  \\hphantom{u+f}\\quad\\;\\text{at $t = 0$} \\\\\n",
    "\\end{align}\n",
    "$$\n",
    "with\n",
    "$$\n",
    "\\begin{align}\n",
    "  u_D  &= 0 \\\\\n",
    "  u_0  &= \\exp\\bigl(-a(x^2 + y^2)\\bigr) \\\\\n",
    "  f    &= 0\n",
    "\\end{align}\n",
    "$$"
   ]
  },
  {
   "cell_type": "code",
   "execution_count": null,
   "metadata": {},
   "outputs": [],
   "source": [
    "%matplotlib inline\n",
    "import matplotlib.pyplot as plt\n",
    "import numpy as np\n",
    "import time as tm\n",
    "\n",
    "# import os\n",
    "# import sys\n",
    "# import re\n",
    "# from IPython.display import Image\n",
    "# from IPython.core.interactiveshell import InteractiveShell\n",
    "# InteractiveShell.ast_node_interactivity = \"all\""
   ]
  },
  {
   "cell_type": "code",
   "execution_count": null,
   "metadata": {},
   "outputs": [],
   "source": [
    "from fenics import *\n",
    "from mshr import *"
   ]
  },
  {
   "cell_type": "code",
   "execution_count": null,
   "metadata": {},
   "outputs": [],
   "source": [
    "## set up the problem and define the main simulation function evolve()\n",
    "\n",
    "# simulation parameters\n",
    "# -- time step\n",
    "T = 0.25          # total simulation time\n",
    "n_steps = 15      # number of time steps\n",
    "dt = T / n_steps  # size of time step\n",
    "nip = 3           # number of intervals between plots\n",
    "# -- mesh density\n",
    "md = 24           # mesh density within disc\n",
    "\n",
    "# create mesh and define function space\n",
    "domain = Circle(Point(0, 0), 1)\n",
    "mesh = generate_mesh(domain, md)\n",
    "V = FunctionSpace(mesh, 'P', 2)\n",
    "\n",
    "# define boundary condition\n",
    "def boundary(x, on_boundary):\n",
    "    return on_boundary\n",
    "\n",
    "bc = DirichletBC(V, Constant(0), boundary)\n",
    "\n",
    "# define initial value\n",
    "u_0 = Expression('exp(-a*pow(x[0] - x0, 2) - a*pow(x[1] - y0, 2))',\n",
    "                 degree=2, x0=0., y0=0.30, a=5)\n",
    "u_n = interpolate(u_0, V)\n",
    "\n",
    "u_min = 0.\n",
    "u_max = 1.\n",
    "\n",
    "# define variational problem\n",
    "u = TrialFunction(V)\n",
    "v = TestFunction(V)\n",
    "f = Constant(0)\n",
    "F = u*v*dx + dt*dot(grad(u), grad(v))*dx - (u_n + dt*f)*v*dx\n",
    "a, L = lhs(F), rhs(F)\n",
    "\n",
    "# define time-evolution function\n",
    "def evolve():\n",
    "\n",
    "    # report initial state\n",
    "    yield u_n\n",
    "\n",
    "    # time-stepping\n",
    "    u = Function(V)\n",
    "    t = 0\n",
    "    for n in range(1, n_steps + 1):\n",
    "\n",
    "        # update current time\n",
    "        t += dt\n",
    "\n",
    "        # compute solution\n",
    "        solve(a == L, u, bc)\n",
    "\n",
    "        # report solution at nip-step intervals\n",
    "        if n % nip == 0:\n",
    "            yield u\n",
    "\n",
    "        # update previous solution\n",
    "        u_n.assign(u)"
   ]
  },
  {
   "cell_type": "code",
   "execution_count": null,
   "metadata": {},
   "outputs": [],
   "source": [
    "n_rows = 3\n",
    "n_cols = 5\n",
    "fig_wd = 15\n",
    "# default sizing here yields unit aspect ratio\n",
    "plt.figure(figsize = (fig_wd, fig_wd * n_rows // n_cols))\n",
    "plt.subplots_adjust(wspace=0.3, hspace=0.3)\n",
    "\n",
    "idx = 0\n",
    "for u in evolve():\n",
    "    idx += 1\n",
    "    plt.subplot(n_rows, n_cols, idx)\n",
    "    plot(u, vmin=u_min, vmax=u_max)"
   ]
  },
  {
   "cell_type": "code",
   "execution_count": null,
   "metadata": {},
   "outputs": [],
   "source": [
    "mesh"
   ]
  },
  {
   "cell_type": "code",
   "execution_count": null,
   "metadata": {},
   "outputs": [],
   "source": [
    "u"
   ]
  },
  {
   "cell_type": "code",
   "execution_count": null,
   "metadata": {},
   "outputs": [],
   "source": [
    "plot(u)"
   ]
  },
  {
   "cell_type": "code",
   "execution_count": null,
   "metadata": {},
   "outputs": [],
   "source": []
  }
 ],
 "metadata": {
  "kernelspec": {
   "display_name": "Python 3",
   "language": "python",
   "name": "py3"
  },
  "language_info": {
   "codemirror_mode": {
    "name": "ipython",
    "version": 3
   },
   "file_extension": ".py",
   "mimetype": "text/x-python",
   "name": "python",
   "nbconvert_exporter": "python",
   "pygments_lexer": "ipython3",
   "version": "3.9.15"
  }
 },
 "nbformat": 4,
 "nbformat_minor": 4
}
