{
 "cells": [
  {
   "cell_type": "markdown",
   "metadata": {},
   "source": [
    "# *Thermal Transport in a Cylinder*\n",
    "\n",
    "In this demo, we solve the three-dimensional diffusion equation in a short\n",
    "cylinder, with Dirichlet boundary conditions $u_D$ and steady source term\n",
    "$f$ along the central axis.\n",
    "\n",
    "$$\n",
    "\\begin{align}\n",
    "  u'   &= \\nabla^2 u + f     \\quad\\text{in a short cylinder} \\\\\n",
    "  u    &= u_D  \\hphantom{u+f}\\quad\\text{on the boundary} \\\\\n",
    "  u    &= u_0  \\hphantom{u+f}\\quad\\;\\text{at $t = 0$}\n",
    "\\end{align}\n",
    "$$\n",
    "with$$\n",
    "\\begin{align}\n",
    "  u_D  &= 0 \\\\\n",
    "  u_0  &= 0 \\\\\n",
    "  f    &= A \\exp\\bigl( -(r/\\rho)^2 - (z/\\zeta)^2 \\bigr).\n",
    "\\end{align}\n",
    "$$"
   ]
  },
  {
   "cell_type": "code",
   "execution_count": null,
   "metadata": {},
   "outputs": [],
   "source": [
    "import numpy as np\n",
    "from fenics import *\n",
    "from mshr import *   # now deprecated (?), transition to alternate mesh generator (?)"
   ]
  },
  {
   "cell_type": "code",
   "execution_count": null,
   "metadata": {},
   "outputs": [],
   "source": [
    "## set up the problem and define (some of) the main parameters\n",
    "\n",
    "# simulation parameters\n",
    "# -- time step\n",
    "T = 5.0           # total simulation time\n",
    "n_steps = 100     # number of time steps\n",
    "dt = T / n_steps  # size of time step\n",
    "nip = 10          # number of intervals between plots\n",
    "# -- cylinder\n",
    "rad = 1.0         # radius\n",
    "lh  = 0.1         # half-length\n",
    "# --  mesh density\n",
    "md = 24           # mesh density within cylinder\n",
    "\n",
    "# create mesh: Cylinder(p_top, p_bot, r_top, r_bot)\n",
    "domain = Cylinder(Point(0, 0, lh), Point(0., 0., -lh), rad, rad)\n",
    "mesh = generate_mesh(domain, md)\n",
    "# and define function space\n",
    "V = FunctionSpace(mesh, 'P', 1)"
   ]
  },
  {
   "cell_type": "code",
   "execution_count": null,
   "metadata": {},
   "outputs": [],
   "source": [
    "mesh"
   ]
  },
  {
   "cell_type": "code",
   "execution_count": null,
   "metadata": {},
   "outputs": [],
   "source": [
    "# define boundary condition\n",
    "def boundary(x, on_boundary):\n",
    "    return on_boundary\n",
    "\n",
    "bc = DirichletBC(V, Constant(0), boundary)\n",
    "\n",
    "# define initial value\n",
    "u_0 = Constant(0)\n",
    "u_n = interpolate(u_0, V)\n",
    "\n",
    "# define source term\n",
    "A = 2.0          # amplitude\n",
    "rho =  rad / 10  # radial decay length\n",
    "zeta = lh / 2    # longitudinal decay length\n",
    "f = Expression('A * exp( -(pow(x[0], 2) + pow(x[1], 2)) / pow(rho, 2) - pow(x[2] / zeta, 2) )',\n",
    "               degree=1, A=A, rho=rho, zeta=zeta)\n",
    "\n",
    "# define the variational problem\n",
    "u = TrialFunction(V)\n",
    "v = TestFunction(V)\n",
    "F = u*v*dx + dt*dot(grad(u), grad(v))*dx - (u_n + dt*f)*v*dx\n",
    "a, L = lhs(F), rhs(F)"
   ]
  },
  {
   "cell_type": "code",
   "execution_count": null,
   "metadata": {},
   "outputs": [],
   "source": [
    "# define time-evolution function\n",
    "def evolve():\n",
    "\n",
    "    # report initial state\n",
    "    yield u_n\n",
    "\n",
    "    # time-stepping\n",
    "    u = Function(V)\n",
    "    t = 0\n",
    "    for n in range(1, n_steps + 1):\n",
    "\n",
    "        # update current time\n",
    "        t += dt\n",
    "\n",
    "        # compute solution\n",
    "        solve(a == L, u, bc)\n",
    "\n",
    "        # report solution at nip-step intervals\n",
    "        if n % nip == 0:\n",
    "            yield u\n",
    "\n",
    "        # update previous solution\n",
    "        u_n.assign(u)"
   ]
  },
  {
   "cell_type": "code",
   "execution_count": null,
   "metadata": {},
   "outputs": [],
   "source": [
    "n_rows = 3\n",
    "n_cols = 5\n",
    "fig_wd = 15\n",
    "# default sizing here yields unit aspect ratio\n",
    "# plt.figure(figsize = (fig_wd, fig_wd * n_rows // n_cols))\n",
    "\n",
    "idx = 0\n",
    "for u in evolve():\n",
    "    idx += 1\n",
    "#     plot(u)"
   ]
  },
  {
   "cell_type": "code",
   "execution_count": null,
   "metadata": {},
   "outputs": [],
   "source": [
    "xvals = mesh.coordinates()[:,0]\n",
    "yvals = mesh.coordinates()[:,1]\n",
    "zvals = mesh.coordinates()[:,2]\n",
    "uvals = u.compute_vertex_values()"
   ]
  },
  {
   "cell_type": "code",
   "execution_count": null,
   "metadata": {},
   "outputs": [],
   "source": [
    "import plotly.graph_objects\n",
    "\n",
    "inds = []\n",
    "# get the \"facets\" and build an array of the indices of their coordinates\n",
    "for item in dolfin.cpp.mesh.facets(mesh):\n",
    "    inds.append(item.entities(0).tolist())\n",
    "\n",
    "# provide these indices to plotly so it can draw proper surfaces\n",
    "inds = np.array(inds)\n",
    "ii = inds[:, 0]\n",
    "jj = inds[:, 1]\n",
    "kk = inds[:, 2]\n",
    "\n",
    "fig = plotly.graph_objects.Figure(\n",
    "    data=[plotly.graph_objects.Mesh3d(\n",
    "        x=xvals, y=yvals, z=zvals,\n",
    "        i=ii, j=jj, k=kk,\n",
    "        colorscale='jet',\n",
    "        intensity=uvals,\n",
    "        alphahull=-1,\n",
    "        opacity=0.1\n",
    "    )]\n",
    ")\n",
    "# fig.update_layout(scene_aspectmode='data')\n",
    "fig.update_layout(\n",
    "    title='Title needs to be added...',\n",
    "    scene = dict(xaxis_title='x [m]', yaxis_title='y [m]', zaxis_title='TBD...'),\n",
    "    width=800, height=400, autosize=False,\n",
    "    margin=dict(l=65, r=50, b=65, t=90),\n",
    ")\n",
    "fig.show()"
   ]
  },
  {
   "cell_type": "code",
   "execution_count": null,
   "metadata": {},
   "outputs": [],
   "source": []
  }
 ],
 "metadata": {
  "kernelspec": {
   "display_name": "Python 3",
   "language": "python",
   "name": "py3"
  },
  "language_info": {
   "codemirror_mode": {
    "name": "ipython",
    "version": 3
   },
   "file_extension": ".py",
   "mimetype": "text/x-python",
   "name": "python",
   "nbconvert_exporter": "python",
   "pygments_lexer": "ipython3",
   "version": "3.9.15"
  }
 },
 "nbformat": 4,
 "nbformat_minor": 4
}
