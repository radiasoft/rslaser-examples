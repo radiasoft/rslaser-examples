{
 "cells": [
  {
   "cell_type": "markdown",
   "metadata": {},
   "source": [
    "# *Thermal Transport in a Ti:Sapphire Crystal*"
   ]
  },
  {
   "cell_type": "markdown",
   "metadata": {},
   "source": [
    "### _Dan T. Abell, RadiaSoft LLC_"
   ]
  },
  {
   "cell_type": "markdown",
   "metadata": {},
   "source": [
    "In this demo, we solve the three-dimensional diffusion equation in a cylindrical Ti:sapphire crystal, with Dirichlet boundary condition $u_D$\n",
    "on the sides and a defined initial condition inside the crystal body.\n",
    "\n",
    "$$\n",
    "\\begin{align}\n",
    "  \\frac{\\partial u}{\\partial t}   &= \\alpha\\nabla^2 u        \\quad\\text{in a short cylinder} \\\\\n",
    "  u    &= u_D  \\hphantom{Du}\\quad\\text{on the side boundary} \\\\\n",
    "  u    &= u_0  \\hphantom{Du}\\quad\\;\\text{at $t = 0$}\n",
    "\\end{align}\n",
    "$$\n",
    "with boundary conditions\n",
    "$$\n",
    "\\begin{align}\n",
    "  u_0  &= T_0 \\,\\Theta(\\varepsilon - r), \\\\\n",
    "  u_D  &= 0.\n",
    "\\end{align}\n",
    "$$\n",
    "Here $\\Theta$ denotes the Heaviside step function, which equals one unless its argument is negative, in which case it vanishes."
   ]
  },
  {
   "cell_type": "markdown",
   "metadata": {},
   "source": [
    "## Typical Properties of sapphire wafers"
   ]
  },
  {
   "cell_type": "markdown",
   "metadata": {},
   "source": [
    "[data source](http://valleydesign.com/sappprop.htm)"
   ]
  },
  {
   "cell_type": "markdown",
   "metadata": {},
   "source": [
    "### Mechanical Properties"
   ]
  },
  {
   "cell_type": "markdown",
   "metadata": {},
   "source": [
    "| property                     | value                        |\n",
    "| :--------------------------- | :--------------------------- |\n",
    "| Density                      | 3.98 g/cm$^3$                |\n",
    "| Young's Modulus (elasticity) | 345 GPa / $50\\times10^6$ psi |\n",
    "| Bulk Modulus (compression)   | 250 GPa / $36\\times10^6$ psi |\n",
    "| Shear Modulus (rigidity)     | 145 GPa / $21\\times10^6$ psi |\n",
    "| Poisson's Ratio              | 0.29                         |\n",
    "| Melting Point                | 2040°C / 3700°F / 2310 K     |"
   ]
  },
  {
   "cell_type": "markdown",
   "metadata": {},
   "source": [
    "### Thermal Properties"
   ]
  },
  {
   "cell_type": "markdown",
   "metadata": {},
   "source": [
    "| property                   | value                 |\n",
    "| :------------------------- | :-------------------- |\n",
    "| Thermal Conductivity       |                       |\n",
    "| $\\quad$ Perpendicular to C | at 23°C: 23.0  W/m°C  |\n",
    "|                            | at 77°C: 16.8  W/m°C  |\n",
    "| $\\quad$ Parallel to C      | at 24°C: 25.8  W/m°C  |\n",
    "|                            | at 70°C: 17.35 W/m°C  |\n",
    "| Specific Heat              | at 18°C: 756 J/kg°C   |\n",
    "|                            | at -182°C: 104 J/kg°C |"
   ]
  },
  {
   "cell_type": "markdown",
   "metadata": {},
   "source": [
    "### Electrical Properties"
   ]
  },
  {
   "cell_type": "markdown",
   "metadata": {},
   "source": [
    "| property                   | value                    |\n",
    "| :------------------------- | :----------------------- |\n",
    "| Volume Resistivity         | at 25°C $10^{14}$ ohm/cm |\n",
    "| Dielectric Strength        | $4.8 \\times 10^5$        |\n",
    "| Dielectric Constant:       |                          |\n",
    "| $\\quad$ Perpendicular to C | 9.4                      |\n",
    "| $\\quad$ Parallel to C      | 11.5                     |\n",
    "| Dissipation Factor         | $10^-4\\tan\\delta$        |"
   ]
  },
  {
   "cell_type": "markdown",
   "metadata": {},
   "source": [
    "### CTE (Coefficient of Thermal Expansion), $\\ \\times 10^6 /\\,{}^\\circ\\text{C}$"
   ]
  },
  {
   "cell_type": "markdown",
   "metadata": {},
   "source": [
    "| Temp °C | Perpendicular to C | Parallel to C |\n",
    "| ------: | -----------------: | ------------: |\n",
    "|      70 |               6.95 |          5.90 |\n",
    "|     100 |               7.08 |          6.05 |\n",
    "|     200 |               7.66 |          6.60 |\n",
    "|     300 |               8.30 |          7.32 |\n",
    "|     400 |               9.00 |          8.07 |\n",
    "|     500 |               9.63 |          8.88 |\n",
    "|     600 |              10.45 |          9.77 |"
   ]
  },
  {
   "cell_type": "markdown",
   "metadata": {},
   "source": [
    "### Optical properties"
   ]
  },
  {
   "cell_type": "markdown",
   "metadata": {},
   "source": [
    "[(from RP-Photonics)](https://www.rp-photonics.com/titanium_sapphire_lasers.html)<br>\n",
    "Index of refraction, $800.0\\,\\mathrm{nm}$ ($1.5498\\,\\mathrm{eV}$): $1.7601$<br>\n",
    "Temperture dependence of the index of refraction: $13\\times10^{-6}\\,\\mathrm{K}^{-1}$<br>\n",
    "Emission cross-section at $790\\,\\mathrm{nm}$ (pol. $\\|$ $c$-axis): $4.1\\times10^{-19}$\n",
    "\n",
    "For graphs of the refractive index, see, for example,\n",
    "[0.2–5 µm](https://refractiveindex.info/?shelf=3d&book=crystals&page=sapphirehttps://refractiveindex.info/?shelf=3d&book=crystals&page=sapphire),\n",
    "but note the data there is for _sapphire_, not Ti:sapphire."
   ]
  },
  {
   "cell_type": "markdown",
   "metadata": {},
   "source": [
    "### Coefficient of thermal diffusion"
   ]
  },
  {
   "cell_type": "markdown",
   "metadata": {},
   "source": [
    "Make sure we have the dimensions right! They ought to be area/time.\n",
    "And make sure we have the units right! They ought to be $\\mathrm{cm}^2/\\mathrm{s}$.\n",
    "$$\n",
    "  \\alpha = \\frac{\\kappa}{\\rho c_p} \\approx\n",
    "           \\frac{24~\\text{W}\\,/\\,(\\text{m} ˚\\text{C})}{\n",
    "                 3.98\\times10^3~\\text{kg}\\,/\\,\\text{m}^3 \\cdot 756~\\text{J}\\,/\\,(\\text{kg} ˚\\text{C})}\n",
    "         \\approx 7.98\\times10^{-6}~\\text{m}^2\\,/\\,\\text{s}\n",
    "         \\approx 7.98\\times10^{-2}~\\text{cm}^2\\,/\\,\\text{s}\n",
    "$$"
   ]
  },
  {
   "cell_type": "markdown",
   "metadata": {},
   "source": [
    "Make sure we have the dimensions right: area/time;\n",
    "and also the units: $\\mathrm{mm}^2/\\mathrm{s}$.\n",
    "$$\n",
    "  \\alpha = \\frac{\\kappa}{\\rho c_p} \\approx\n",
    "           \\frac{24~\\text{W}\\,/\\,(\\text{m} ˚\\text{C})}{\n",
    "                 3.98\\times10^3~\\text{kg}\\,/\\,\\text{m}^3 \\cdot 756~\\text{J}\\,/\\,(\\text{kg} ˚\\text{C})}\n",
    "         \\approx 7.98\\times10^{-6}~\\text{m}^2\\,/\\,\\text{s}\n",
    "         \\approx 7.98~\\text{mm}^2\\,/\\,\\text{s}\n",
    "$$"
   ]
  },
  {
   "cell_type": "markdown",
   "metadata": {},
   "source": [
    "## Preamble"
   ]
  },
  {
   "cell_type": "markdown",
   "metadata": {},
   "source": [
    "Needed imports:"
   ]
  },
  {
   "cell_type": "code",
   "execution_count": null,
   "metadata": {},
   "outputs": [],
   "source": [
    "%matplotlib inline\n",
    "import matplotlib.pyplot as plt\n",
    "import plotly.graph_objects\n",
    "import numpy as np\n",
    "import time as tm\n",
    "import copy\n",
    "# import math as m"
   ]
  },
  {
   "cell_type": "code",
   "execution_count": null,
   "metadata": {
    "tags": []
   },
   "outputs": [],
   "source": [
    "from fenics import *"
   ]
  },
  {
   "cell_type": "code",
   "execution_count": null,
   "metadata": {
    "tags": []
   },
   "outputs": [],
   "source": [
    "from mshr import *   # now deprecated (?), transition to alternate mesh generator (?)"
   ]
  },
  {
   "cell_type": "markdown",
   "metadata": {
    "tags": []
   },
   "source": [
    "Define function to grab both min and max of a list:"
   ]
  },
  {
   "cell_type": "code",
   "execution_count": null,
   "metadata": {},
   "outputs": [],
   "source": [
    "def minmax(it):\n",
    "    min = max = None\n",
    "    for val in it:\n",
    "        if min is None or val < min:\n",
    "            min = val\n",
    "        if max is None or val > max:\n",
    "            max = val\n",
    "    return min, max"
   ]
  },
  {
   "cell_type": "markdown",
   "metadata": {},
   "source": [
    "Define averaging routines for circle and cylindrical shell:"
   ]
  },
  {
   "cell_type": "code",
   "execution_count": null,
   "metadata": {},
   "outputs": [],
   "source": [
    "# trapezoidal weights\n",
    "def trap_weights(n):\n",
    "    wts = np.ones(n)\n",
    "    wts[0] = 0.5\n",
    "    wts[-1] = 0.5\n",
    "    return(wts)\n",
    "\n",
    "# compute average of u on a circle of radius r at longitudinal position z\n",
    "# using a given number of points (num_thetas) spaced evenly about the circle\n",
    "# NB: do NOT bother doing something fancy here --- b/c u is periodic on the\n",
    "# circle, a Riemann sum converges exponentially fast as num_thetas increases\n",
    "def temp_on_circle(u, r, z, num_thetas):\n",
    "    thetas = np.linspace(0., 2.*pi, num_thetas, endpoint = False) \n",
    "    circle_points = [(r * cos(th_), r * sin(th_), z) for th_ in thetas]\n",
    "    return(np.mean([u(pt) for pt in circle_points]))\n",
    "\n",
    "# compute average of u over the surface of a cylinder of radius r\n",
    "# between longitudinal positions z0 znd z1\n",
    "def temp_on_cylinder(u, r, z0, z1, num_zs, num_thetas):\n",
    "    zs = np.linspace(z0, z1, num_zs)\n",
    "    t_circ = [temp_on_circle(u, r, z_, num_thetas) for z_ in zs]\n",
    "    return(np.average(t_circ, weights = trap_weights(num_zs)))"
   ]
  },
  {
   "cell_type": "markdown",
   "metadata": {},
   "source": [
    "Temperature dependence of Ti:Sapphire index of refraction."
   ]
  },
  {
   "cell_type": "code",
   "execution_count": null,
   "metadata": {},
   "outputs": [],
   "source": [
    "# index of refraction for Ti:Saphire\n",
    "refractive_index_at_20C = 1.7542 # Ti:Al2O3 at wavelength 800 nm, T = 20 C\n",
    "dndT = 13e-6  # 1/K\n",
    "\n",
    "def refractive_index_n(T):\n",
    "    \"refractive index as a function of temperature given in degrees C\"\n",
    "    return refractive_index_at_20C + dndT * (T - 20)"
   ]
  },
  {
   "cell_type": "markdown",
   "metadata": {},
   "source": [
    "## Simulation of thermal relaxation"
   ]
  },
  {
   "cell_type": "markdown",
   "metadata": {},
   "source": [
    "Define the simulation parameters:"
   ]
  },
  {
   "cell_type": "code",
   "execution_count": null,
   "metadata": {},
   "outputs": [],
   "source": [
    "## set up the problem and define (some of) the main parameters\n",
    "\n",
    "# simulation parameters\n",
    "# -- crystal properties\n",
    "a_Al2O3 = 7.98e-2  # cm^2/s diffusion constant of sapphire (Al2O3)\n",
    "a_perp  = 7.64e-2  # perpendicular to C\n",
    "a_para  = 8.57e-2  # parallel to C\n",
    "# -- crystal dimensions\n",
    "diam =  1.5        # diameter /cm\n",
    "leng =  1.0        # length /cm\n",
    "# -- time step\n",
    "T = 1.5            # total simulation time / sec\n",
    "n_steps = 150      # number of time steps\n",
    "dt = T / n_steps   # size of time step\n",
    "nip = 10           # number of intervals between records\n",
    "\n",
    "# derived parameters\n",
    "rad = diam / 2  # radius\n",
    "lh  = leng / 2  # half-length\n",
    "rad2 = rad * rad\n",
    "\n",
    "# # scaling\n",
    "# # (not used for now, but retaining as a reminder)\n",
    "# # -- omega & k (wave-number)\n",
    "# omega = 1.                       # rad / s\n",
    "# wvnum = np.sqrt(omega / a_Al2O3)  # 1 / cm\n",
    "# # -- scaled dimensions\n",
    "# rad_scl  = wvnum * diam / 2      # scaled radius\n",
    "# lh_scl   = wvnum * leng / 2      # scaled half-length\n",
    "# # -- scaled time\n",
    "# T_scl  = omega * T   # scaled simulation time\n",
    "# dt_scl = omega * dt  # scaled time-step\n",
    "\n",
    "print('sim. time: {0:5.3f} s'.format(T))\n",
    "print('time-step: {0:5.3f} s'.format(dt))\n",
    "print('plot-step: {0:5.3f} s / plot'.format(dt * nip))\n",
    "print('num-plots: {0:5d}'.format(int(n_steps / nip)))"
   ]
  },
  {
   "cell_type": "code",
   "execution_count": null,
   "metadata": {
    "tags": []
   },
   "outputs": [],
   "source": [
    "# create mesh: Cylinder(p_top, p_bot, r_top, r_bot)\n",
    "# ### not yet ### # -- do this in scaled coördinates\n",
    "# domain = Cylinder(Point(0, 0, lh_scl), Point(0., 0., -lh_scl), rad_scl, rad_scl)\n",
    "\n",
    "# create domain: Cylinder(p_top, p_bot, r_top, r_bot)\n",
    "domain = Cylinder(Point(0, 0, lh), Point(0., 0., -lh), rad, rad)\n",
    "\n",
    "# set the resolution : mesh density within cylinder\n",
    "# NB: I have not figured out the relation between this mesh density\n",
    "# parameter, the dimensions of the given domain, and the number of\n",
    "# cells, facets, edges, and vertices that compose the mesh.\n",
    "# In particular, reducing the domain’s dimensions while keeping the\n",
    "# mesh density constant will cause the size of the mesh to _increase_.\n",
    "# This seems counter-intuitive. Check the mesh size with\n",
    "# [ mesh.num_vertices(), mesh.num_cells(),  mesh.num_edges(),  mesh.num_facets() ]\n",
    "md = 32\n",
    "\n",
    "# mesh the domain ...\n",
    "mesh = generate_mesh(domain, md)\n",
    "# ... and define the function space on the mesh\n",
    "V = FunctionSpace(mesh, 'P', 1)"
   ]
  },
  {
   "cell_type": "code",
   "execution_count": null,
   "metadata": {},
   "outputs": [],
   "source": [
    "mesh"
   ]
  },
  {
   "cell_type": "code",
   "execution_count": null,
   "metadata": {},
   "outputs": [],
   "source": [
    "[ mesh.num_vertices(), mesh.num_cells(),  mesh.num_edges(),  mesh.num_facets() ]"
   ]
  },
  {
   "cell_type": "code",
   "execution_count": null,
   "metadata": {},
   "outputs": [],
   "source": [
    "# define boundary and initial conditions, and sources\n",
    "# T0    = 20.0   # deg C\n",
    "# dT    =  3.80  # deg C\n",
    "T0    =  0.0   # deg C\n",
    "dT    = 20.0   # deg C\n",
    "wdT   =  0.15  # cm\n",
    "ldT   =  0.40  # cm\n",
    "sg_px = 8      # 1\n",
    "sg_py = 1      # 1\n",
    "\n",
    "# define Dirichlet boundary condition for sides\n",
    "tol = 1.e-13\n",
    "def boundary_D(x, on_boundary):\n",
    "    return on_boundary and near(x[0]*x[0] + x[1]*x[1], rad2, tol)\n",
    "bc = DirichletBC(V, Constant(T0), boundary_D)\n",
    "\n",
    "# exp(decay) x SG\n",
    "hse = Expression('T0 + dT * (exp(-(x[2]+l/2)/dl) + exp((x[2]-l/2)/dl)) \\\n",
    "                    * exp(-0.5 * pow((x[0]*x[0] + x[1]*x[1])/(w*w), px))',\n",
    "                 degree=1, T0=T0, dT=dT, w=wdT, l=leng, dl=0.3*leng, px=sg_px)\n",
    "\n",
    "# T0 + dT x Θ(ε–r)\n",
    "bolus = Expression('T0 + dT * ((x[0]*x[0] + x[1]*x[1])/(w*w) < 1 ? 1 : 0)',\n",
    "                   degree=1, T0=T0, dT=dT, w=wdT)\n",
    "\n",
    "# define initial value\n",
    "u_n = interpolate(bolus, V)\n",
    "# u_n = interpolate(hse, V)\n",
    "# u_n = interpolate(Constant(T0), V)\n",
    "\n",
    "tol = 1e-2\n",
    "u_min = u_n(rad-tol, 0., 0.)\n",
    "u_max = u_n(0., 0., lh-tol)\n",
    "print(u_min, u_max)"
   ]
  },
  {
   "cell_type": "code",
   "execution_count": null,
   "metadata": {},
   "outputs": [],
   "source": [
    "tol = 1e-2\n",
    "u_n(rad-tol, 0., 0.), u_n(0., 0., lh-tol)"
   ]
  },
  {
   "cell_type": "markdown",
   "metadata": {},
   "source": [
    "define the variational problem and main simulation function `evolve`:"
   ]
  },
  {
   "cell_type": "code",
   "execution_count": null,
   "metadata": {},
   "outputs": [],
   "source": [
    "# define variational problem\n",
    "u = TrialFunction(V)\n",
    "v = TestFunction(V)\n",
    "\n",
    "# source term\n",
    "f = Constant(0)  # no source term\n",
    "# f = hse           # source term\n",
    "\n",
    "# F = u*v*dx + dt*a_Al2O3*dot(grad(u), grad(v))*dx - (u_n + dt*f)*v*dx + gi*v*ds  # w/ Neumann BC\n",
    "F = u*v*dx + dt*a_Al2O3*dot(grad(u), grad(v))*dx - (u_n + dt*f)*v*dx  # w/ Dirichlet + initial condition\n",
    "a, L = lhs(F), rhs(F)\n",
    "\n",
    "# define time-evolution function\n",
    "def evolve():\n",
    "\n",
    "    # report initial state\n",
    "    yield u_n\n",
    "\n",
    "    # time-stepping\n",
    "    u = Function(V)\n",
    "    t = 0\n",
    "    for n in range(1, n_steps + 1):\n",
    "\n",
    "        # update current time\n",
    "        t += dt\n",
    "\n",
    "        # compute solution\n",
    "        solve(a == L, u, bc)\n",
    "\n",
    "        # report current state\n",
    "        if n % nip == 0:\n",
    "            yield u\n",
    "\n",
    "        # update previous solution\n",
    "        u_n.assign(u)"
   ]
  },
  {
   "cell_type": "code",
   "execution_count": null,
   "metadata": {},
   "outputs": [],
   "source": [
    "# for 3D plots, get the facets, and build an array\n",
    "# containing the indices of their coordinates\n",
    "inds = []\n",
    "for item in dolfin.cpp.mesh.facets(mesh):\n",
    "    inds.append(item.entities(0).tolist())\n",
    "\n",
    "# we will provide these indices to plotly so it can draw proper surfaces\n",
    "inds = np.array(inds)\n",
    "ii = inds[:, 0]\n",
    "jj = inds[:, 1]\n",
    "kk = inds[:, 2]\n",
    "\n",
    "# get node coördinate values and ranges\n",
    "xvals = mesh.coordinates()[:,0]\n",
    "yvals = mesh.coordinates()[:,1]\n",
    "zvals = mesh.coordinates()[:,2]\n",
    "xmin, xmax = xvals.min(), xvals.max()\n",
    "ymin, ymax = yvals.min(), yvals.max()\n",
    "zmin, zmax = zvals.min(), zvals.max()"
   ]
  },
  {
   "cell_type": "markdown",
   "metadata": {},
   "source": [
    "**NB**: Before executing the next two cells a second time,\n",
    "you must first reëxecute the previous three code cells."
   ]
  },
  {
   "cell_type": "code",
   "execution_count": null,
   "metadata": {},
   "outputs": [],
   "source": [
    "n_rows = 1\n",
    "n_cols = 2\n",
    "# fig_wd = 15\n",
    "# default sizing here yields unit aspect ratio\n",
    "# plt.figure(figsize = (fig_wd, fig_wd * n_rows // n_cols))\n",
    "# plt.subplot(n_rows, n_cols, idx)\n",
    "\n",
    "fig = plt.figure(figsize=(13,8))\n",
    "fig1 = fig.add_subplot(n_rows, n_cols, 1)\n",
    "fig2 = fig.add_subplot(n_rows, n_cols, 2)\n",
    "\n",
    "tol = 8.e-3  # avoid points outside domain (for a coarse mesh, increase this value)\n",
    "xv = np.linspace(xmin * (1 - tol), xmax * (1 - tol), 201)\n",
    "zv = np.linspace(zmin * (1 - tol), zmax * (1 - tol), 201)\n",
    "radpts = [(x_, 0, 0) for x_ in xv]\n",
    "axipts = [(0, 0, z_) for z_ in zv]\n",
    "\n",
    "idx = 0\n",
    "t0 = tm.time()\n",
    "for u in evolve():\n",
    "    idx += 1\n",
    "    ux = np.array([u(pt) for pt in radpts])\n",
    "    uz = np.array([u(pt) for pt in axipts])\n",
    "    fig1.plot(xv, ux, lw=1)\n",
    "    fig2.plot(zv, uz, lw=1)  \n",
    "t1 = tm.time()\n",
    "\n",
    "fig1.plot(xv, ux, 'k', lw=1)\n",
    "fig2.plot(zv, uz, 'k', lw=1)  \n",
    "\n",
    "fig1.set_xlabel(r'transverse position $x\\,/\\,\\mathrm{cm}$')\n",
    "fig1.set_ylabel(r'$T\\,/\\,{}^\\circ\\mathrm{C}$')\n",
    "fig2.set_xlabel(r'longitudinal position $z\\,/\\,\\mathrm{cm}$')\n",
    "fig2.set_ylabel(r'$T\\,/\\,{}^\\circ\\mathrm{C}$')\n",
    "\n",
    "fig.savefig('heat_decay_profiles.pdf')\n",
    "fig.show()\n",
    "\n",
    "print(\"simulation time: %4.3f seconds\" % (t1 - t0))"
   ]
  },
  {
   "cell_type": "code",
   "execution_count": null,
   "metadata": {},
   "outputs": [],
   "source": [
    "uvals = u.compute_vertex_values()\n",
    "\n",
    "fig = plotly.graph_objects.Figure(\n",
    "    data=[plotly.graph_objects.Mesh3d(\n",
    "        x=xvals, y=yvals, z=zvals,\n",
    "        i=ii, j=jj, k=kk,\n",
    "        colorscale='viridis',\n",
    "        intensity=uvals,\n",
    "        alphahull=-1,\n",
    "        opacity=0.020\n",
    "    )]\n",
    ")\n",
    "# fig.update_layout(scene_aspectmode='data')\n",
    "fig.update_layout(\n",
    "    title='Title needs to be added...',\n",
    "    scene = dict(xaxis_title='x [m]', yaxis_title='y [m]', zaxis_title='TBD...'),\n",
    "    width=800, height=700, autosize=False,\n",
    "    margin=dict(l=65, r=50, b=65, t=90),\n",
    ")\n",
    "fig.show()"
   ]
  },
  {
   "cell_type": "code",
   "execution_count": null,
   "metadata": {},
   "outputs": [],
   "source": []
  }
 ],
 "metadata": {
  "kernelspec": {
   "display_name": "Python 3",
   "language": "python",
   "name": "py3"
  },
  "language_info": {
   "codemirror_mode": {
    "name": "ipython",
    "version": 3
   },
   "file_extension": ".py",
   "mimetype": "text/x-python",
   "name": "python",
   "nbconvert_exporter": "python",
   "pygments_lexer": "ipython3",
   "version": "3.9.15"
  }
 },
 "nbformat": 4,
 "nbformat_minor": 4
}
